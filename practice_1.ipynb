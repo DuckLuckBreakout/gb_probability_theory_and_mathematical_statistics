{
 "cells": [
  {
   "cell_type": "markdown",
   "metadata": {},
   "source": [
    "# Урок 1\n",
    "## Случайные события. Условная вероятность. Формула Байеса. Независимые испытания"
   ]
  },
  {
   "cell_type": "markdown",
   "metadata": {},
   "source": [
    "### Задача 1\n",
    "#### Условие:\n",
    "Имеется колода в 52 карты. Найти число возможностей вытянуть из неё 4 карты так, чтобы среди них был хотя бы один туз."
   ]
  },
  {
   "cell_type": "markdown",
   "metadata": {},
   "source": [
    "#### Решение:\n",
    "В колоде из 52 карт находится 4 туза и 48 других карт.\n",
    "\n",
    "Т.к. вытягивается 4 карты, то необходимо найти число комбинации, при которых из колоды вытягивается:\n",
    "- 1 туз и 3 карты, не являющиеся тузами\n",
    "- 2 туза и 2 карты, не являющиеся тузами\n",
    "- 3 туза и 1 карта, не являющаяся тузом\n",
    "- 4 туза\n",
    "           \n",
    "А после все эти комбинации сложить.\n",
    "\n",
    "То, в каком порядке вытягивались карты, неважно, т.е. будет использоваться формула для сочетаний: \n",
    "$$C_n^k = \\dfrac{n!}{k! (n - k)!}$$\n",
    "\n",
    "Пусть ${N_i}$ - число комбинаций при ${i}$ вытянутых тузах, тогда:\n",
    "$$N_1 = C_4^1 * C_{48}^3 $$\n",
    "$$N_2 = C_4^2 * C_{48}^2 $$\n",
    "$$N_3 = C_4^3 * C_{48}^1 $$\n",
    "$$N_4 = C_4^4 * C_{48}^0 $$\n",
    "\n",
    "$$N_i = C_4^i * C_{48}^{4-i} $$"
   ]
  },
  {
   "cell_type": "code",
   "execution_count": 1,
   "metadata": {},
   "outputs": [],
   "source": [
    "import numpy as np"
   ]
  },
  {
   "cell_type": "code",
   "execution_count": 2,
   "metadata": {},
   "outputs": [],
   "source": [
    "def combinations(n: int, k: int) -> int:\n",
    "    \"\"\"Число сочетаний.\n",
    "    \"\"\"\n",
    "    \n",
    "    return np.math.factorial(n) // (np.math.factorial(k) * np.math.factorial(n - k))"
   ]
  },
  {
   "cell_type": "code",
   "execution_count": 3,
   "metadata": {},
   "outputs": [
    {
     "data": {
      "text/plain": [
       "76145"
      ]
     },
     "execution_count": 3,
     "metadata": {},
     "output_type": "execute_result"
    }
   ],
   "source": [
    "sum(combinations(4, i)*combinations(48, 4-i) for i in range(1, 5))"
   ]
  },
  {
   "cell_type": "markdown",
   "metadata": {},
   "source": [
    "### Задача 2\n",
    "#### Условие:\n",
    "Семь человек рассаживаются наудачу на скамейке. \n",
    "\n",
    "Какова вероятность того, что рядом будут сидеть: \n",
    "   \n",
    "    а) два определённых человека? \n",
    "    б) три определённых человека?"
   ]
  },
  {
   "cell_type": "markdown",
   "metadata": {},
   "source": [
    "#### Решение:\n",
    "В данной задаче используется статическая вероятность:\n",
    "$$P(A) = \\frac{m}{n}$$\n",
    "\n",
    "Т.к. 7 человек могут сесть на скамейку 7! различными способами, то $n = 7!$\n",
    "Пусть первым садится крайний из искомых людей, тогда:\n",
    "\n",
    "а) у первого есть 6 вариантов рассадок, но при этом люди уникальные, т.е. первым может быть любой из двух, сл-но способов их рассадить - 6*2. Оставшиеся 5 человек могут сесть 5! способами. В конечном итоге $m = 6*2*5!$\n",
    "$$P(A) = \\frac{m}{n} = \\frac{6 * 2 * 5!}{7!}$$\n"
   ]
  },
  {
   "cell_type": "code",
   "execution_count": 4,
   "metadata": {},
   "outputs": [],
   "source": [
    "from math import factorial"
   ]
  },
  {
   "cell_type": "code",
   "execution_count": 5,
   "metadata": {},
   "outputs": [
    {
     "data": {
      "text/plain": [
       "0.2857142857142857"
      ]
     },
     "execution_count": 5,
     "metadata": {},
     "output_type": "execute_result"
    }
   ],
   "source": [
    "(6*2*factorial(5))/factorial(7)"
   ]
  },
  {
   "cell_type": "markdown",
   "metadata": {},
   "source": [
    "б) у первого есть 5 вариантов рассадок, но при этом люди уникальные, т.е. первым и вторым может быть любой из трех, сл-но способов их рассадить - 5*3!. Оставшиеся 4 человека могут сесть 4! способами. В конечном итоге $m = 5*3!*4!$\n",
    "$$P(A) = \\frac{m}{n} = \\frac{5 * 3! * 4!}{7!}$$"
   ]
  },
  {
   "cell_type": "code",
   "execution_count": 6,
   "metadata": {},
   "outputs": [
    {
     "data": {
      "text/plain": [
       "0.14285714285714285"
      ]
     },
     "execution_count": 6,
     "metadata": {},
     "output_type": "execute_result"
    }
   ],
   "source": [
    "(5*factorial(3)*factorial(4))/factorial(7)"
   ]
  },
  {
   "cell_type": "markdown",
   "metadata": {},
   "source": [
    "### Задача 3\n",
    "\n",
    "#### Условие:\n",
    "Из 60 вопросов, входящих в экзаменационные билеты, студент знает 50. Какова вероятность того, что среди трёх наугад выбранных вопросов студент знает: \n",
    "     \n",
    "     а) все? \n",
    "     б) два?"
   ]
  },
  {
   "cell_type": "markdown",
   "metadata": {},
   "source": [
    "#### Решение:\n",
    "Т.к. неважно, в каком порядке вытягиваются билеты, то будет использоваться формула для сочетаний:\n",
    "$$C_n^k = \\dfrac{n!}{k! (n - k)!}$$\n",
    "\n",
    "Всего исходов вытянуть 3 билета из 60 равно:\n",
    "$$C_{60}^3 = \\dfrac{60!}{3! (60 - 3)!}$$"
   ]
  },
  {
   "cell_type": "markdown",
   "metadata": {},
   "source": [
    "a) Число исходов, когда студент знает все 3 билета:\n",
    "$$C_{50}^3 = \\dfrac{50!}{3! (50 - 3)!} $$\n",
    "\n",
    "В таком случае вероятность равна:"
   ]
  },
  {
   "cell_type": "code",
   "execution_count": 7,
   "metadata": {},
   "outputs": [
    {
     "data": {
      "text/plain": [
       "0.5727644652250146"
      ]
     },
     "execution_count": 7,
     "metadata": {},
     "output_type": "execute_result"
    }
   ],
   "source": [
    "combinations(50, 3) / combinations(60, 3)"
   ]
  },
  {
   "cell_type": "markdown",
   "metadata": {},
   "source": [
    "б) Число исходов, когда студент знает 2 билета:\n",
    "$$C_{50}^2 = \\dfrac{50!}{2! (50 - 2)!} $$\n",
    "\n",
    "Число исходов, когда студент не знает 1 билет:\n",
    "$$C_{10}^1 = \\dfrac{10!}{1! (10 - 1)!} $$\n",
    "\n",
    "Т.е. число исходов, когда студент знает 2 билета и не знает 1 равно:\n",
    "$$C_{50}^2 * C_{10}^1$$\n",
    "\n",
    "В таком случае вероятность равна:"
   ]
  },
  {
   "cell_type": "code",
   "execution_count": 8,
   "metadata": {},
   "outputs": [
    {
     "data": {
      "text/plain": [
       "0.35797779076563413"
      ]
     },
     "execution_count": 8,
     "metadata": {},
     "output_type": "execute_result"
    }
   ],
   "source": [
    "(combinations(50, 2) * combinations(10, 1)) / combinations(60, 3)"
   ]
  },
  {
   "cell_type": "markdown",
   "metadata": {},
   "source": [
    "### Задача 4\n",
    "\n",
    "#### Условие:\n",
    "Бросается игральная кость. Пусть событие A - появление чётного числа, событие B - появление числа больше трёх. Являются ли эти события независимыми?"
   ]
  },
  {
   "cell_type": "markdown",
   "metadata": {},
   "source": [
    "#### Решение:\n",
    "События А и В являются независимыми, если $P(A|B)=P(A)$\n",
    "\n",
    "$P(A|B)$ - вероятность А при условии В, т.е. что числа четное при условии, что оно больше трех. Т.е. благоприятными исходами являются результаты 4 и 6, $$P(A|B) = \\dfrac{2}{3}$$\n",
    "\n",
    "$P(A) = \\dfrac{3}{6}$, т.к. всего исходов 6, а благоприятными являются 2, 4, 6.\n",
    "\n",
    "Т.е. $P(A|B) ≠ P(A)$, сл-но эти события не являются независимыми.\n"
   ]
  },
  {
   "cell_type": "markdown",
   "metadata": {},
   "source": [
    "### Задача 5\n",
    "\n",
    "#### Условие:\n",
    "Допустим, имеется некоторая очень редкая болезнь (поражает 0.1% населения). Вы приходите к врачу, вам делают тест на эту болезнь, и тест оказывается положительным. Врач говорит вам, что этот тест верно выявляет 99% больных этой болезнью и всего лишь в 1% случаев даёт ложный положительный ответ.\n",
    "\n",
    "_Вопрос:_ какова вероятность, что вы действительно больны ей?\n",
    "\n",
    "_Подсказка:_ вновь используйте формулу Байеса с раскрытием знаменателя с помощью формулы полной вероятности."
   ]
  },
  {
   "cell_type": "markdown",
   "metadata": {},
   "source": [
    "#### Решение:\n",
    "\n",
    "Формула Байеса:\n",
    "$$P(A|B) = \\dfrac{P(B|A) \\cdot P(A)}{P(B)}$$\n",
    "\n",
    "A - пациент болен\n",
    "\n",
    "В - тест пациента является положительным\n",
    "\n",
    "Раскрыв знаменатель по формуле полной вероятности получим:\n",
    "$$P(B) = P(B | A) \\cdot P(A) + P \\left( B | \\overline{A} \\right) \\cdot P \\left( \\overline{A} \\right)$$"
   ]
  },
  {
   "cell_type": "code",
   "execution_count": 9,
   "metadata": {},
   "outputs": [
    {
     "data": {
      "text/plain": [
       "0.01098"
      ]
     },
     "execution_count": 9,
     "metadata": {},
     "output_type": "execute_result"
    }
   ],
   "source": [
    "p_b = 0.99*0.001 + 0.01*0.999\n",
    "p_b"
   ]
  },
  {
   "cell_type": "markdown",
   "metadata": {},
   "source": [
    "Подстановка полученного значения $P(B)$ в формулу для $P(A|B)$:"
   ]
  },
  {
   "cell_type": "code",
   "execution_count": 10,
   "metadata": {},
   "outputs": [
    {
     "data": {
      "text/plain": [
       "0.09016393442622951"
      ]
     },
     "execution_count": 10,
     "metadata": {},
     "output_type": "execute_result"
    }
   ],
   "source": [
    "(0.99*0.001)/p_b"
   ]
  },
  {
   "cell_type": "code",
   "execution_count": null,
   "metadata": {},
   "outputs": [],
   "source": []
  }
 ],
 "metadata": {
  "kernelspec": {
   "display_name": "Python 3",
   "language": "python",
   "name": "python3"
  },
  "language_info": {
   "codemirror_mode": {
    "name": "ipython",
    "version": 3
   },
   "file_extension": ".py",
   "mimetype": "text/x-python",
   "name": "python",
   "nbconvert_exporter": "python",
   "pygments_lexer": "ipython3",
   "version": "3.7.6"
  }
 },
 "nbformat": 4,
 "nbformat_minor": 4
}
