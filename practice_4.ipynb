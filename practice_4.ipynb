{
 "cells": [
  {
   "cell_type": "markdown",
   "metadata": {},
   "source": [
    "# Урок 4\n",
    "## Непрерывные случайные величины. Функция распределения и плотность распределения вероятностей. Равномерное и нормальное распределение. Центральная предельная теорема\n"
   ]
  },
  {
   "cell_type": "markdown",
   "metadata": {},
   "source": [
    "### Задача 1\n",
    "\n",
    "#### Условие:\n",
    "О непрерывной равномерно распределённой случайной величине `B` известно, что её дисперсия равна `0.2`. Можно ли найти правую границу величины `B` и её среднее значение зная, что левая граница равна `0.5`? Если да, найдите их."
   ]
  },
  {
   "cell_type": "markdown",
   "metadata": {},
   "source": [
    "#### Решение:\n",
    "По следующей формуле можно рассчитать дисперсию $D(X)$:$$D(X) = \\frac{(b - a)^2}{12}$$\n",
    "По условию:\n",
    "\n",
    "$D(B)=0.2$\n",
    "\n",
    "$a = 0.5$\n",
    "\n",
    "Сл-но формула $D(X) = \\frac{(b - a)^2}{12}$ принимает вид: $$0.2 = \\frac{(b - 0.5)^2}{12}$$\n",
    "\n",
    "Найдем отсюда $b$:\n",
    "\n",
    "$0.2 * 12= b^2 -2*0.5*b+0.5^2$\n",
    "\n",
    "$0= b^2 - 1*b - 2.15$\n",
    "\n",
    "\n",
    "$b_1 = 2.049$\n",
    "\n",
    "$b_2 = -1.049$\n",
    "\n",
    "\n",
    "Но левая граница равна $0.5$, сл-но правая граница не может быть меньше этого значения, сл-но $b_2 = -1.049$ не удовлетворяет данному условию.\n",
    "\n",
    "Сл-но правой границей является число $2.049$\n"
   ]
  },
  {
   "cell_type": "markdown",
   "metadata": {},
   "source": [
    "### Задача 2\n",
    "\n",
    "#### Условие:\n",
    "\n",
    "Коробки с шоколадом упаковываются автоматически. Их средняя масса равна `1.06 кг`. Известно, что `5%` коробок имеют массу, меньшую `1 кг`. \n",
    "Найдите: \n",
    "     \n",
    "     а) среднее квадратическое отклонение массы коробки\n",
    "     б) процент коробок, имеющих массу больше 1.1 кг\n",
    "\n",
    "___Подсказка___. Найдите такое значение `scale`, для которого значение `cdf(x=1, loc=1.06, scale=scale)` близко к `0.05`. Точности `0.0001` будет достаточно."
   ]
  },
  {
   "cell_type": "markdown",
   "metadata": {},
   "source": [
    "#### Решение:"
   ]
  },
  {
   "cell_type": "code",
   "execution_count": 24,
   "metadata": {},
   "outputs": [
    {
     "data": {
      "text/plain": [
       "0.03647613525390625"
      ]
     },
     "execution_count": 24,
     "metadata": {},
     "output_type": "execute_result"
    }
   ],
   "source": [
    "# Пункт а\n",
    "import numpy\n",
    "from scipy import stats, optimize\n",
    "\n",
    "def f(scale: float):\n",
    "    return stats.norm.cdf(x=1, loc=1.06, scale=scale) - 0.05\n",
    "\n",
    "\n",
    "def search(f, a, b, eps):\n",
    "    mid = (a + b)/2\n",
    "    if abs(f(a) - f(b)) < eps:\n",
    "        return mid\n",
    "    \n",
    "    test = f(mid)\n",
    "    \n",
    "    if test>0:\n",
    "        return search(f, a, mid, eps)\n",
    "    elif test<0:\n",
    "        return search(f, mid, b, eps)\n",
    "    return mid\n",
    "\n",
    "search(f, 0, 1, 0.0001)"
   ]
  },
  {
   "cell_type": "markdown",
   "metadata": {},
   "source": [
    "Пункт б:\n",
    "\n",
    "Найти этот процент коробок можно сделать с помощью функции распределения:\n"
   ]
  },
  {
   "cell_type": "code",
   "execution_count": 25,
   "metadata": {},
   "outputs": [
    {
     "data": {
      "text/plain": [
       "0.13640652467680425"
      ]
     },
     "execution_count": 25,
     "metadata": {},
     "output_type": "execute_result"
    }
   ],
   "source": [
    "1 - stats.norm.cdf(x=1.1, loc=1.06, scale=0.03647613525390625)"
   ]
  },
  {
   "cell_type": "markdown",
   "metadata": {},
   "source": [
    "### Задача 3\n",
    "#### Условие:\n",
    "Коробка содержит `30` конфет. Известно, что масса каждой конфеты распределена равномерно в промежутке от `12` до `14` граммов. \n",
    "Используя центральную предельную теорему, найти вероятность, что масса всей коробки будет: \n",
    "\n",
    "    а) меньше 390 граммов\n",
    "    б) больше 395 граммов\n",
    "    в) от 380 до 400 граммов\n",
    "\n",
    "Массой самой коробки можно пренебречь."
   ]
  },
  {
   "cell_type": "markdown",
   "metadata": {},
   "source": [
    "#### Решение:\n",
    "Найдем математическое ожидание и дисперсию массы конфеты:\n",
    "$$M(X) = \\frac{a + b}{2}$$\n",
    "$$D(X) = \\frac{(b - a)^2}{12}$$\n",
    "\n",
    "В нашем случае:\n",
    "\n",
    "$M(X) = \\frac{a + b}{2} = \\frac{12 + 14}{2} = 13 $\n",
    "\n",
    "$D(X) = \\frac{(b - a)^2}{12} = \\frac{(14 - 2)^2}{12} = \\frac{4}{12} = \\frac{1}{3} $\n",
    "\n",
    "По центральной предельной теореме:\n",
    "\n",
    "$\\mu = 30 * M(X) = 30*13 = 390$\n",
    "\n",
    "$\\sigma^2 = 30 * D(X) = 30 * \\frac{1}{3} = 10$"
   ]
  },
  {
   "cell_type": "code",
   "execution_count": 30,
   "metadata": {},
   "outputs": [],
   "source": [
    "mu = 390\n",
    "sigma = numpy.sqrt(10)\n",
    "norm = stats.norm(loc=mu, scale=sigma)"
   ]
  },
  {
   "cell_type": "markdown",
   "metadata": {},
   "source": [
    "а) меньше 390 граммов"
   ]
  },
  {
   "cell_type": "code",
   "execution_count": 31,
   "metadata": {},
   "outputs": [
    {
     "data": {
      "text/plain": [
       "0.5"
      ]
     },
     "execution_count": 31,
     "metadata": {},
     "output_type": "execute_result"
    }
   ],
   "source": [
    "norm.cdf(390)"
   ]
  },
  {
   "cell_type": "markdown",
   "metadata": {},
   "source": [
    "б) больше 395 граммов"
   ]
  },
  {
   "cell_type": "code",
   "execution_count": 32,
   "metadata": {},
   "outputs": [
    {
     "data": {
      "text/plain": [
       "0.056923149003329065"
      ]
     },
     "execution_count": 32,
     "metadata": {},
     "output_type": "execute_result"
    }
   ],
   "source": [
    "1 - norm.cdf(395)"
   ]
  },
  {
   "cell_type": "markdown",
   "metadata": {},
   "source": [
    "в) от 380 до 400 граммов"
   ]
  },
  {
   "cell_type": "code",
   "execution_count": 33,
   "metadata": {},
   "outputs": [
    {
     "data": {
      "text/plain": [
       "0.9984345977419975"
      ]
     },
     "execution_count": 33,
     "metadata": {},
     "output_type": "execute_result"
    }
   ],
   "source": [
    "norm.cdf(400) - norm.cdf(380)"
   ]
  },
  {
   "cell_type": "code",
   "execution_count": null,
   "metadata": {},
   "outputs": [],
   "source": []
  }
 ],
 "metadata": {
  "kernelspec": {
   "display_name": "Python 3",
   "language": "python",
   "name": "python3"
  },
  "language_info": {
   "codemirror_mode": {
    "name": "ipython",
    "version": 3
   },
   "file_extension": ".py",
   "mimetype": "text/x-python",
   "name": "python",
   "nbconvert_exporter": "python",
   "pygments_lexer": "ipython3",
   "version": "3.7.6"
  }
 },
 "nbformat": 4,
 "nbformat_minor": 4
}
