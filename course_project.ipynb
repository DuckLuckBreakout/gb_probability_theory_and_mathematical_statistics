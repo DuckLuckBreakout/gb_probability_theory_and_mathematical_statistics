{
 "cells": [
  {
   "cell_type": "markdown",
   "metadata": {
    "pycharm": {
     "name": "#%% md\n"
    }
   },
   "source": [
    "1. Проверить гипотезу: параметр `price` перчаток с параметром `case == Clutch Case`, в среднем сильнее зависит от показателя `wear_value`, чем с параметром `case == Glove Case`, Operation Hydra Case\n",
    "2. Найти перчатки, у которых показатель `wear_value`: а) изменяется больше, чем у всех остальных; б) изменяется меньше, чем у всех остальных\n",
    "3. Составить рейтинг перчаток, которые имеют сильную зависимость цены от `wear_value`, но которые можно чаще всего купить за стандартную цену. Посчитать среднюю прибыль перепродажи таких предметов за `n` дней."
   ]
  },
  {
   "cell_type": "code",
   "execution_count": 1,
   "metadata": {
    "pycharm": {
     "is_executing": false
    }
   },
   "outputs": [],
   "source": [
    "import pandas as pd"
   ]
  },
  {
   "cell_type": "code",
   "execution_count": 37,
   "metadata": {},
   "outputs": [
    {
     "data": {
      "text/html": [
       "<div>\n",
       "<style scoped>\n",
       "    .dataframe tbody tr th:only-of-type {\n",
       "        vertical-align: middle;\n",
       "    }\n",
       "\n",
       "    .dataframe tbody tr th {\n",
       "        vertical-align: top;\n",
       "    }\n",
       "\n",
       "    .dataframe thead th {\n",
       "        text-align: right;\n",
       "    }\n",
       "</style>\n",
       "<table border=\"1\" class=\"dataframe\">\n",
       "  <thead>\n",
       "    <tr style=\"text-align: right;\">\n",
       "      <th></th>\n",
       "      <th>market_hash_name</th>\n",
       "      <th>price</th>\n",
       "      <th>wear_value</th>\n",
       "      <th>sold_at</th>\n",
       "      <th>quality</th>\n",
       "      <th>case</th>\n",
       "    </tr>\n",
       "  </thead>\n",
       "  <tbody>\n",
       "    <tr>\n",
       "      <th>0</th>\n",
       "      <td>★ Moto Gloves | Cool Mint (Well-Worn)</td>\n",
       "      <td>131.66</td>\n",
       "      <td>-1.000000</td>\n",
       "      <td>1513873445</td>\n",
       "      <td>WW</td>\n",
       "      <td>Glove Case, Operation Hydra Case</td>\n",
       "    </tr>\n",
       "    <tr>\n",
       "      <th>1</th>\n",
       "      <td>★ Driver Gloves | Lunar Weave (Battle-Scarred)</td>\n",
       "      <td>73.74</td>\n",
       "      <td>0.585385</td>\n",
       "      <td>1561561294</td>\n",
       "      <td>BS</td>\n",
       "      <td>Glove Case, Operation Hydra Case</td>\n",
       "    </tr>\n",
       "    <tr>\n",
       "      <th>2</th>\n",
       "      <td>★ Hand Wraps | Leather (Battle-Scarred)</td>\n",
       "      <td>94.50</td>\n",
       "      <td>0.747108</td>\n",
       "      <td>1538346436</td>\n",
       "      <td>BS</td>\n",
       "      <td>Glove Case, Operation Hydra Case</td>\n",
       "    </tr>\n",
       "    <tr>\n",
       "      <th>3</th>\n",
       "      <td>★ Specialist Gloves | Emerald Web (Minimal Wear)</td>\n",
       "      <td>609.99</td>\n",
       "      <td>0.127194</td>\n",
       "      <td>1555932285</td>\n",
       "      <td>MW</td>\n",
       "      <td>Glove Case, Operation Hydra Case</td>\n",
       "    </tr>\n",
       "    <tr>\n",
       "      <th>4</th>\n",
       "      <td>★ Driver Gloves | Imperial Plaid (Well-Worn)</td>\n",
       "      <td>225.99</td>\n",
       "      <td>0.382708</td>\n",
       "      <td>1559791453</td>\n",
       "      <td>WW</td>\n",
       "      <td>Clutch Case</td>\n",
       "    </tr>\n",
       "    <tr>\n",
       "      <th>...</th>\n",
       "      <td>...</td>\n",
       "      <td>...</td>\n",
       "      <td>...</td>\n",
       "      <td>...</td>\n",
       "      <td>...</td>\n",
       "      <td>...</td>\n",
       "    </tr>\n",
       "    <tr>\n",
       "      <th>26236</th>\n",
       "      <td>★ Hand Wraps | Badlands (Well-Worn)</td>\n",
       "      <td>135.00</td>\n",
       "      <td>0.382254</td>\n",
       "      <td>1587296787</td>\n",
       "      <td>WW</td>\n",
       "      <td>Glove Case, Operation Hydra Case</td>\n",
       "    </tr>\n",
       "    <tr>\n",
       "      <th>26237</th>\n",
       "      <td>★ Hand Wraps | Badlands (Battle-Scarred)</td>\n",
       "      <td>68.19</td>\n",
       "      <td>0.762055</td>\n",
       "      <td>1553500961</td>\n",
       "      <td>BS</td>\n",
       "      <td>Glove Case, Operation Hydra Case</td>\n",
       "    </tr>\n",
       "    <tr>\n",
       "      <th>26238</th>\n",
       "      <td>★ Hand Wraps | Arboreal (Field-Tested)</td>\n",
       "      <td>100.25</td>\n",
       "      <td>0.366468</td>\n",
       "      <td>1595437849</td>\n",
       "      <td>FT</td>\n",
       "      <td>Clutch Case</td>\n",
       "    </tr>\n",
       "    <tr>\n",
       "      <th>26239</th>\n",
       "      <td>★ Sport Gloves | Omega (Battle-Scarred)</td>\n",
       "      <td>199.00</td>\n",
       "      <td>0.625256</td>\n",
       "      <td>1537803224</td>\n",
       "      <td>BS</td>\n",
       "      <td>Clutch Case</td>\n",
       "    </tr>\n",
       "    <tr>\n",
       "      <th>26240</th>\n",
       "      <td>★ Specialist Gloves | Fade (Field-Tested)</td>\n",
       "      <td>347.23</td>\n",
       "      <td>0.366815</td>\n",
       "      <td>1595439661</td>\n",
       "      <td>FT</td>\n",
       "      <td>Clutch Case</td>\n",
       "    </tr>\n",
       "  </tbody>\n",
       "</table>\n",
       "<p>26241 rows × 6 columns</p>\n",
       "</div>"
      ],
      "text/plain": [
       "                                       market_hash_name   price  wear_value  \\\n",
       "0                 ★ Moto Gloves | Cool Mint (Well-Worn)  131.66   -1.000000   \n",
       "1        ★ Driver Gloves | Lunar Weave (Battle-Scarred)   73.74    0.585385   \n",
       "2               ★ Hand Wraps | Leather (Battle-Scarred)   94.50    0.747108   \n",
       "3      ★ Specialist Gloves | Emerald Web (Minimal Wear)  609.99    0.127194   \n",
       "4          ★ Driver Gloves | Imperial Plaid (Well-Worn)  225.99    0.382708   \n",
       "...                                                 ...     ...         ...   \n",
       "26236               ★ Hand Wraps | Badlands (Well-Worn)  135.00    0.382254   \n",
       "26237          ★ Hand Wraps | Badlands (Battle-Scarred)   68.19    0.762055   \n",
       "26238            ★ Hand Wraps | Arboreal (Field-Tested)  100.25    0.366468   \n",
       "26239           ★ Sport Gloves | Omega (Battle-Scarred)  199.00    0.625256   \n",
       "26240         ★ Specialist Gloves | Fade (Field-Tested)  347.23    0.366815   \n",
       "\n",
       "          sold_at quality                              case  \n",
       "0      1513873445      WW  Glove Case, Operation Hydra Case  \n",
       "1      1561561294      BS  Glove Case, Operation Hydra Case  \n",
       "2      1538346436      BS  Glove Case, Operation Hydra Case  \n",
       "3      1555932285      MW  Glove Case, Operation Hydra Case  \n",
       "4      1559791453      WW                       Clutch Case  \n",
       "...           ...     ...                               ...  \n",
       "26236  1587296787      WW  Glove Case, Operation Hydra Case  \n",
       "26237  1553500961      BS  Glove Case, Operation Hydra Case  \n",
       "26238  1595437849      FT                       Clutch Case  \n",
       "26239  1537803224      BS                       Clutch Case  \n",
       "26240  1595439661      FT                       Clutch Case  \n",
       "\n",
       "[26241 rows x 6 columns]"
      ]
     },
     "execution_count": 37,
     "metadata": {},
     "output_type": "execute_result"
    }
   ],
   "source": [
    "df = pd.read_csv('data.csv')\n",
    "df"
   ]
  },
  {
   "cell_type": "markdown",
   "source": [
    "# Подготовка данных:"
   ],
   "metadata": {
    "collapsed": false
   }
  },
  {
   "cell_type": "markdown",
   "source": [
    "Уберем окончание значений `name`, которое указывает на `quality`:"
   ],
   "metadata": {
    "collapsed": false
   }
  },
  {
   "cell_type": "code",
   "execution_count": null,
   "outputs": [],
   "source": [
    "df['name'] = df['market_hash_name'][:df['market_hash_name'].str.index('(')]"
   ],
   "metadata": {
    "collapsed": false,
    "pycharm": {
     "name": "#%%\n"
    }
   }
  },
  {
   "cell_type": "markdown",
   "source": [
    "Значение `price` должно быть строго больше нуля.\n",
    "\n",
    "Исключим из выборки строки, которые не удовлетворяют данному условию, если они имеются:"
   ],
   "metadata": {
    "collapsed": false
   }
  },
  {
   "cell_type": "code",
   "execution_count": null,
   "outputs": [],
   "source": [
    "df = df[df['price'] > 0]\n",
    "df"
   ],
   "metadata": {
    "collapsed": false,
    "pycharm": {
     "name": "#%%\n"
    }
   }
  },
  {
   "cell_type": "markdown",
   "source": [
    "Значение `wear_value` должно лежать в интервале (0, 1)\n",
    "\n",
    "Будем рассматривать только строки с корректным значением `wear_value`:"
   ],
   "metadata": {
    "collapsed": false
   }
  },
  {
   "cell_type": "code",
   "execution_count": null,
   "outputs": [],
   "source": [
    "df = df[(df['wear_value'] > 0) & (df['wear_value'] < 1)]\n",
    "df"
   ],
   "metadata": {
    "collapsed": false,
    "pycharm": {
     "name": "#%%\n"
    }
   }
  },
  {
   "cell_type": "markdown",
   "metadata": {},
   "source": []
  },
  {
   "cell_type": "markdown",
   "metadata": {},
   "source": [
    "Уберем окончание значений `name`, которое указывает на `quality`:"
   ]
  },
  {
   "cell_type": "code",
   "execution_count": 39,
   "metadata": {},
   "outputs": [
    {
     "ename": "TypeError",
     "evalue": "cannot do slice indexing on <class 'pandas.core.indexes.range.RangeIndex'> with these indexers [0        26\n1        30\n2        23\n3        34\n4        33\n         ..\n26236    24\n26237    24\n26238    24\n26239    23\n26240    27\nName: market_hash_name, Length: 26241, dtype: int64] of <class 'pandas.core.series.Series'>",
     "output_type": "error",
     "traceback": [
      "\u001b[0;31m---------------------------------------------------------------------------\u001b[0m",
      "\u001b[0;31mTypeError\u001b[0m                                 Traceback (most recent call last)",
      "\u001b[0;32m<ipython-input-39-6058224d05c2>\u001b[0m in \u001b[0;36m<module>\u001b[0;34m\u001b[0m\n\u001b[0;32m----> 1\u001b[0;31m \u001b[0mdf\u001b[0m\u001b[0;34m[\u001b[0m\u001b[0;34m'name'\u001b[0m\u001b[0;34m]\u001b[0m \u001b[0;34m=\u001b[0m \u001b[0mdf\u001b[0m\u001b[0;34m[\u001b[0m\u001b[0;34m'market_hash_name'\u001b[0m\u001b[0;34m]\u001b[0m\u001b[0;34m[\u001b[0m\u001b[0;34m:\u001b[0m\u001b[0mdf\u001b[0m\u001b[0;34m[\u001b[0m\u001b[0;34m'market_hash_name'\u001b[0m\u001b[0;34m]\u001b[0m\u001b[0;34m.\u001b[0m\u001b[0mstr\u001b[0m\u001b[0;34m.\u001b[0m\u001b[0mindex\u001b[0m\u001b[0;34m(\u001b[0m\u001b[0;34m'('\u001b[0m\u001b[0;34m)\u001b[0m\u001b[0;34m]\u001b[0m\u001b[0;34m\u001b[0m\u001b[0;34m\u001b[0m\u001b[0m\n\u001b[0m",
      "\u001b[0;32m~/anaconda3/lib/python3.7/site-packages/pandas/core/series.py\u001b[0m in \u001b[0;36m__getitem__\u001b[0;34m(self, key)\u001b[0m\n\u001b[1;32m    908\u001b[0m             \u001b[0mkey\u001b[0m \u001b[0;34m=\u001b[0m \u001b[0mcheck_bool_indexer\u001b[0m\u001b[0;34m(\u001b[0m\u001b[0mself\u001b[0m\u001b[0;34m.\u001b[0m\u001b[0mindex\u001b[0m\u001b[0;34m,\u001b[0m \u001b[0mkey\u001b[0m\u001b[0;34m)\u001b[0m\u001b[0;34m\u001b[0m\u001b[0;34m\u001b[0m\u001b[0m\n\u001b[1;32m    909\u001b[0m \u001b[0;34m\u001b[0m\u001b[0m\n\u001b[0;32m--> 910\u001b[0;31m         \u001b[0;32mreturn\u001b[0m \u001b[0mself\u001b[0m\u001b[0;34m.\u001b[0m\u001b[0m_get_with\u001b[0m\u001b[0;34m(\u001b[0m\u001b[0mkey\u001b[0m\u001b[0;34m)\u001b[0m\u001b[0;34m\u001b[0m\u001b[0;34m\u001b[0m\u001b[0m\n\u001b[0m\u001b[1;32m    911\u001b[0m \u001b[0;34m\u001b[0m\u001b[0m\n\u001b[1;32m    912\u001b[0m     \u001b[0;32mdef\u001b[0m \u001b[0m_get_with\u001b[0m\u001b[0;34m(\u001b[0m\u001b[0mself\u001b[0m\u001b[0;34m,\u001b[0m \u001b[0mkey\u001b[0m\u001b[0;34m)\u001b[0m\u001b[0;34m:\u001b[0m\u001b[0;34m\u001b[0m\u001b[0;34m\u001b[0m\u001b[0m\n",
      "\u001b[0;32m~/anaconda3/lib/python3.7/site-packages/pandas/core/series.py\u001b[0m in \u001b[0;36m_get_with\u001b[0;34m(self, key)\u001b[0m\n\u001b[1;32m    913\u001b[0m         \u001b[0;31m# other: fancy integer or otherwise\u001b[0m\u001b[0;34m\u001b[0m\u001b[0;34m\u001b[0m\u001b[0;34m\u001b[0m\u001b[0m\n\u001b[1;32m    914\u001b[0m         \u001b[0;32mif\u001b[0m \u001b[0misinstance\u001b[0m\u001b[0;34m(\u001b[0m\u001b[0mkey\u001b[0m\u001b[0;34m,\u001b[0m \u001b[0mslice\u001b[0m\u001b[0;34m)\u001b[0m\u001b[0;34m:\u001b[0m\u001b[0;34m\u001b[0m\u001b[0;34m\u001b[0m\u001b[0m\n\u001b[0;32m--> 915\u001b[0;31m             \u001b[0;32mreturn\u001b[0m \u001b[0mself\u001b[0m\u001b[0;34m.\u001b[0m\u001b[0m_slice\u001b[0m\u001b[0;34m(\u001b[0m\u001b[0mkey\u001b[0m\u001b[0;34m)\u001b[0m\u001b[0;34m\u001b[0m\u001b[0;34m\u001b[0m\u001b[0m\n\u001b[0m\u001b[1;32m    916\u001b[0m         \u001b[0;32melif\u001b[0m \u001b[0misinstance\u001b[0m\u001b[0;34m(\u001b[0m\u001b[0mkey\u001b[0m\u001b[0;34m,\u001b[0m \u001b[0mABCDataFrame\u001b[0m\u001b[0;34m)\u001b[0m\u001b[0;34m:\u001b[0m\u001b[0;34m\u001b[0m\u001b[0;34m\u001b[0m\u001b[0m\n\u001b[1;32m    917\u001b[0m             raise TypeError(\n",
      "\u001b[0;32m~/anaconda3/lib/python3.7/site-packages/pandas/core/series.py\u001b[0m in \u001b[0;36m_slice\u001b[0;34m(self, slobj, axis, kind)\u001b[0m\n\u001b[1;32m    863\u001b[0m \u001b[0;34m\u001b[0m\u001b[0m\n\u001b[1;32m    864\u001b[0m     \u001b[0;32mdef\u001b[0m \u001b[0m_slice\u001b[0m\u001b[0;34m(\u001b[0m\u001b[0mself\u001b[0m\u001b[0;34m,\u001b[0m \u001b[0mslobj\u001b[0m\u001b[0;34m:\u001b[0m \u001b[0mslice\u001b[0m\u001b[0;34m,\u001b[0m \u001b[0maxis\u001b[0m\u001b[0;34m:\u001b[0m \u001b[0mint\u001b[0m \u001b[0;34m=\u001b[0m \u001b[0;36m0\u001b[0m\u001b[0;34m,\u001b[0m \u001b[0mkind\u001b[0m\u001b[0;34m=\u001b[0m\u001b[0;32mNone\u001b[0m\u001b[0;34m)\u001b[0m\u001b[0;34m:\u001b[0m\u001b[0;34m\u001b[0m\u001b[0;34m\u001b[0m\u001b[0m\n\u001b[0;32m--> 865\u001b[0;31m         \u001b[0mslobj\u001b[0m \u001b[0;34m=\u001b[0m \u001b[0mself\u001b[0m\u001b[0;34m.\u001b[0m\u001b[0mindex\u001b[0m\u001b[0;34m.\u001b[0m\u001b[0m_convert_slice_indexer\u001b[0m\u001b[0;34m(\u001b[0m\u001b[0mslobj\u001b[0m\u001b[0;34m,\u001b[0m \u001b[0mkind\u001b[0m\u001b[0;34m=\u001b[0m\u001b[0mkind\u001b[0m \u001b[0;32mor\u001b[0m \u001b[0;34m\"getitem\"\u001b[0m\u001b[0;34m)\u001b[0m\u001b[0;34m\u001b[0m\u001b[0;34m\u001b[0m\u001b[0m\n\u001b[0m\u001b[1;32m    866\u001b[0m         \u001b[0;32mreturn\u001b[0m \u001b[0mself\u001b[0m\u001b[0;34m.\u001b[0m\u001b[0m_get_values\u001b[0m\u001b[0;34m(\u001b[0m\u001b[0mslobj\u001b[0m\u001b[0;34m)\u001b[0m\u001b[0;34m\u001b[0m\u001b[0;34m\u001b[0m\u001b[0m\n\u001b[1;32m    867\u001b[0m \u001b[0;34m\u001b[0m\u001b[0m\n",
      "\u001b[0;32m~/anaconda3/lib/python3.7/site-packages/pandas/core/indexes/base.py\u001b[0m in \u001b[0;36m_convert_slice_indexer\u001b[0;34m(self, key, kind)\u001b[0m\n\u001b[1;32m   2937\u001b[0m                 return slice(\n\u001b[1;32m   2938\u001b[0m                     \u001b[0mself\u001b[0m\u001b[0;34m.\u001b[0m\u001b[0m_validate_indexer\u001b[0m\u001b[0;34m(\u001b[0m\u001b[0;34m\"slice\"\u001b[0m\u001b[0;34m,\u001b[0m \u001b[0mkey\u001b[0m\u001b[0;34m.\u001b[0m\u001b[0mstart\u001b[0m\u001b[0;34m,\u001b[0m \u001b[0mkind\u001b[0m\u001b[0;34m)\u001b[0m\u001b[0;34m,\u001b[0m\u001b[0;34m\u001b[0m\u001b[0;34m\u001b[0m\u001b[0m\n\u001b[0;32m-> 2939\u001b[0;31m                     \u001b[0mself\u001b[0m\u001b[0;34m.\u001b[0m\u001b[0m_validate_indexer\u001b[0m\u001b[0;34m(\u001b[0m\u001b[0;34m\"slice\"\u001b[0m\u001b[0;34m,\u001b[0m \u001b[0mkey\u001b[0m\u001b[0;34m.\u001b[0m\u001b[0mstop\u001b[0m\u001b[0;34m,\u001b[0m \u001b[0mkind\u001b[0m\u001b[0;34m)\u001b[0m\u001b[0;34m,\u001b[0m\u001b[0;34m\u001b[0m\u001b[0;34m\u001b[0m\u001b[0m\n\u001b[0m\u001b[1;32m   2940\u001b[0m                     \u001b[0mself\u001b[0m\u001b[0;34m.\u001b[0m\u001b[0m_validate_indexer\u001b[0m\u001b[0;34m(\u001b[0m\u001b[0;34m\"slice\"\u001b[0m\u001b[0;34m,\u001b[0m \u001b[0mkey\u001b[0m\u001b[0;34m.\u001b[0m\u001b[0mstep\u001b[0m\u001b[0;34m,\u001b[0m \u001b[0mkind\u001b[0m\u001b[0;34m)\u001b[0m\u001b[0;34m,\u001b[0m\u001b[0;34m\u001b[0m\u001b[0;34m\u001b[0m\u001b[0m\n\u001b[1;32m   2941\u001b[0m                 )\n",
      "\u001b[0;32m~/anaconda3/lib/python3.7/site-packages/pandas/core/indexes/base.py\u001b[0m in \u001b[0;36m_validate_indexer\u001b[0;34m(self, form, key, kind)\u001b[0m\n\u001b[1;32m   4748\u001b[0m             \u001b[0;32mpass\u001b[0m\u001b[0;34m\u001b[0m\u001b[0;34m\u001b[0m\u001b[0m\n\u001b[1;32m   4749\u001b[0m         \u001b[0;32melif\u001b[0m \u001b[0mkind\u001b[0m \u001b[0;32min\u001b[0m \u001b[0;34m[\u001b[0m\u001b[0;34m\"iloc\"\u001b[0m\u001b[0;34m,\u001b[0m \u001b[0;34m\"getitem\"\u001b[0m\u001b[0;34m]\u001b[0m\u001b[0;34m:\u001b[0m\u001b[0;34m\u001b[0m\u001b[0;34m\u001b[0m\u001b[0m\n\u001b[0;32m-> 4750\u001b[0;31m             \u001b[0mself\u001b[0m\u001b[0;34m.\u001b[0m\u001b[0m_invalid_indexer\u001b[0m\u001b[0;34m(\u001b[0m\u001b[0mform\u001b[0m\u001b[0;34m,\u001b[0m \u001b[0mkey\u001b[0m\u001b[0;34m)\u001b[0m\u001b[0;34m\u001b[0m\u001b[0;34m\u001b[0m\u001b[0m\n\u001b[0m\u001b[1;32m   4751\u001b[0m         \u001b[0;32mreturn\u001b[0m \u001b[0mkey\u001b[0m\u001b[0;34m\u001b[0m\u001b[0;34m\u001b[0m\u001b[0m\n\u001b[1;32m   4752\u001b[0m \u001b[0;34m\u001b[0m\u001b[0m\n",
      "\u001b[0;32m~/anaconda3/lib/python3.7/site-packages/pandas/core/indexes/base.py\u001b[0m in \u001b[0;36m_invalid_indexer\u001b[0;34m(self, form, key)\u001b[0m\n\u001b[1;32m   3075\u001b[0m         \"\"\"\n\u001b[1;32m   3076\u001b[0m         raise TypeError(\n\u001b[0;32m-> 3077\u001b[0;31m             \u001b[0;34mf\"cannot do {form} indexing on {type(self)} with these \"\u001b[0m\u001b[0;34m\u001b[0m\u001b[0;34m\u001b[0m\u001b[0m\n\u001b[0m\u001b[1;32m   3078\u001b[0m             \u001b[0;34mf\"indexers [{key}] of {type(key)}\"\u001b[0m\u001b[0;34m\u001b[0m\u001b[0;34m\u001b[0m\u001b[0m\n\u001b[1;32m   3079\u001b[0m         )\n",
      "\u001b[0;31mTypeError\u001b[0m: cannot do slice indexing on <class 'pandas.core.indexes.range.RangeIndex'> with these indexers [0        26\n1        30\n2        23\n3        34\n4        33\n         ..\n26236    24\n26237    24\n26238    24\n26239    23\n26240    27\nName: market_hash_name, Length: 26241, dtype: int64] of <class 'pandas.core.series.Series'>"
     ]
    }
   ],
   "source": [
    "df['name'] = df['market_hash_name'][:df['market_hash_name'].str.index('(')]"
   ]
  },
  {
   "cell_type": "markdown",
   "metadata": {},
   "source": [
    "Значение `price` должно быть строго больше нуля.\n",
    "\n",
    "Исключим из выборки строки, которые не удовлетворяют данному условию, если они имеются:"
   ]
  },
  {
   "cell_type": "code",
   "execution_count": 35,
   "metadata": {},
   "outputs": [
    {
     "data": {
      "text/html": [
       "<div>\n",
       "<style scoped>\n",
       "    .dataframe tbody tr th:only-of-type {\n",
       "        vertical-align: middle;\n",
       "    }\n",
       "\n",
       "    .dataframe tbody tr th {\n",
       "        vertical-align: top;\n",
       "    }\n",
       "\n",
       "    .dataframe thead th {\n",
       "        text-align: right;\n",
       "    }\n",
       "</style>\n",
       "<table border=\"1\" class=\"dataframe\">\n",
       "  <thead>\n",
       "    <tr style=\"text-align: right;\">\n",
       "      <th></th>\n",
       "      <th>market_hash_name</th>\n",
       "      <th>price</th>\n",
       "      <th>wear_value</th>\n",
       "      <th>sold_at</th>\n",
       "      <th>quality</th>\n",
       "      <th>case</th>\n",
       "    </tr>\n",
       "  </thead>\n",
       "  <tbody>\n",
       "    <tr>\n",
       "      <th>0</th>\n",
       "      <td>★ Moto Gloves | Cool Mint (Well-Worn)</td>\n",
       "      <td>131.66</td>\n",
       "      <td>-1.000000</td>\n",
       "      <td>1513873445</td>\n",
       "      <td>WW</td>\n",
       "      <td>Glove Case, Operation Hydra Case</td>\n",
       "    </tr>\n",
       "    <tr>\n",
       "      <th>1</th>\n",
       "      <td>★ Driver Gloves | Lunar Weave (Battle-Scarred)</td>\n",
       "      <td>73.74</td>\n",
       "      <td>0.585385</td>\n",
       "      <td>1561561294</td>\n",
       "      <td>BS</td>\n",
       "      <td>Glove Case, Operation Hydra Case</td>\n",
       "    </tr>\n",
       "    <tr>\n",
       "      <th>2</th>\n",
       "      <td>★ Hand Wraps | Leather (Battle-Scarred)</td>\n",
       "      <td>94.50</td>\n",
       "      <td>0.747108</td>\n",
       "      <td>1538346436</td>\n",
       "      <td>BS</td>\n",
       "      <td>Glove Case, Operation Hydra Case</td>\n",
       "    </tr>\n",
       "    <tr>\n",
       "      <th>3</th>\n",
       "      <td>★ Specialist Gloves | Emerald Web (Minimal Wear)</td>\n",
       "      <td>609.99</td>\n",
       "      <td>0.127194</td>\n",
       "      <td>1555932285</td>\n",
       "      <td>MW</td>\n",
       "      <td>Glove Case, Operation Hydra Case</td>\n",
       "    </tr>\n",
       "    <tr>\n",
       "      <th>4</th>\n",
       "      <td>★ Driver Gloves | Imperial Plaid (Well-Worn)</td>\n",
       "      <td>225.99</td>\n",
       "      <td>0.382708</td>\n",
       "      <td>1559791453</td>\n",
       "      <td>WW</td>\n",
       "      <td>Clutch Case</td>\n",
       "    </tr>\n",
       "    <tr>\n",
       "      <th>...</th>\n",
       "      <td>...</td>\n",
       "      <td>...</td>\n",
       "      <td>...</td>\n",
       "      <td>...</td>\n",
       "      <td>...</td>\n",
       "      <td>...</td>\n",
       "    </tr>\n",
       "    <tr>\n",
       "      <th>26236</th>\n",
       "      <td>★ Hand Wraps | Badlands (Well-Worn)</td>\n",
       "      <td>135.00</td>\n",
       "      <td>0.382254</td>\n",
       "      <td>1587296787</td>\n",
       "      <td>WW</td>\n",
       "      <td>Glove Case, Operation Hydra Case</td>\n",
       "    </tr>\n",
       "    <tr>\n",
       "      <th>26237</th>\n",
       "      <td>★ Hand Wraps | Badlands (Battle-Scarred)</td>\n",
       "      <td>68.19</td>\n",
       "      <td>0.762055</td>\n",
       "      <td>1553500961</td>\n",
       "      <td>BS</td>\n",
       "      <td>Glove Case, Operation Hydra Case</td>\n",
       "    </tr>\n",
       "    <tr>\n",
       "      <th>26238</th>\n",
       "      <td>★ Hand Wraps | Arboreal (Field-Tested)</td>\n",
       "      <td>100.25</td>\n",
       "      <td>0.366468</td>\n",
       "      <td>1595437849</td>\n",
       "      <td>FT</td>\n",
       "      <td>Clutch Case</td>\n",
       "    </tr>\n",
       "    <tr>\n",
       "      <th>26239</th>\n",
       "      <td>★ Sport Gloves | Omega (Battle-Scarred)</td>\n",
       "      <td>199.00</td>\n",
       "      <td>0.625256</td>\n",
       "      <td>1537803224</td>\n",
       "      <td>BS</td>\n",
       "      <td>Clutch Case</td>\n",
       "    </tr>\n",
       "    <tr>\n",
       "      <th>26240</th>\n",
       "      <td>★ Specialist Gloves | Fade (Field-Tested)</td>\n",
       "      <td>347.23</td>\n",
       "      <td>0.366815</td>\n",
       "      <td>1595439661</td>\n",
       "      <td>FT</td>\n",
       "      <td>Clutch Case</td>\n",
       "    </tr>\n",
       "  </tbody>\n",
       "</table>\n",
       "<p>26241 rows × 6 columns</p>\n",
       "</div>"
      ],
      "text/plain": [
       "                                       market_hash_name   price  wear_value  \\\n",
       "0                 ★ Moto Gloves | Cool Mint (Well-Worn)  131.66   -1.000000   \n",
       "1        ★ Driver Gloves | Lunar Weave (Battle-Scarred)   73.74    0.585385   \n",
       "2               ★ Hand Wraps | Leather (Battle-Scarred)   94.50    0.747108   \n",
       "3      ★ Specialist Gloves | Emerald Web (Minimal Wear)  609.99    0.127194   \n",
       "4          ★ Driver Gloves | Imperial Plaid (Well-Worn)  225.99    0.382708   \n",
       "...                                                 ...     ...         ...   \n",
       "26236               ★ Hand Wraps | Badlands (Well-Worn)  135.00    0.382254   \n",
       "26237          ★ Hand Wraps | Badlands (Battle-Scarred)   68.19    0.762055   \n",
       "26238            ★ Hand Wraps | Arboreal (Field-Tested)  100.25    0.366468   \n",
       "26239           ★ Sport Gloves | Omega (Battle-Scarred)  199.00    0.625256   \n",
       "26240         ★ Specialist Gloves | Fade (Field-Tested)  347.23    0.366815   \n",
       "\n",
       "          sold_at quality                              case  \n",
       "0      1513873445      WW  Glove Case, Operation Hydra Case  \n",
       "1      1561561294      BS  Glove Case, Operation Hydra Case  \n",
       "2      1538346436      BS  Glove Case, Operation Hydra Case  \n",
       "3      1555932285      MW  Glove Case, Operation Hydra Case  \n",
       "4      1559791453      WW                       Clutch Case  \n",
       "...           ...     ...                               ...  \n",
       "26236  1587296787      WW  Glove Case, Operation Hydra Case  \n",
       "26237  1553500961      BS  Glove Case, Operation Hydra Case  \n",
       "26238  1595437849      FT                       Clutch Case  \n",
       "26239  1537803224      BS                       Clutch Case  \n",
       "26240  1595439661      FT                       Clutch Case  \n",
       "\n",
       "[26241 rows x 6 columns]"
      ]
     },
     "execution_count": 35,
     "metadata": {},
     "output_type": "execute_result"
    }
   ],
   "source": [
    "df = df[df['price'] > 0]\n",
    "df"
   ]
  },
  {
   "cell_type": "markdown",
   "metadata": {},
   "source": [
    "Значение `wear_value` должно лежать в интервале (0, 1)\n",
    "\n",
    "Будем рассматривать только строки с корректным значением `wear_value`:"
   ]
  },
  {
   "cell_type": "code",
   "execution_count": 36,
   "metadata": {},
   "outputs": [
    {
     "data": {
      "text/html": [
       "<div>\n",
       "<style scoped>\n",
       "    .dataframe tbody tr th:only-of-type {\n",
       "        vertical-align: middle;\n",
       "    }\n",
       "\n",
       "    .dataframe tbody tr th {\n",
       "        vertical-align: top;\n",
       "    }\n",
       "\n",
       "    .dataframe thead th {\n",
       "        text-align: right;\n",
       "    }\n",
       "</style>\n",
       "<table border=\"1\" class=\"dataframe\">\n",
       "  <thead>\n",
       "    <tr style=\"text-align: right;\">\n",
       "      <th></th>\n",
       "      <th>market_hash_name</th>\n",
       "      <th>price</th>\n",
       "      <th>wear_value</th>\n",
       "      <th>sold_at</th>\n",
       "      <th>quality</th>\n",
       "      <th>case</th>\n",
       "    </tr>\n",
       "  </thead>\n",
       "  <tbody>\n",
       "    <tr>\n",
       "      <th>1</th>\n",
       "      <td>★ Driver Gloves | Lunar Weave (Battle-Scarred)</td>\n",
       "      <td>73.74</td>\n",
       "      <td>0.585385</td>\n",
       "      <td>1561561294</td>\n",
       "      <td>BS</td>\n",
       "      <td>Glove Case, Operation Hydra Case</td>\n",
       "    </tr>\n",
       "    <tr>\n",
       "      <th>2</th>\n",
       "      <td>★ Hand Wraps | Leather (Battle-Scarred)</td>\n",
       "      <td>94.50</td>\n",
       "      <td>0.747108</td>\n",
       "      <td>1538346436</td>\n",
       "      <td>BS</td>\n",
       "      <td>Glove Case, Operation Hydra Case</td>\n",
       "    </tr>\n",
       "    <tr>\n",
       "      <th>3</th>\n",
       "      <td>★ Specialist Gloves | Emerald Web (Minimal Wear)</td>\n",
       "      <td>609.99</td>\n",
       "      <td>0.127194</td>\n",
       "      <td>1555932285</td>\n",
       "      <td>MW</td>\n",
       "      <td>Glove Case, Operation Hydra Case</td>\n",
       "    </tr>\n",
       "    <tr>\n",
       "      <th>4</th>\n",
       "      <td>★ Driver Gloves | Imperial Plaid (Well-Worn)</td>\n",
       "      <td>225.99</td>\n",
       "      <td>0.382708</td>\n",
       "      <td>1559791453</td>\n",
       "      <td>WW</td>\n",
       "      <td>Clutch Case</td>\n",
       "    </tr>\n",
       "    <tr>\n",
       "      <th>5</th>\n",
       "      <td>★ Hand Wraps | Leather (Battle-Scarred)</td>\n",
       "      <td>105.77</td>\n",
       "      <td>0.650310</td>\n",
       "      <td>1536427996</td>\n",
       "      <td>BS</td>\n",
       "      <td>Glove Case, Operation Hydra Case</td>\n",
       "    </tr>\n",
       "    <tr>\n",
       "      <th>...</th>\n",
       "      <td>...</td>\n",
       "      <td>...</td>\n",
       "      <td>...</td>\n",
       "      <td>...</td>\n",
       "      <td>...</td>\n",
       "      <td>...</td>\n",
       "    </tr>\n",
       "    <tr>\n",
       "      <th>26236</th>\n",
       "      <td>★ Hand Wraps | Badlands (Well-Worn)</td>\n",
       "      <td>135.00</td>\n",
       "      <td>0.382254</td>\n",
       "      <td>1587296787</td>\n",
       "      <td>WW</td>\n",
       "      <td>Glove Case, Operation Hydra Case</td>\n",
       "    </tr>\n",
       "    <tr>\n",
       "      <th>26237</th>\n",
       "      <td>★ Hand Wraps | Badlands (Battle-Scarred)</td>\n",
       "      <td>68.19</td>\n",
       "      <td>0.762055</td>\n",
       "      <td>1553500961</td>\n",
       "      <td>BS</td>\n",
       "      <td>Glove Case, Operation Hydra Case</td>\n",
       "    </tr>\n",
       "    <tr>\n",
       "      <th>26238</th>\n",
       "      <td>★ Hand Wraps | Arboreal (Field-Tested)</td>\n",
       "      <td>100.25</td>\n",
       "      <td>0.366468</td>\n",
       "      <td>1595437849</td>\n",
       "      <td>FT</td>\n",
       "      <td>Clutch Case</td>\n",
       "    </tr>\n",
       "    <tr>\n",
       "      <th>26239</th>\n",
       "      <td>★ Sport Gloves | Omega (Battle-Scarred)</td>\n",
       "      <td>199.00</td>\n",
       "      <td>0.625256</td>\n",
       "      <td>1537803224</td>\n",
       "      <td>BS</td>\n",
       "      <td>Clutch Case</td>\n",
       "    </tr>\n",
       "    <tr>\n",
       "      <th>26240</th>\n",
       "      <td>★ Specialist Gloves | Fade (Field-Tested)</td>\n",
       "      <td>347.23</td>\n",
       "      <td>0.366815</td>\n",
       "      <td>1595439661</td>\n",
       "      <td>FT</td>\n",
       "      <td>Clutch Case</td>\n",
       "    </tr>\n",
       "  </tbody>\n",
       "</table>\n",
       "<p>24456 rows × 6 columns</p>\n",
       "</div>"
      ],
      "text/plain": [
       "                                       market_hash_name   price  wear_value  \\\n",
       "1        ★ Driver Gloves | Lunar Weave (Battle-Scarred)   73.74    0.585385   \n",
       "2               ★ Hand Wraps | Leather (Battle-Scarred)   94.50    0.747108   \n",
       "3      ★ Specialist Gloves | Emerald Web (Minimal Wear)  609.99    0.127194   \n",
       "4          ★ Driver Gloves | Imperial Plaid (Well-Worn)  225.99    0.382708   \n",
       "5               ★ Hand Wraps | Leather (Battle-Scarred)  105.77    0.650310   \n",
       "...                                                 ...     ...         ...   \n",
       "26236               ★ Hand Wraps | Badlands (Well-Worn)  135.00    0.382254   \n",
       "26237          ★ Hand Wraps | Badlands (Battle-Scarred)   68.19    0.762055   \n",
       "26238            ★ Hand Wraps | Arboreal (Field-Tested)  100.25    0.366468   \n",
       "26239           ★ Sport Gloves | Omega (Battle-Scarred)  199.00    0.625256   \n",
       "26240         ★ Specialist Gloves | Fade (Field-Tested)  347.23    0.366815   \n",
       "\n",
       "          sold_at quality                              case  \n",
       "1      1561561294      BS  Glove Case, Operation Hydra Case  \n",
       "2      1538346436      BS  Glove Case, Operation Hydra Case  \n",
       "3      1555932285      MW  Glove Case, Operation Hydra Case  \n",
       "4      1559791453      WW                       Clutch Case  \n",
       "5      1536427996      BS  Glove Case, Operation Hydra Case  \n",
       "...           ...     ...                               ...  \n",
       "26236  1587296787      WW  Glove Case, Operation Hydra Case  \n",
       "26237  1553500961      BS  Glove Case, Operation Hydra Case  \n",
       "26238  1595437849      FT                       Clutch Case  \n",
       "26239  1537803224      BS                       Clutch Case  \n",
       "26240  1595439661      FT                       Clutch Case  \n",
       "\n",
       "[24456 rows x 6 columns]"
      ]
     },
     "execution_count": 36,
     "metadata": {},
     "output_type": "execute_result"
    }
   ],
   "source": [
    "df = df[(df['wear_value'] > 0) & (df['wear_value'] < 1)]\n",
    "df"
   ]
  },
  {
   "cell_type": "code",
   "execution_count": null,
   "metadata": {},
   "outputs": [],
   "source": []
  }
 ],
 "metadata": {
  "kernelspec": {
   "display_name": "Python 3",
   "language": "python",
   "name": "python3"
  },
  "language_info": {
   "codemirror_mode": {
    "name": "ipython",
    "version": 3
   },
   "file_extension": ".py",
   "mimetype": "text/x-python",
   "name": "python",
   "nbconvert_exporter": "python",
   "pygments_lexer": "ipython3",
   "version": "3.7.6"
  },
  "pycharm": {
   "stem_cell": {
    "cell_type": "raw",
    "source": [],
    "metadata": {
     "collapsed": false
    }
   }
  }
 },
 "nbformat": 4,
 "nbformat_minor": 4
}