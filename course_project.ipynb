{
 "cells": [
  {
   "cell_type": "markdown",
   "metadata": {},
   "source": [
    "# В РАЗРАБОТКЕ"
   ]
  },
  {
   "cell_type": "markdown",
   "metadata": {},
   "source": [
    "1. Проверить гипотезу: параметр `price` перчаток с параметром `case == Clutch Case`, в среднем сильнее зависит от показателя `wear_value`, чем с параметром `case == Glove Case, Operation Hydra Case`\n",
    "2. Найти перчатки, у которых показатель `wear_value`: а) изменяется больше, чем у всех остальных; б) изменяется меньше, чем у всех остальных\n",
    "3. Составить рейтинг перчаток, которые имеют сильную зависимость цены от `wear_value`, но которые можно чаще всего купить за стандартную цену. Посчитать среднюю прибыль перепродажи таких предметов за `n` дней."
   ]
  },
  {
   "cell_type": "code",
   "execution_count": 52,
   "metadata": {
    "pycharm": {
     "name": "#%%\n"
    }
   },
   "outputs": [],
   "source": [
    "import pandas as pd"
   ]
  },
  {
   "cell_type": "code",
   "execution_count": 53,
   "metadata": {
    "pycharm": {
     "is_executing": false,
     "name": "#%%\n"
    }
   },
   "outputs": [
    {
     "data": {
      "text/html": [
       "<div>\n",
       "<style scoped>\n",
       "    .dataframe tbody tr th:only-of-type {\n",
       "        vertical-align: middle;\n",
       "    }\n",
       "\n",
       "    .dataframe tbody tr th {\n",
       "        vertical-align: top;\n",
       "    }\n",
       "\n",
       "    .dataframe thead th {\n",
       "        text-align: right;\n",
       "    }\n",
       "</style>\n",
       "<table border=\"1\" class=\"dataframe\">\n",
       "  <thead>\n",
       "    <tr style=\"text-align: right;\">\n",
       "      <th></th>\n",
       "      <th>market_hash_name</th>\n",
       "      <th>price</th>\n",
       "      <th>wear_value</th>\n",
       "      <th>sold_at</th>\n",
       "      <th>quality</th>\n",
       "      <th>case</th>\n",
       "    </tr>\n",
       "  </thead>\n",
       "  <tbody>\n",
       "    <tr>\n",
       "      <th>0</th>\n",
       "      <td>★ Moto Gloves | Cool Mint (Well-Worn)</td>\n",
       "      <td>131.66</td>\n",
       "      <td>-1.000000</td>\n",
       "      <td>1513873445</td>\n",
       "      <td>WW</td>\n",
       "      <td>Glove Case, Operation Hydra Case</td>\n",
       "    </tr>\n",
       "    <tr>\n",
       "      <th>1</th>\n",
       "      <td>★ Driver Gloves | Lunar Weave (Battle-Scarred)</td>\n",
       "      <td>73.74</td>\n",
       "      <td>0.585385</td>\n",
       "      <td>1561561294</td>\n",
       "      <td>BS</td>\n",
       "      <td>Glove Case, Operation Hydra Case</td>\n",
       "    </tr>\n",
       "    <tr>\n",
       "      <th>2</th>\n",
       "      <td>★ Hand Wraps | Leather (Battle-Scarred)</td>\n",
       "      <td>94.50</td>\n",
       "      <td>0.747108</td>\n",
       "      <td>1538346436</td>\n",
       "      <td>BS</td>\n",
       "      <td>Glove Case, Operation Hydra Case</td>\n",
       "    </tr>\n",
       "    <tr>\n",
       "      <th>3</th>\n",
       "      <td>★ Specialist Gloves | Emerald Web (Minimal Wear)</td>\n",
       "      <td>609.99</td>\n",
       "      <td>0.127194</td>\n",
       "      <td>1555932285</td>\n",
       "      <td>MW</td>\n",
       "      <td>Glove Case, Operation Hydra Case</td>\n",
       "    </tr>\n",
       "    <tr>\n",
       "      <th>4</th>\n",
       "      <td>★ Driver Gloves | Imperial Plaid (Well-Worn)</td>\n",
       "      <td>225.99</td>\n",
       "      <td>0.382708</td>\n",
       "      <td>1559791453</td>\n",
       "      <td>WW</td>\n",
       "      <td>Clutch Case</td>\n",
       "    </tr>\n",
       "    <tr>\n",
       "      <th>...</th>\n",
       "      <td>...</td>\n",
       "      <td>...</td>\n",
       "      <td>...</td>\n",
       "      <td>...</td>\n",
       "      <td>...</td>\n",
       "      <td>...</td>\n",
       "    </tr>\n",
       "    <tr>\n",
       "      <th>26236</th>\n",
       "      <td>★ Hand Wraps | Badlands (Well-Worn)</td>\n",
       "      <td>135.00</td>\n",
       "      <td>0.382254</td>\n",
       "      <td>1587296787</td>\n",
       "      <td>WW</td>\n",
       "      <td>Glove Case, Operation Hydra Case</td>\n",
       "    </tr>\n",
       "    <tr>\n",
       "      <th>26237</th>\n",
       "      <td>★ Hand Wraps | Badlands (Battle-Scarred)</td>\n",
       "      <td>68.19</td>\n",
       "      <td>0.762055</td>\n",
       "      <td>1553500961</td>\n",
       "      <td>BS</td>\n",
       "      <td>Glove Case, Operation Hydra Case</td>\n",
       "    </tr>\n",
       "    <tr>\n",
       "      <th>26238</th>\n",
       "      <td>★ Hand Wraps | Arboreal (Field-Tested)</td>\n",
       "      <td>100.25</td>\n",
       "      <td>0.366468</td>\n",
       "      <td>1595437849</td>\n",
       "      <td>FT</td>\n",
       "      <td>Clutch Case</td>\n",
       "    </tr>\n",
       "    <tr>\n",
       "      <th>26239</th>\n",
       "      <td>★ Sport Gloves | Omega (Battle-Scarred)</td>\n",
       "      <td>199.00</td>\n",
       "      <td>0.625256</td>\n",
       "      <td>1537803224</td>\n",
       "      <td>BS</td>\n",
       "      <td>Clutch Case</td>\n",
       "    </tr>\n",
       "    <tr>\n",
       "      <th>26240</th>\n",
       "      <td>★ Specialist Gloves | Fade (Field-Tested)</td>\n",
       "      <td>347.23</td>\n",
       "      <td>0.366815</td>\n",
       "      <td>1595439661</td>\n",
       "      <td>FT</td>\n",
       "      <td>Clutch Case</td>\n",
       "    </tr>\n",
       "  </tbody>\n",
       "</table>\n",
       "<p>26241 rows × 6 columns</p>\n",
       "</div>"
      ],
      "text/plain": [
       "                                       market_hash_name   price  wear_value  \\\n",
       "0                 ★ Moto Gloves | Cool Mint (Well-Worn)  131.66   -1.000000   \n",
       "1        ★ Driver Gloves | Lunar Weave (Battle-Scarred)   73.74    0.585385   \n",
       "2               ★ Hand Wraps | Leather (Battle-Scarred)   94.50    0.747108   \n",
       "3      ★ Specialist Gloves | Emerald Web (Minimal Wear)  609.99    0.127194   \n",
       "4          ★ Driver Gloves | Imperial Plaid (Well-Worn)  225.99    0.382708   \n",
       "...                                                 ...     ...         ...   \n",
       "26236               ★ Hand Wraps | Badlands (Well-Worn)  135.00    0.382254   \n",
       "26237          ★ Hand Wraps | Badlands (Battle-Scarred)   68.19    0.762055   \n",
       "26238            ★ Hand Wraps | Arboreal (Field-Tested)  100.25    0.366468   \n",
       "26239           ★ Sport Gloves | Omega (Battle-Scarred)  199.00    0.625256   \n",
       "26240         ★ Specialist Gloves | Fade (Field-Tested)  347.23    0.366815   \n",
       "\n",
       "          sold_at quality                              case  \n",
       "0      1513873445      WW  Glove Case, Operation Hydra Case  \n",
       "1      1561561294      BS  Glove Case, Operation Hydra Case  \n",
       "2      1538346436      BS  Glove Case, Operation Hydra Case  \n",
       "3      1555932285      MW  Glove Case, Operation Hydra Case  \n",
       "4      1559791453      WW                       Clutch Case  \n",
       "...           ...     ...                               ...  \n",
       "26236  1587296787      WW  Glove Case, Operation Hydra Case  \n",
       "26237  1553500961      BS  Glove Case, Operation Hydra Case  \n",
       "26238  1595437849      FT                       Clutch Case  \n",
       "26239  1537803224      BS                       Clutch Case  \n",
       "26240  1595439661      FT                       Clutch Case  \n",
       "\n",
       "[26241 rows x 6 columns]"
      ]
     },
     "execution_count": 53,
     "metadata": {},
     "output_type": "execute_result"
    }
   ],
   "source": [
    "df = pd.read_csv('data.csv')\n",
    "df"
   ]
  },
  {
   "cell_type": "markdown",
   "metadata": {},
   "source": [
    "# Подготовка данных:"
   ]
  },
  {
   "cell_type": "markdown",
   "metadata": {},
   "source": [
    "Уберем окончание значений `market_hash_name\t`, которое указывает на `quality`:"
   ]
  },
  {
   "cell_type": "code",
   "execution_count": 54,
   "metadata": {
    "pycharm": {
     "name": "#%%\n"
    }
   },
   "outputs": [
    {
     "data": {
      "text/html": [
       "<div>\n",
       "<style scoped>\n",
       "    .dataframe tbody tr th:only-of-type {\n",
       "        vertical-align: middle;\n",
       "    }\n",
       "\n",
       "    .dataframe tbody tr th {\n",
       "        vertical-align: top;\n",
       "    }\n",
       "\n",
       "    .dataframe thead th {\n",
       "        text-align: right;\n",
       "    }\n",
       "</style>\n",
       "<table border=\"1\" class=\"dataframe\">\n",
       "  <thead>\n",
       "    <tr style=\"text-align: right;\">\n",
       "      <th></th>\n",
       "      <th>market_hash_name</th>\n",
       "      <th>price</th>\n",
       "      <th>wear_value</th>\n",
       "      <th>sold_at</th>\n",
       "      <th>quality</th>\n",
       "      <th>case</th>\n",
       "    </tr>\n",
       "  </thead>\n",
       "  <tbody>\n",
       "    <tr>\n",
       "      <th>0</th>\n",
       "      <td>★ Moto Gloves | Cool Mint</td>\n",
       "      <td>131.66</td>\n",
       "      <td>-1.000000</td>\n",
       "      <td>1513873445</td>\n",
       "      <td>WW</td>\n",
       "      <td>Glove Case, Operation Hydra Case</td>\n",
       "    </tr>\n",
       "    <tr>\n",
       "      <th>1</th>\n",
       "      <td>★ Driver Gloves | Lunar Weave</td>\n",
       "      <td>73.74</td>\n",
       "      <td>0.585385</td>\n",
       "      <td>1561561294</td>\n",
       "      <td>BS</td>\n",
       "      <td>Glove Case, Operation Hydra Case</td>\n",
       "    </tr>\n",
       "    <tr>\n",
       "      <th>2</th>\n",
       "      <td>★ Hand Wraps | Leather</td>\n",
       "      <td>94.50</td>\n",
       "      <td>0.747108</td>\n",
       "      <td>1538346436</td>\n",
       "      <td>BS</td>\n",
       "      <td>Glove Case, Operation Hydra Case</td>\n",
       "    </tr>\n",
       "    <tr>\n",
       "      <th>3</th>\n",
       "      <td>★ Specialist Gloves | Emerald Web</td>\n",
       "      <td>609.99</td>\n",
       "      <td>0.127194</td>\n",
       "      <td>1555932285</td>\n",
       "      <td>MW</td>\n",
       "      <td>Glove Case, Operation Hydra Case</td>\n",
       "    </tr>\n",
       "    <tr>\n",
       "      <th>4</th>\n",
       "      <td>★ Driver Gloves | Imperial Plaid</td>\n",
       "      <td>225.99</td>\n",
       "      <td>0.382708</td>\n",
       "      <td>1559791453</td>\n",
       "      <td>WW</td>\n",
       "      <td>Clutch Case</td>\n",
       "    </tr>\n",
       "    <tr>\n",
       "      <th>...</th>\n",
       "      <td>...</td>\n",
       "      <td>...</td>\n",
       "      <td>...</td>\n",
       "      <td>...</td>\n",
       "      <td>...</td>\n",
       "      <td>...</td>\n",
       "    </tr>\n",
       "    <tr>\n",
       "      <th>26236</th>\n",
       "      <td>★ Hand Wraps | Badlands</td>\n",
       "      <td>135.00</td>\n",
       "      <td>0.382254</td>\n",
       "      <td>1587296787</td>\n",
       "      <td>WW</td>\n",
       "      <td>Glove Case, Operation Hydra Case</td>\n",
       "    </tr>\n",
       "    <tr>\n",
       "      <th>26237</th>\n",
       "      <td>★ Hand Wraps | Badlands</td>\n",
       "      <td>68.19</td>\n",
       "      <td>0.762055</td>\n",
       "      <td>1553500961</td>\n",
       "      <td>BS</td>\n",
       "      <td>Glove Case, Operation Hydra Case</td>\n",
       "    </tr>\n",
       "    <tr>\n",
       "      <th>26238</th>\n",
       "      <td>★ Hand Wraps | Arboreal</td>\n",
       "      <td>100.25</td>\n",
       "      <td>0.366468</td>\n",
       "      <td>1595437849</td>\n",
       "      <td>FT</td>\n",
       "      <td>Clutch Case</td>\n",
       "    </tr>\n",
       "    <tr>\n",
       "      <th>26239</th>\n",
       "      <td>★ Sport Gloves | Omega</td>\n",
       "      <td>199.00</td>\n",
       "      <td>0.625256</td>\n",
       "      <td>1537803224</td>\n",
       "      <td>BS</td>\n",
       "      <td>Clutch Case</td>\n",
       "    </tr>\n",
       "    <tr>\n",
       "      <th>26240</th>\n",
       "      <td>★ Specialist Gloves | Fade</td>\n",
       "      <td>347.23</td>\n",
       "      <td>0.366815</td>\n",
       "      <td>1595439661</td>\n",
       "      <td>FT</td>\n",
       "      <td>Clutch Case</td>\n",
       "    </tr>\n",
       "  </tbody>\n",
       "</table>\n",
       "<p>26241 rows × 6 columns</p>\n",
       "</div>"
      ],
      "text/plain": [
       "                         market_hash_name   price  wear_value     sold_at  \\\n",
       "0              ★ Moto Gloves | Cool Mint   131.66   -1.000000  1513873445   \n",
       "1          ★ Driver Gloves | Lunar Weave    73.74    0.585385  1561561294   \n",
       "2                 ★ Hand Wraps | Leather    94.50    0.747108  1538346436   \n",
       "3      ★ Specialist Gloves | Emerald Web   609.99    0.127194  1555932285   \n",
       "4       ★ Driver Gloves | Imperial Plaid   225.99    0.382708  1559791453   \n",
       "...                                   ...     ...         ...         ...   \n",
       "26236            ★ Hand Wraps | Badlands   135.00    0.382254  1587296787   \n",
       "26237            ★ Hand Wraps | Badlands    68.19    0.762055  1553500961   \n",
       "26238            ★ Hand Wraps | Arboreal   100.25    0.366468  1595437849   \n",
       "26239             ★ Sport Gloves | Omega   199.00    0.625256  1537803224   \n",
       "26240         ★ Specialist Gloves | Fade   347.23    0.366815  1595439661   \n",
       "\n",
       "      quality                              case  \n",
       "0          WW  Glove Case, Operation Hydra Case  \n",
       "1          BS  Glove Case, Operation Hydra Case  \n",
       "2          BS  Glove Case, Operation Hydra Case  \n",
       "3          MW  Glove Case, Operation Hydra Case  \n",
       "4          WW                       Clutch Case  \n",
       "...       ...                               ...  \n",
       "26236      WW  Glove Case, Operation Hydra Case  \n",
       "26237      BS  Glove Case, Operation Hydra Case  \n",
       "26238      FT                       Clutch Case  \n",
       "26239      BS                       Clutch Case  \n",
       "26240      FT                       Clutch Case  \n",
       "\n",
       "[26241 rows x 6 columns]"
      ]
     },
     "execution_count": 54,
     "metadata": {},
     "output_type": "execute_result"
    }
   ],
   "source": [
    "for index, row in df.iterrows():\n",
    "    df.loc[index, 'market_hash_name'] = row['market_hash_name'][: row['market_hash_name'].index('(')]\n",
    "df"
   ]
  },
  {
   "cell_type": "markdown",
   "metadata": {},
   "source": [
    "Значение `price` должно быть строго больше нуля.\n",
    "\n",
    "Исключим из выборки строки, которые не удовлетворяют данному условию, если они имеются:"
   ]
  },
  {
   "cell_type": "code",
   "execution_count": 55,
   "metadata": {
    "pycharm": {
     "name": "#%%\n"
    }
   },
   "outputs": [
    {
     "data": {
      "text/html": [
       "<div>\n",
       "<style scoped>\n",
       "    .dataframe tbody tr th:only-of-type {\n",
       "        vertical-align: middle;\n",
       "    }\n",
       "\n",
       "    .dataframe tbody tr th {\n",
       "        vertical-align: top;\n",
       "    }\n",
       "\n",
       "    .dataframe thead th {\n",
       "        text-align: right;\n",
       "    }\n",
       "</style>\n",
       "<table border=\"1\" class=\"dataframe\">\n",
       "  <thead>\n",
       "    <tr style=\"text-align: right;\">\n",
       "      <th></th>\n",
       "      <th>market_hash_name</th>\n",
       "      <th>price</th>\n",
       "      <th>wear_value</th>\n",
       "      <th>sold_at</th>\n",
       "      <th>quality</th>\n",
       "      <th>case</th>\n",
       "    </tr>\n",
       "  </thead>\n",
       "  <tbody>\n",
       "    <tr>\n",
       "      <th>0</th>\n",
       "      <td>★ Moto Gloves | Cool Mint</td>\n",
       "      <td>131.66</td>\n",
       "      <td>-1.000000</td>\n",
       "      <td>1513873445</td>\n",
       "      <td>WW</td>\n",
       "      <td>Glove Case, Operation Hydra Case</td>\n",
       "    </tr>\n",
       "    <tr>\n",
       "      <th>1</th>\n",
       "      <td>★ Driver Gloves | Lunar Weave</td>\n",
       "      <td>73.74</td>\n",
       "      <td>0.585385</td>\n",
       "      <td>1561561294</td>\n",
       "      <td>BS</td>\n",
       "      <td>Glove Case, Operation Hydra Case</td>\n",
       "    </tr>\n",
       "    <tr>\n",
       "      <th>2</th>\n",
       "      <td>★ Hand Wraps | Leather</td>\n",
       "      <td>94.50</td>\n",
       "      <td>0.747108</td>\n",
       "      <td>1538346436</td>\n",
       "      <td>BS</td>\n",
       "      <td>Glove Case, Operation Hydra Case</td>\n",
       "    </tr>\n",
       "    <tr>\n",
       "      <th>3</th>\n",
       "      <td>★ Specialist Gloves | Emerald Web</td>\n",
       "      <td>609.99</td>\n",
       "      <td>0.127194</td>\n",
       "      <td>1555932285</td>\n",
       "      <td>MW</td>\n",
       "      <td>Glove Case, Operation Hydra Case</td>\n",
       "    </tr>\n",
       "    <tr>\n",
       "      <th>4</th>\n",
       "      <td>★ Driver Gloves | Imperial Plaid</td>\n",
       "      <td>225.99</td>\n",
       "      <td>0.382708</td>\n",
       "      <td>1559791453</td>\n",
       "      <td>WW</td>\n",
       "      <td>Clutch Case</td>\n",
       "    </tr>\n",
       "    <tr>\n",
       "      <th>...</th>\n",
       "      <td>...</td>\n",
       "      <td>...</td>\n",
       "      <td>...</td>\n",
       "      <td>...</td>\n",
       "      <td>...</td>\n",
       "      <td>...</td>\n",
       "    </tr>\n",
       "    <tr>\n",
       "      <th>26236</th>\n",
       "      <td>★ Hand Wraps | Badlands</td>\n",
       "      <td>135.00</td>\n",
       "      <td>0.382254</td>\n",
       "      <td>1587296787</td>\n",
       "      <td>WW</td>\n",
       "      <td>Glove Case, Operation Hydra Case</td>\n",
       "    </tr>\n",
       "    <tr>\n",
       "      <th>26237</th>\n",
       "      <td>★ Hand Wraps | Badlands</td>\n",
       "      <td>68.19</td>\n",
       "      <td>0.762055</td>\n",
       "      <td>1553500961</td>\n",
       "      <td>BS</td>\n",
       "      <td>Glove Case, Operation Hydra Case</td>\n",
       "    </tr>\n",
       "    <tr>\n",
       "      <th>26238</th>\n",
       "      <td>★ Hand Wraps | Arboreal</td>\n",
       "      <td>100.25</td>\n",
       "      <td>0.366468</td>\n",
       "      <td>1595437849</td>\n",
       "      <td>FT</td>\n",
       "      <td>Clutch Case</td>\n",
       "    </tr>\n",
       "    <tr>\n",
       "      <th>26239</th>\n",
       "      <td>★ Sport Gloves | Omega</td>\n",
       "      <td>199.00</td>\n",
       "      <td>0.625256</td>\n",
       "      <td>1537803224</td>\n",
       "      <td>BS</td>\n",
       "      <td>Clutch Case</td>\n",
       "    </tr>\n",
       "    <tr>\n",
       "      <th>26240</th>\n",
       "      <td>★ Specialist Gloves | Fade</td>\n",
       "      <td>347.23</td>\n",
       "      <td>0.366815</td>\n",
       "      <td>1595439661</td>\n",
       "      <td>FT</td>\n",
       "      <td>Clutch Case</td>\n",
       "    </tr>\n",
       "  </tbody>\n",
       "</table>\n",
       "<p>26241 rows × 6 columns</p>\n",
       "</div>"
      ],
      "text/plain": [
       "                         market_hash_name   price  wear_value     sold_at  \\\n",
       "0              ★ Moto Gloves | Cool Mint   131.66   -1.000000  1513873445   \n",
       "1          ★ Driver Gloves | Lunar Weave    73.74    0.585385  1561561294   \n",
       "2                 ★ Hand Wraps | Leather    94.50    0.747108  1538346436   \n",
       "3      ★ Specialist Gloves | Emerald Web   609.99    0.127194  1555932285   \n",
       "4       ★ Driver Gloves | Imperial Plaid   225.99    0.382708  1559791453   \n",
       "...                                   ...     ...         ...         ...   \n",
       "26236            ★ Hand Wraps | Badlands   135.00    0.382254  1587296787   \n",
       "26237            ★ Hand Wraps | Badlands    68.19    0.762055  1553500961   \n",
       "26238            ★ Hand Wraps | Arboreal   100.25    0.366468  1595437849   \n",
       "26239             ★ Sport Gloves | Omega   199.00    0.625256  1537803224   \n",
       "26240         ★ Specialist Gloves | Fade   347.23    0.366815  1595439661   \n",
       "\n",
       "      quality                              case  \n",
       "0          WW  Glove Case, Operation Hydra Case  \n",
       "1          BS  Glove Case, Operation Hydra Case  \n",
       "2          BS  Glove Case, Operation Hydra Case  \n",
       "3          MW  Glove Case, Operation Hydra Case  \n",
       "4          WW                       Clutch Case  \n",
       "...       ...                               ...  \n",
       "26236      WW  Glove Case, Operation Hydra Case  \n",
       "26237      BS  Glove Case, Operation Hydra Case  \n",
       "26238      FT                       Clutch Case  \n",
       "26239      BS                       Clutch Case  \n",
       "26240      FT                       Clutch Case  \n",
       "\n",
       "[26241 rows x 6 columns]"
      ]
     },
     "execution_count": 55,
     "metadata": {},
     "output_type": "execute_result"
    }
   ],
   "source": [
    "df = df[df['price'] > 0]\n",
    "df"
   ]
  },
  {
   "cell_type": "markdown",
   "metadata": {},
   "source": [
    "Значение `wear_value` должно лежать в интервале (0, 1)\n",
    "\n",
    "Будем рассматривать только строки с корректным значением `wear_value`:"
   ]
  },
  {
   "cell_type": "code",
   "execution_count": 56,
   "metadata": {
    "pycharm": {
     "name": "#%%\n"
    }
   },
   "outputs": [
    {
     "data": {
      "text/html": [
       "<div>\n",
       "<style scoped>\n",
       "    .dataframe tbody tr th:only-of-type {\n",
       "        vertical-align: middle;\n",
       "    }\n",
       "\n",
       "    .dataframe tbody tr th {\n",
       "        vertical-align: top;\n",
       "    }\n",
       "\n",
       "    .dataframe thead th {\n",
       "        text-align: right;\n",
       "    }\n",
       "</style>\n",
       "<table border=\"1\" class=\"dataframe\">\n",
       "  <thead>\n",
       "    <tr style=\"text-align: right;\">\n",
       "      <th></th>\n",
       "      <th>market_hash_name</th>\n",
       "      <th>price</th>\n",
       "      <th>wear_value</th>\n",
       "      <th>sold_at</th>\n",
       "      <th>quality</th>\n",
       "      <th>case</th>\n",
       "    </tr>\n",
       "  </thead>\n",
       "  <tbody>\n",
       "    <tr>\n",
       "      <th>1</th>\n",
       "      <td>★ Driver Gloves | Lunar Weave</td>\n",
       "      <td>73.74</td>\n",
       "      <td>0.585385</td>\n",
       "      <td>1561561294</td>\n",
       "      <td>BS</td>\n",
       "      <td>Glove Case, Operation Hydra Case</td>\n",
       "    </tr>\n",
       "    <tr>\n",
       "      <th>2</th>\n",
       "      <td>★ Hand Wraps | Leather</td>\n",
       "      <td>94.50</td>\n",
       "      <td>0.747108</td>\n",
       "      <td>1538346436</td>\n",
       "      <td>BS</td>\n",
       "      <td>Glove Case, Operation Hydra Case</td>\n",
       "    </tr>\n",
       "    <tr>\n",
       "      <th>3</th>\n",
       "      <td>★ Specialist Gloves | Emerald Web</td>\n",
       "      <td>609.99</td>\n",
       "      <td>0.127194</td>\n",
       "      <td>1555932285</td>\n",
       "      <td>MW</td>\n",
       "      <td>Glove Case, Operation Hydra Case</td>\n",
       "    </tr>\n",
       "    <tr>\n",
       "      <th>4</th>\n",
       "      <td>★ Driver Gloves | Imperial Plaid</td>\n",
       "      <td>225.99</td>\n",
       "      <td>0.382708</td>\n",
       "      <td>1559791453</td>\n",
       "      <td>WW</td>\n",
       "      <td>Clutch Case</td>\n",
       "    </tr>\n",
       "    <tr>\n",
       "      <th>5</th>\n",
       "      <td>★ Hand Wraps | Leather</td>\n",
       "      <td>105.77</td>\n",
       "      <td>0.650310</td>\n",
       "      <td>1536427996</td>\n",
       "      <td>BS</td>\n",
       "      <td>Glove Case, Operation Hydra Case</td>\n",
       "    </tr>\n",
       "    <tr>\n",
       "      <th>...</th>\n",
       "      <td>...</td>\n",
       "      <td>...</td>\n",
       "      <td>...</td>\n",
       "      <td>...</td>\n",
       "      <td>...</td>\n",
       "      <td>...</td>\n",
       "    </tr>\n",
       "    <tr>\n",
       "      <th>26236</th>\n",
       "      <td>★ Hand Wraps | Badlands</td>\n",
       "      <td>135.00</td>\n",
       "      <td>0.382254</td>\n",
       "      <td>1587296787</td>\n",
       "      <td>WW</td>\n",
       "      <td>Glove Case, Operation Hydra Case</td>\n",
       "    </tr>\n",
       "    <tr>\n",
       "      <th>26237</th>\n",
       "      <td>★ Hand Wraps | Badlands</td>\n",
       "      <td>68.19</td>\n",
       "      <td>0.762055</td>\n",
       "      <td>1553500961</td>\n",
       "      <td>BS</td>\n",
       "      <td>Glove Case, Operation Hydra Case</td>\n",
       "    </tr>\n",
       "    <tr>\n",
       "      <th>26238</th>\n",
       "      <td>★ Hand Wraps | Arboreal</td>\n",
       "      <td>100.25</td>\n",
       "      <td>0.366468</td>\n",
       "      <td>1595437849</td>\n",
       "      <td>FT</td>\n",
       "      <td>Clutch Case</td>\n",
       "    </tr>\n",
       "    <tr>\n",
       "      <th>26239</th>\n",
       "      <td>★ Sport Gloves | Omega</td>\n",
       "      <td>199.00</td>\n",
       "      <td>0.625256</td>\n",
       "      <td>1537803224</td>\n",
       "      <td>BS</td>\n",
       "      <td>Clutch Case</td>\n",
       "    </tr>\n",
       "    <tr>\n",
       "      <th>26240</th>\n",
       "      <td>★ Specialist Gloves | Fade</td>\n",
       "      <td>347.23</td>\n",
       "      <td>0.366815</td>\n",
       "      <td>1595439661</td>\n",
       "      <td>FT</td>\n",
       "      <td>Clutch Case</td>\n",
       "    </tr>\n",
       "  </tbody>\n",
       "</table>\n",
       "<p>24456 rows × 6 columns</p>\n",
       "</div>"
      ],
      "text/plain": [
       "                         market_hash_name   price  wear_value     sold_at  \\\n",
       "1          ★ Driver Gloves | Lunar Weave    73.74    0.585385  1561561294   \n",
       "2                 ★ Hand Wraps | Leather    94.50    0.747108  1538346436   \n",
       "3      ★ Specialist Gloves | Emerald Web   609.99    0.127194  1555932285   \n",
       "4       ★ Driver Gloves | Imperial Plaid   225.99    0.382708  1559791453   \n",
       "5                 ★ Hand Wraps | Leather   105.77    0.650310  1536427996   \n",
       "...                                   ...     ...         ...         ...   \n",
       "26236            ★ Hand Wraps | Badlands   135.00    0.382254  1587296787   \n",
       "26237            ★ Hand Wraps | Badlands    68.19    0.762055  1553500961   \n",
       "26238            ★ Hand Wraps | Arboreal   100.25    0.366468  1595437849   \n",
       "26239             ★ Sport Gloves | Omega   199.00    0.625256  1537803224   \n",
       "26240         ★ Specialist Gloves | Fade   347.23    0.366815  1595439661   \n",
       "\n",
       "      quality                              case  \n",
       "1          BS  Glove Case, Operation Hydra Case  \n",
       "2          BS  Glove Case, Operation Hydra Case  \n",
       "3          MW  Glove Case, Operation Hydra Case  \n",
       "4          WW                       Clutch Case  \n",
       "5          BS  Glove Case, Operation Hydra Case  \n",
       "...       ...                               ...  \n",
       "26236      WW  Glove Case, Operation Hydra Case  \n",
       "26237      BS  Glove Case, Operation Hydra Case  \n",
       "26238      FT                       Clutch Case  \n",
       "26239      BS                       Clutch Case  \n",
       "26240      FT                       Clutch Case  \n",
       "\n",
       "[24456 rows x 6 columns]"
      ]
     },
     "execution_count": 56,
     "metadata": {},
     "output_type": "execute_result"
    }
   ],
   "source": [
    "df = df[(df['wear_value'] > 0) & (df['wear_value'] < 1)]\n",
    "df"
   ]
  },
  {
   "cell_type": "markdown",
   "metadata": {},
   "source": [
    "## Найти перчатки, у которых показатель wear_value: а) изменяется больше, чем у всех остальных; б) изменяется меньше, чем у всех остальных"
   ]
  },
  {
   "cell_type": "markdown",
   "metadata": {},
   "source": [
    "Для решения данной задачи необходимо найти дисперсию\n",
    "\n",
    "В данном случае дельта степеней свободы равна 0\n"
   ]
  },
  {
   "cell_type": "code",
   "execution_count": 57,
   "metadata": {
    "pycharm": {
     "name": "#%%\n"
    }
   },
   "outputs": [],
   "source": [
    "import numpy as np"
   ]
  },
  {
   "cell_type": "markdown",
   "metadata": {},
   "source": [
    "Получим список всех `market_hash_name` и список всех `quality`"
   ]
  },
  {
   "cell_type": "code",
   "execution_count": 58,
   "metadata": {
    "pycharm": {
     "name": "#%%\n"
    }
   },
   "outputs": [],
   "source": [
    "market_hash_names = df['market_hash_name'].unique()\n",
    "qualities = df['quality'].unique()"
   ]
  },
  {
   "cell_type": "markdown",
   "metadata": {},
   "source": [
    "Для каждой пары `market_hash_name` и `quality` найдем значение дисперсии:"
   ]
  },
  {
   "cell_type": "code",
   "execution_count": 59,
   "metadata": {
    "pycharm": {
     "name": "#%%\n"
    }
   },
   "outputs": [],
   "source": [
    "import itertools"
   ]
  },
  {
   "cell_type": "code",
   "execution_count": 60,
   "metadata": {
    "pycharm": {
     "name": "#%%\n"
    }
   },
   "outputs": [
    {
     "data": {
      "text/html": [
       "<div>\n",
       "<style scoped>\n",
       "    .dataframe tbody tr th:only-of-type {\n",
       "        vertical-align: middle;\n",
       "    }\n",
       "\n",
       "    .dataframe tbody tr th {\n",
       "        vertical-align: top;\n",
       "    }\n",
       "\n",
       "    .dataframe thead th {\n",
       "        text-align: right;\n",
       "    }\n",
       "</style>\n",
       "<table border=\"1\" class=\"dataframe\">\n",
       "  <thead>\n",
       "    <tr style=\"text-align: right;\">\n",
       "      <th></th>\n",
       "      <th>market_hash_name</th>\n",
       "      <th>quality</th>\n",
       "      <th>var</th>\n",
       "    </tr>\n",
       "  </thead>\n",
       "  <tbody>\n",
       "    <tr>\n",
       "      <th>0</th>\n",
       "      <td>★ Driver Gloves | Lunar Weave</td>\n",
       "      <td>BS</td>\n",
       "      <td>0.011211</td>\n",
       "    </tr>\n",
       "    <tr>\n",
       "      <th>1</th>\n",
       "      <td>★ Driver Gloves | Lunar Weave</td>\n",
       "      <td>MW</td>\n",
       "      <td>0.000182</td>\n",
       "    </tr>\n",
       "    <tr>\n",
       "      <th>2</th>\n",
       "      <td>★ Driver Gloves | Lunar Weave</td>\n",
       "      <td>WW</td>\n",
       "      <td>0.000302</td>\n",
       "    </tr>\n",
       "    <tr>\n",
       "      <th>3</th>\n",
       "      <td>★ Driver Gloves | Lunar Weave</td>\n",
       "      <td>FT</td>\n",
       "      <td>0.005614</td>\n",
       "    </tr>\n",
       "    <tr>\n",
       "      <th>4</th>\n",
       "      <td>★ Driver Gloves | Lunar Weave</td>\n",
       "      <td>FN</td>\n",
       "      <td>0.000003</td>\n",
       "    </tr>\n",
       "    <tr>\n",
       "      <th>...</th>\n",
       "      <td>...</td>\n",
       "      <td>...</td>\n",
       "      <td>...</td>\n",
       "    </tr>\n",
       "    <tr>\n",
       "      <th>235</th>\n",
       "      <td>★ Sport Gloves | Amphibious</td>\n",
       "      <td>BS</td>\n",
       "      <td>0.010551</td>\n",
       "    </tr>\n",
       "    <tr>\n",
       "      <th>236</th>\n",
       "      <td>★ Sport Gloves | Amphibious</td>\n",
       "      <td>MW</td>\n",
       "      <td>0.000384</td>\n",
       "    </tr>\n",
       "    <tr>\n",
       "      <th>237</th>\n",
       "      <td>★ Sport Gloves | Amphibious</td>\n",
       "      <td>WW</td>\n",
       "      <td>0.000361</td>\n",
       "    </tr>\n",
       "    <tr>\n",
       "      <th>238</th>\n",
       "      <td>★ Sport Gloves | Amphibious</td>\n",
       "      <td>FT</td>\n",
       "      <td>0.005724</td>\n",
       "    </tr>\n",
       "    <tr>\n",
       "      <th>239</th>\n",
       "      <td>★ Sport Gloves | Amphibious</td>\n",
       "      <td>FN</td>\n",
       "      <td>NaN</td>\n",
       "    </tr>\n",
       "  </tbody>\n",
       "</table>\n",
       "<p>240 rows × 3 columns</p>\n",
       "</div>"
      ],
      "text/plain": [
       "                   market_hash_name quality       var\n",
       "0    ★ Driver Gloves | Lunar Weave       BS  0.011211\n",
       "1    ★ Driver Gloves | Lunar Weave       MW  0.000182\n",
       "2    ★ Driver Gloves | Lunar Weave       WW  0.000302\n",
       "3    ★ Driver Gloves | Lunar Weave       FT  0.005614\n",
       "4    ★ Driver Gloves | Lunar Weave       FN  0.000003\n",
       "..                              ...     ...       ...\n",
       "235    ★ Sport Gloves | Amphibious       BS  0.010551\n",
       "236    ★ Sport Gloves | Amphibious       MW  0.000384\n",
       "237    ★ Sport Gloves | Amphibious       WW  0.000361\n",
       "238    ★ Sport Gloves | Amphibious       FT  0.005724\n",
       "239    ★ Sport Gloves | Amphibious       FN       NaN\n",
       "\n",
       "[240 rows x 3 columns]"
      ]
     },
     "execution_count": 60,
     "metadata": {},
     "output_type": "execute_result"
    }
   ],
   "source": [
    "vars_info = []\n",
    "for market_hash_name, quality in itertools.product(market_hash_names, qualities):\n",
    "    vars_info.append({'market_hash_name': market_hash_name,\n",
    "                      'quality': quality, \n",
    "                      'var': df[(df['market_hash_name'] == market_hash_name) & (df['quality'] == quality)]['wear_value'].var()})\n",
    "vars_info = pd.DataFrame(vars_info)\n",
    "vars_info"
   ]
  },
  {
   "cell_type": "markdown",
   "metadata": {},
   "source": [
    "Найдем максимальные и минимальные значения дисперсии для каждого значения `quality`:"
   ]
  },
  {
   "cell_type": "code",
   "execution_count": 61,
   "metadata": {
    "pycharm": {
     "name": "#%%\n"
    }
   },
   "outputs": [],
   "source": [
    "maxs = []\n",
    "mins = []\n",
    "for quality in qualities:\n",
    "    max_var = vars_info[vars_info['quality'] == quality]['var'].max()\n",
    "    min_var = vars_info[vars_info['quality'] == quality]['var'].min()\n",
    "    maxs += vars_info[vars_info['var'] == max_var].to_dict(orient='records')\n",
    "    mins += vars_info[vars_info['var'] == min_var].to_dict(orient='records')"
   ]
  },
  {
   "cell_type": "markdown",
   "metadata": {},
   "source": [
    "Список перчаток каждого качества, у которых значение `wear_value` изменяется сильнее, чем у остальных:"
   ]
  },
  {
   "cell_type": "code",
   "execution_count": 62,
   "metadata": {
    "pycharm": {
     "name": "#%%\n"
    }
   },
   "outputs": [
    {
     "data": {
      "text/html": [
       "<div>\n",
       "<style scoped>\n",
       "    .dataframe tbody tr th:only-of-type {\n",
       "        vertical-align: middle;\n",
       "    }\n",
       "\n",
       "    .dataframe tbody tr th {\n",
       "        vertical-align: top;\n",
       "    }\n",
       "\n",
       "    .dataframe thead th {\n",
       "        text-align: right;\n",
       "    }\n",
       "</style>\n",
       "<table border=\"1\" class=\"dataframe\">\n",
       "  <thead>\n",
       "    <tr style=\"text-align: right;\">\n",
       "      <th></th>\n",
       "      <th>market_hash_name</th>\n",
       "      <th>quality</th>\n",
       "      <th>var</th>\n",
       "    </tr>\n",
       "  </thead>\n",
       "  <tbody>\n",
       "    <tr>\n",
       "      <th>0</th>\n",
       "      <td>★ Sport Gloves | Vice</td>\n",
       "      <td>BS</td>\n",
       "      <td>0.012481</td>\n",
       "    </tr>\n",
       "    <tr>\n",
       "      <th>1</th>\n",
       "      <td>★ Hydra Gloves | Mangrove</td>\n",
       "      <td>MW</td>\n",
       "      <td>0.000557</td>\n",
       "    </tr>\n",
       "    <tr>\n",
       "      <th>2</th>\n",
       "      <td>★ Moto Gloves | Polygon</td>\n",
       "      <td>WW</td>\n",
       "      <td>0.000520</td>\n",
       "    </tr>\n",
       "    <tr>\n",
       "      <th>3</th>\n",
       "      <td>★ Hydra Gloves | Case Hardened</td>\n",
       "      <td>FT</td>\n",
       "      <td>0.006651</td>\n",
       "    </tr>\n",
       "    <tr>\n",
       "      <th>4</th>\n",
       "      <td>★ Sport Gloves | Vice</td>\n",
       "      <td>FN</td>\n",
       "      <td>0.000021</td>\n",
       "    </tr>\n",
       "  </tbody>\n",
       "</table>\n",
       "</div>"
      ],
      "text/plain": [
       "                  market_hash_name quality       var\n",
       "0           ★ Sport Gloves | Vice       BS  0.012481\n",
       "1       ★ Hydra Gloves | Mangrove       MW  0.000557\n",
       "2         ★ Moto Gloves | Polygon       WW  0.000520\n",
       "3  ★ Hydra Gloves | Case Hardened       FT  0.006651\n",
       "4           ★ Sport Gloves | Vice       FN  0.000021"
      ]
     },
     "execution_count": 62,
     "metadata": {},
     "output_type": "execute_result"
    }
   ],
   "source": [
    "pd.DataFrame(maxs)"
   ]
  },
  {
   "cell_type": "markdown",
   "metadata": {},
   "source": [
    "Список перчаток каждого качества, у которых значение `wear_value` изменяется слабее, чем у остальных:"
   ]
  },
  {
   "cell_type": "code",
   "execution_count": 63,
   "metadata": {
    "pycharm": {
     "name": "#%%\n"
    }
   },
   "outputs": [
    {
     "data": {
      "text/html": [
       "<div>\n",
       "<style scoped>\n",
       "    .dataframe tbody tr th:only-of-type {\n",
       "        vertical-align: middle;\n",
       "    }\n",
       "\n",
       "    .dataframe tbody tr th {\n",
       "        vertical-align: top;\n",
       "    }\n",
       "\n",
       "    .dataframe thead th {\n",
       "        text-align: right;\n",
       "    }\n",
       "</style>\n",
       "<table border=\"1\" class=\"dataframe\">\n",
       "  <thead>\n",
       "    <tr style=\"text-align: right;\">\n",
       "      <th></th>\n",
       "      <th>market_hash_name</th>\n",
       "      <th>quality</th>\n",
       "      <th>var</th>\n",
       "    </tr>\n",
       "  </thead>\n",
       "  <tbody>\n",
       "    <tr>\n",
       "      <th>0</th>\n",
       "      <td>★ Specialist Gloves | Mogul</td>\n",
       "      <td>BS</td>\n",
       "      <td>7.905624e-03</td>\n",
       "    </tr>\n",
       "    <tr>\n",
       "      <th>1</th>\n",
       "      <td>★ Driver Gloves | Racing Green</td>\n",
       "      <td>MW</td>\n",
       "      <td>1.715146e-04</td>\n",
       "    </tr>\n",
       "    <tr>\n",
       "      <th>2</th>\n",
       "      <td>★ Moto Gloves | Boom!</td>\n",
       "      <td>WW</td>\n",
       "      <td>1.611888e-04</td>\n",
       "    </tr>\n",
       "    <tr>\n",
       "      <th>3</th>\n",
       "      <td>★ Bloodhound Gloves | Bronzed</td>\n",
       "      <td>FT</td>\n",
       "      <td>4.228206e-03</td>\n",
       "    </tr>\n",
       "    <tr>\n",
       "      <th>4</th>\n",
       "      <td>★ Specialist Gloves | Crimson Kimono</td>\n",
       "      <td>FN</td>\n",
       "      <td>7.932144e-10</td>\n",
       "    </tr>\n",
       "  </tbody>\n",
       "</table>\n",
       "</div>"
      ],
      "text/plain": [
       "                        market_hash_name quality           var\n",
       "0           ★ Specialist Gloves | Mogul       BS  7.905624e-03\n",
       "1        ★ Driver Gloves | Racing Green       MW  1.715146e-04\n",
       "2                 ★ Moto Gloves | Boom!       WW  1.611888e-04\n",
       "3         ★ Bloodhound Gloves | Bronzed       FT  4.228206e-03\n",
       "4  ★ Specialist Gloves | Crimson Kimono       FN  7.932144e-10"
      ]
     },
     "execution_count": 63,
     "metadata": {},
     "output_type": "execute_result"
    }
   ],
   "source": [
    "pd.DataFrame(mins)"
   ]
  },
  {
   "cell_type": "markdown",
   "metadata": {},
   "source": [
    "Получены значения дисперции для каждого вида перчаток на всей выборке. \n",
    "Проблема в том, что дисперсии считались для разного числа продаж. \n",
    "\n",
    "Посмотрим, сколько было совершено продаж перчаток каждого вида:"
   ]
  },
  {
   "cell_type": "code",
   "execution_count": 64,
   "metadata": {
    "pycharm": {
     "name": "#%%\n"
    }
   },
   "outputs": [
    {
     "data": {
      "text/html": [
       "<div>\n",
       "<style scoped>\n",
       "    .dataframe tbody tr th:only-of-type {\n",
       "        vertical-align: middle;\n",
       "    }\n",
       "\n",
       "    .dataframe tbody tr th {\n",
       "        vertical-align: top;\n",
       "    }\n",
       "\n",
       "    .dataframe thead th {\n",
       "        text-align: right;\n",
       "    }\n",
       "</style>\n",
       "<table border=\"1\" class=\"dataframe\">\n",
       "  <thead>\n",
       "    <tr style=\"text-align: right;\">\n",
       "      <th></th>\n",
       "      <th>market_hash_name</th>\n",
       "      <th>quality</th>\n",
       "      <th>total_solds</th>\n",
       "    </tr>\n",
       "  </thead>\n",
       "  <tbody>\n",
       "    <tr>\n",
       "      <th>119</th>\n",
       "      <td>★ Specialist Gloves | Buckshot</td>\n",
       "      <td>FN</td>\n",
       "      <td>0</td>\n",
       "    </tr>\n",
       "    <tr>\n",
       "      <th>234</th>\n",
       "      <td>★ Sport Gloves | Omega</td>\n",
       "      <td>FN</td>\n",
       "      <td>0</td>\n",
       "    </tr>\n",
       "    <tr>\n",
       "      <th>99</th>\n",
       "      <td>★ Hand Wraps | Cobalt Skulls</td>\n",
       "      <td>FN</td>\n",
       "      <td>0</td>\n",
       "    </tr>\n",
       "    <tr>\n",
       "      <th>54</th>\n",
       "      <td>★ Hydra Gloves | Mangrove</td>\n",
       "      <td>FN</td>\n",
       "      <td>0</td>\n",
       "    </tr>\n",
       "    <tr>\n",
       "      <th>24</th>\n",
       "      <td>★ Bloodhound Gloves | Snakebite</td>\n",
       "      <td>FN</td>\n",
       "      <td>0</td>\n",
       "    </tr>\n",
       "    <tr>\n",
       "      <th>...</th>\n",
       "      <td>...</td>\n",
       "      <td>...</td>\n",
       "      <td>...</td>\n",
       "    </tr>\n",
       "    <tr>\n",
       "      <th>208</th>\n",
       "      <td>★ Specialist Gloves | Forest DDPAT</td>\n",
       "      <td>FT</td>\n",
       "      <td>147</td>\n",
       "    </tr>\n",
       "    <tr>\n",
       "      <th>15</th>\n",
       "      <td>★ Driver Gloves | Imperial Plaid</td>\n",
       "      <td>BS</td>\n",
       "      <td>147</td>\n",
       "    </tr>\n",
       "    <tr>\n",
       "      <th>153</th>\n",
       "      <td>★ Driver Gloves | Diamondback</td>\n",
       "      <td>FT</td>\n",
       "      <td>147</td>\n",
       "    </tr>\n",
       "    <tr>\n",
       "      <th>78</th>\n",
       "      <td>★ Hand Wraps | Duct Tape</td>\n",
       "      <td>FT</td>\n",
       "      <td>147</td>\n",
       "    </tr>\n",
       "    <tr>\n",
       "      <th>211</th>\n",
       "      <td>★ Bloodhound Gloves | Charred</td>\n",
       "      <td>MW</td>\n",
       "      <td>148</td>\n",
       "    </tr>\n",
       "  </tbody>\n",
       "</table>\n",
       "<p>240 rows × 3 columns</p>\n",
       "</div>"
      ],
      "text/plain": [
       "                        market_hash_name quality  total_solds\n",
       "119      ★ Specialist Gloves | Buckshot       FN            0\n",
       "234              ★ Sport Gloves | Omega       FN            0\n",
       "99         ★ Hand Wraps | Cobalt Skulls       FN            0\n",
       "54            ★ Hydra Gloves | Mangrove       FN            0\n",
       "24      ★ Bloodhound Gloves | Snakebite       FN            0\n",
       "..                                   ...     ...          ...\n",
       "208  ★ Specialist Gloves | Forest DDPAT       FT          147\n",
       "15     ★ Driver Gloves | Imperial Plaid       BS          147\n",
       "153       ★ Driver Gloves | Diamondback       FT          147\n",
       "78             ★ Hand Wraps | Duct Tape       FT          147\n",
       "211       ★ Bloodhound Gloves | Charred       MW          148\n",
       "\n",
       "[240 rows x 3 columns]"
      ]
     },
     "execution_count": 64,
     "metadata": {},
     "output_type": "execute_result"
    }
   ],
   "source": [
    "solds_count = []\n",
    "for market_hash_name, quality in itertools.product(market_hash_names, qualities):\n",
    "    solds_count.append({'market_hash_name': market_hash_name,\n",
    "                      'quality': quality,\n",
    "                      'total_solds': df[(df['market_hash_name'] == market_hash_name) & (df['quality'] == quality)]['wear_value'].count()})\n",
    "solds_count = pd.DataFrame(solds_count)\n",
    "solds_count.sort_values('total_solds')"
   ]
  },
  {
   "cell_type": "markdown",
   "metadata": {},
   "source": [
    "Исключим из выборки элементы, у которых количество продаж равно `0` или `1`:"
   ]
  },
  {
   "cell_type": "code",
   "execution_count": 65,
   "metadata": {
    "pycharm": {
     "name": "#%%\n"
    }
   },
   "outputs": [
    {
     "data": {
      "text/html": [
       "<div>\n",
       "<style scoped>\n",
       "    .dataframe tbody tr th:only-of-type {\n",
       "        vertical-align: middle;\n",
       "    }\n",
       "\n",
       "    .dataframe tbody tr th {\n",
       "        vertical-align: top;\n",
       "    }\n",
       "\n",
       "    .dataframe thead th {\n",
       "        text-align: right;\n",
       "    }\n",
       "</style>\n",
       "<table border=\"1\" class=\"dataframe\">\n",
       "  <thead>\n",
       "    <tr style=\"text-align: right;\">\n",
       "      <th></th>\n",
       "      <th>market_hash_name</th>\n",
       "      <th>quality</th>\n",
       "      <th>total_solds</th>\n",
       "    </tr>\n",
       "  </thead>\n",
       "  <tbody>\n",
       "    <tr>\n",
       "      <th>0</th>\n",
       "      <td>★ Driver Gloves | Lunar Weave</td>\n",
       "      <td>BS</td>\n",
       "      <td>141</td>\n",
       "    </tr>\n",
       "    <tr>\n",
       "      <th>1</th>\n",
       "      <td>★ Driver Gloves | Lunar Weave</td>\n",
       "      <td>MW</td>\n",
       "      <td>145</td>\n",
       "    </tr>\n",
       "    <tr>\n",
       "      <th>2</th>\n",
       "      <td>★ Driver Gloves | Lunar Weave</td>\n",
       "      <td>WW</td>\n",
       "      <td>145</td>\n",
       "    </tr>\n",
       "    <tr>\n",
       "      <th>3</th>\n",
       "      <td>★ Driver Gloves | Lunar Weave</td>\n",
       "      <td>FT</td>\n",
       "      <td>135</td>\n",
       "    </tr>\n",
       "    <tr>\n",
       "      <th>4</th>\n",
       "      <td>★ Driver Gloves | Lunar Weave</td>\n",
       "      <td>FN</td>\n",
       "      <td>4</td>\n",
       "    </tr>\n",
       "    <tr>\n",
       "      <th>...</th>\n",
       "      <td>...</td>\n",
       "      <td>...</td>\n",
       "      <td>...</td>\n",
       "    </tr>\n",
       "    <tr>\n",
       "      <th>233</th>\n",
       "      <td>★ Sport Gloves | Omega</td>\n",
       "      <td>FT</td>\n",
       "      <td>139</td>\n",
       "    </tr>\n",
       "    <tr>\n",
       "      <th>235</th>\n",
       "      <td>★ Sport Gloves | Amphibious</td>\n",
       "      <td>BS</td>\n",
       "      <td>146</td>\n",
       "    </tr>\n",
       "    <tr>\n",
       "      <th>236</th>\n",
       "      <td>★ Sport Gloves | Amphibious</td>\n",
       "      <td>MW</td>\n",
       "      <td>89</td>\n",
       "    </tr>\n",
       "    <tr>\n",
       "      <th>237</th>\n",
       "      <td>★ Sport Gloves | Amphibious</td>\n",
       "      <td>WW</td>\n",
       "      <td>67</td>\n",
       "    </tr>\n",
       "    <tr>\n",
       "      <th>238</th>\n",
       "      <td>★ Sport Gloves | Amphibious</td>\n",
       "      <td>FT</td>\n",
       "      <td>137</td>\n",
       "    </tr>\n",
       "  </tbody>\n",
       "</table>\n",
       "<p>219 rows × 3 columns</p>\n",
       "</div>"
      ],
      "text/plain": [
       "                   market_hash_name quality  total_solds\n",
       "0    ★ Driver Gloves | Lunar Weave       BS          141\n",
       "1    ★ Driver Gloves | Lunar Weave       MW          145\n",
       "2    ★ Driver Gloves | Lunar Weave       WW          145\n",
       "3    ★ Driver Gloves | Lunar Weave       FT          135\n",
       "4    ★ Driver Gloves | Lunar Weave       FN            4\n",
       "..                              ...     ...          ...\n",
       "233         ★ Sport Gloves | Omega       FT          139\n",
       "235    ★ Sport Gloves | Amphibious       BS          146\n",
       "236    ★ Sport Gloves | Amphibious       MW           89\n",
       "237    ★ Sport Gloves | Amphibious       WW           67\n",
       "238    ★ Sport Gloves | Amphibious       FT          137\n",
       "\n",
       "[219 rows x 3 columns]"
      ]
     },
     "execution_count": 65,
     "metadata": {},
     "output_type": "execute_result"
    }
   ],
   "source": [
    "solds_count = solds_count[solds_count['total_solds'] > 1]\n",
    "solds_count"
   ]
  },
  {
   "cell_type": "markdown",
   "metadata": {},
   "source": [
    "Найдем 1, 2, 3 квантили продаж для каждого качества:"
   ]
  },
  {
   "cell_type": "code",
   "execution_count": 66,
   "metadata": {
    "pycharm": {
     "name": "#%%\n"
    }
   },
   "outputs": [],
   "source": [
    "quantiles = pd.DataFrame()\n",
    "\n",
    "for quality in qualities:\n",
    "    column_values = []\n",
    "    for quantile_ in (0.25, 0.5, 0.75):\n",
    "        column_values += list(solds_count[solds_count['quality'] == quality].quantile(quantile_).values)\n",
    "    quantiles[quality] = column_values\n",
    "quantiles.set_index(np.array(['25%', '50%', '75%']), inplace=True)"
   ]
  },
  {
   "cell_type": "code",
   "execution_count": 67,
   "metadata": {
    "pycharm": {
     "name": "#%%\n"
    }
   },
   "outputs": [
    {
     "data": {
      "text/html": [
       "<div>\n",
       "<style scoped>\n",
       "    .dataframe tbody tr th:only-of-type {\n",
       "        vertical-align: middle;\n",
       "    }\n",
       "\n",
       "    .dataframe tbody tr th {\n",
       "        vertical-align: top;\n",
       "    }\n",
       "\n",
       "    .dataframe thead th {\n",
       "        text-align: right;\n",
       "    }\n",
       "</style>\n",
       "<table border=\"1\" class=\"dataframe\">\n",
       "  <thead>\n",
       "    <tr style=\"text-align: right;\">\n",
       "      <th></th>\n",
       "      <th>BS</th>\n",
       "      <th>MW</th>\n",
       "      <th>WW</th>\n",
       "      <th>FT</th>\n",
       "      <th>FN</th>\n",
       "    </tr>\n",
       "  </thead>\n",
       "  <tbody>\n",
       "    <tr>\n",
       "      <th>25%</th>\n",
       "      <td>137.0</td>\n",
       "      <td>105.25</td>\n",
       "      <td>84.75</td>\n",
       "      <td>135.00</td>\n",
       "      <td>2.0</td>\n",
       "    </tr>\n",
       "    <tr>\n",
       "      <th>50%</th>\n",
       "      <td>141.0</td>\n",
       "      <td>134.00</td>\n",
       "      <td>117.00</td>\n",
       "      <td>139.00</td>\n",
       "      <td>3.0</td>\n",
       "    </tr>\n",
       "    <tr>\n",
       "      <th>75%</th>\n",
       "      <td>144.0</td>\n",
       "      <td>139.25</td>\n",
       "      <td>134.25</td>\n",
       "      <td>141.25</td>\n",
       "      <td>5.0</td>\n",
       "    </tr>\n",
       "  </tbody>\n",
       "</table>\n",
       "</div>"
      ],
      "text/plain": [
       "        BS      MW      WW      FT   FN\n",
       "25%  137.0  105.25   84.75  135.00  2.0\n",
       "50%  141.0  134.00  117.00  139.00  3.0\n",
       "75%  144.0  139.25  134.25  141.25  5.0"
      ]
     },
     "execution_count": 67,
     "metadata": {},
     "output_type": "execute_result"
    }
   ],
   "source": [
    "quantiles"
   ]
  },
  {
   "cell_type": "markdown",
   "metadata": {},
   "source": [
    "Получим значения дисперсий `wear_value` для каждого качества на каждом квантиле из уже найденных дисперсий:"
   ]
  },
  {
   "cell_type": "code",
   "execution_count": 68,
   "metadata": {
    "pycharm": {
     "name": "#%%\n"
    }
   },
   "outputs": [],
   "source": [
    "vars_info_tmp = vars_info.copy()"
   ]
  },
  {
   "cell_type": "code",
   "execution_count": 69,
   "metadata": {
    "pycharm": {
     "name": "#%%\n"
    }
   },
   "outputs": [],
   "source": [
    "vars_info_tmp = vars_info_tmp.merge(solds_count)\n"
   ]
  },
  {
   "cell_type": "markdown",
   "metadata": {},
   "source": [
    "Первый квантиль:"
   ]
  },
  {
   "cell_type": "code",
   "execution_count": 70,
   "metadata": {
    "pycharm": {
     "name": "#%%\n"
    }
   },
   "outputs": [],
   "source": [
    "maxs = []\n",
    "mins = []\n",
    "for quality in qualities:\n",
    "    max_var = vars_info_tmp[(vars_info_tmp['quality'] == quality) & (vars_info_tmp['total_solds'] <= quantiles[quality][0])]['var'].max()\n",
    "    min_var = vars_info_tmp[(vars_info_tmp['quality'] == quality) & (vars_info_tmp['total_solds'] <= quantiles[quality][0])]['var'].min()\n",
    "    maxs += vars_info_tmp[vars_info_tmp['var'] == max_var].to_dict(orient='records')\n",
    "    mins += vars_info_tmp[vars_info_tmp['var'] == min_var].to_dict(orient='records')"
   ]
  },
  {
   "cell_type": "code",
   "execution_count": 71,
   "metadata": {
    "pycharm": {
     "name": "#%%\n"
    }
   },
   "outputs": [
    {
     "data": {
      "text/html": [
       "<div>\n",
       "<style scoped>\n",
       "    .dataframe tbody tr th:only-of-type {\n",
       "        vertical-align: middle;\n",
       "    }\n",
       "\n",
       "    .dataframe tbody tr th {\n",
       "        vertical-align: top;\n",
       "    }\n",
       "\n",
       "    .dataframe thead th {\n",
       "        text-align: right;\n",
       "    }\n",
       "</style>\n",
       "<table border=\"1\" class=\"dataframe\">\n",
       "  <thead>\n",
       "    <tr style=\"text-align: right;\">\n",
       "      <th></th>\n",
       "      <th>market_hash_name</th>\n",
       "      <th>quality</th>\n",
       "      <th>var</th>\n",
       "      <th>total_solds</th>\n",
       "    </tr>\n",
       "  </thead>\n",
       "  <tbody>\n",
       "    <tr>\n",
       "      <th>0</th>\n",
       "      <td>★ Hand Wraps | Arboreal</td>\n",
       "      <td>BS</td>\n",
       "      <td>0.011873</td>\n",
       "      <td>128</td>\n",
       "    </tr>\n",
       "    <tr>\n",
       "      <th>1</th>\n",
       "      <td>★ Moto Gloves | Spearmint</td>\n",
       "      <td>MW</td>\n",
       "      <td>0.000507</td>\n",
       "      <td>73</td>\n",
       "    </tr>\n",
       "    <tr>\n",
       "      <th>2</th>\n",
       "      <td>★ Hand Wraps | Arboreal</td>\n",
       "      <td>WW</td>\n",
       "      <td>0.000488</td>\n",
       "      <td>70</td>\n",
       "    </tr>\n",
       "    <tr>\n",
       "      <th>3</th>\n",
       "      <td>★ Driver Gloves | Crimson Weave</td>\n",
       "      <td>FT</td>\n",
       "      <td>0.006598</td>\n",
       "      <td>135</td>\n",
       "    </tr>\n",
       "    <tr>\n",
       "      <th>4</th>\n",
       "      <td>★ Sport Gloves | Vice</td>\n",
       "      <td>FN</td>\n",
       "      <td>0.000021</td>\n",
       "      <td>2</td>\n",
       "    </tr>\n",
       "  </tbody>\n",
       "</table>\n",
       "</div>"
      ],
      "text/plain": [
       "                   market_hash_name quality       var  total_solds\n",
       "0          ★ Hand Wraps | Arboreal       BS  0.011873          128\n",
       "1        ★ Moto Gloves | Spearmint       MW  0.000507           73\n",
       "2          ★ Hand Wraps | Arboreal       WW  0.000488           70\n",
       "3  ★ Driver Gloves | Crimson Weave       FT  0.006598          135\n",
       "4            ★ Sport Gloves | Vice       FN  0.000021            2"
      ]
     },
     "execution_count": 71,
     "metadata": {},
     "output_type": "execute_result"
    }
   ],
   "source": [
    "pd.DataFrame(maxs)"
   ]
  },
  {
   "cell_type": "code",
   "execution_count": 72,
   "metadata": {
    "pycharm": {
     "name": "#%%\n"
    }
   },
   "outputs": [
    {
     "data": {
      "text/html": [
       "<div>\n",
       "<style scoped>\n",
       "    .dataframe tbody tr th:only-of-type {\n",
       "        vertical-align: middle;\n",
       "    }\n",
       "\n",
       "    .dataframe tbody tr th {\n",
       "        vertical-align: top;\n",
       "    }\n",
       "\n",
       "    .dataframe thead th {\n",
       "        text-align: right;\n",
       "    }\n",
       "</style>\n",
       "<table border=\"1\" class=\"dataframe\">\n",
       "  <thead>\n",
       "    <tr style=\"text-align: right;\">\n",
       "      <th></th>\n",
       "      <th>market_hash_name</th>\n",
       "      <th>quality</th>\n",
       "      <th>var</th>\n",
       "      <th>total_solds</th>\n",
       "    </tr>\n",
       "  </thead>\n",
       "  <tbody>\n",
       "    <tr>\n",
       "      <th>0</th>\n",
       "      <td>★ Specialist Gloves | Mogul</td>\n",
       "      <td>BS</td>\n",
       "      <td>7.905624e-03</td>\n",
       "      <td>137</td>\n",
       "    </tr>\n",
       "    <tr>\n",
       "      <th>1</th>\n",
       "      <td>★ Sport Gloves | Hedge Maze</td>\n",
       "      <td>MW</td>\n",
       "      <td>1.729535e-04</td>\n",
       "      <td>85</td>\n",
       "    </tr>\n",
       "    <tr>\n",
       "      <th>2</th>\n",
       "      <td>★ Sport Gloves | Vice</td>\n",
       "      <td>WW</td>\n",
       "      <td>1.806081e-04</td>\n",
       "      <td>69</td>\n",
       "    </tr>\n",
       "    <tr>\n",
       "      <th>3</th>\n",
       "      <td>★ Driver Gloves | Imperial Plaid</td>\n",
       "      <td>FT</td>\n",
       "      <td>4.698191e-03</td>\n",
       "      <td>130</td>\n",
       "    </tr>\n",
       "    <tr>\n",
       "      <th>4</th>\n",
       "      <td>★ Specialist Gloves | Crimson Kimono</td>\n",
       "      <td>FN</td>\n",
       "      <td>7.932144e-10</td>\n",
       "      <td>2</td>\n",
       "    </tr>\n",
       "  </tbody>\n",
       "</table>\n",
       "</div>"
      ],
      "text/plain": [
       "                        market_hash_name quality           var  total_solds\n",
       "0           ★ Specialist Gloves | Mogul       BS  7.905624e-03          137\n",
       "1           ★ Sport Gloves | Hedge Maze       MW  1.729535e-04           85\n",
       "2                 ★ Sport Gloves | Vice       WW  1.806081e-04           69\n",
       "3      ★ Driver Gloves | Imperial Plaid       FT  4.698191e-03          130\n",
       "4  ★ Specialist Gloves | Crimson Kimono       FN  7.932144e-10            2"
      ]
     },
     "execution_count": 72,
     "metadata": {},
     "output_type": "execute_result"
    }
   ],
   "source": [
    "pd.DataFrame(mins)"
   ]
  },
  {
   "cell_type": "markdown",
   "metadata": {},
   "source": [
    "Второй квантиль:"
   ]
  },
  {
   "cell_type": "code",
   "execution_count": 73,
   "metadata": {
    "pycharm": {
     "name": "#%%\n"
    }
   },
   "outputs": [],
   "source": [
    "maxs = []\n",
    "mins = []\n",
    "for quality in qualities:\n",
    "    max_var = vars_info_tmp[(vars_info_tmp['quality'] == quality) & (quantiles[quality][0] <= vars_info_tmp['total_solds']) & (vars_info_tmp['total_solds'] >= quantiles[quality][1])]['var'].max()\n",
    "    min_var = vars_info_tmp[(vars_info_tmp['quality'] == quality) & (quantiles[quality][0] <= vars_info_tmp['total_solds']) & (vars_info_tmp['total_solds'] >= quantiles[quality][1])]['var'].min()\n",
    "    maxs += vars_info_tmp[vars_info_tmp['var'] == max_var].to_dict(orient='records')\n",
    "    mins += vars_info_tmp[vars_info_tmp['var'] == min_var].to_dict(orient='records')"
   ]
  },
  {
   "cell_type": "code",
   "execution_count": 74,
   "metadata": {
    "pycharm": {
     "name": "#%%\n"
    }
   },
   "outputs": [
    {
     "data": {
      "text/html": [
       "<div>\n",
       "<style scoped>\n",
       "    .dataframe tbody tr th:only-of-type {\n",
       "        vertical-align: middle;\n",
       "    }\n",
       "\n",
       "    .dataframe tbody tr th {\n",
       "        vertical-align: top;\n",
       "    }\n",
       "\n",
       "    .dataframe thead th {\n",
       "        text-align: right;\n",
       "    }\n",
       "</style>\n",
       "<table border=\"1\" class=\"dataframe\">\n",
       "  <thead>\n",
       "    <tr style=\"text-align: right;\">\n",
       "      <th></th>\n",
       "      <th>market_hash_name</th>\n",
       "      <th>quality</th>\n",
       "      <th>var</th>\n",
       "      <th>total_solds</th>\n",
       "    </tr>\n",
       "  </thead>\n",
       "  <tbody>\n",
       "    <tr>\n",
       "      <th>0</th>\n",
       "      <td>★ Sport Gloves | Vice</td>\n",
       "      <td>BS</td>\n",
       "      <td>0.012481</td>\n",
       "      <td>141</td>\n",
       "    </tr>\n",
       "    <tr>\n",
       "      <th>1</th>\n",
       "      <td>★ Driver Gloves | Diamondback</td>\n",
       "      <td>MW</td>\n",
       "      <td>0.000479</td>\n",
       "      <td>135</td>\n",
       "    </tr>\n",
       "    <tr>\n",
       "      <th>2</th>\n",
       "      <td>★ Driver Gloves | Convoy</td>\n",
       "      <td>WW</td>\n",
       "      <td>0.000482</td>\n",
       "      <td>140</td>\n",
       "    </tr>\n",
       "    <tr>\n",
       "      <th>3</th>\n",
       "      <td>★ Hydra Gloves | Case Hardened</td>\n",
       "      <td>FT</td>\n",
       "      <td>0.006651</td>\n",
       "      <td>141</td>\n",
       "    </tr>\n",
       "    <tr>\n",
       "      <th>4</th>\n",
       "      <td>★ Sport Gloves | Arid</td>\n",
       "      <td>FN</td>\n",
       "      <td>0.000019</td>\n",
       "      <td>3</td>\n",
       "    </tr>\n",
       "  </tbody>\n",
       "</table>\n",
       "</div>"
      ],
      "text/plain": [
       "                  market_hash_name quality       var  total_solds\n",
       "0           ★ Sport Gloves | Vice       BS  0.012481          141\n",
       "1   ★ Driver Gloves | Diamondback       MW  0.000479          135\n",
       "2        ★ Driver Gloves | Convoy       WW  0.000482          140\n",
       "3  ★ Hydra Gloves | Case Hardened       FT  0.006651          141\n",
       "4           ★ Sport Gloves | Arid       FN  0.000019            3"
      ]
     },
     "execution_count": 74,
     "metadata": {},
     "output_type": "execute_result"
    }
   ],
   "source": [
    "pd.DataFrame(maxs)"
   ]
  },
  {
   "cell_type": "code",
   "execution_count": 75,
   "metadata": {
    "pycharm": {
     "name": "#%%\n"
    }
   },
   "outputs": [
    {
     "data": {
      "text/html": [
       "<div>\n",
       "<style scoped>\n",
       "    .dataframe tbody tr th:only-of-type {\n",
       "        vertical-align: middle;\n",
       "    }\n",
       "\n",
       "    .dataframe tbody tr th {\n",
       "        vertical-align: top;\n",
       "    }\n",
       "\n",
       "    .dataframe thead th {\n",
       "        text-align: right;\n",
       "    }\n",
       "</style>\n",
       "<table border=\"1\" class=\"dataframe\">\n",
       "  <thead>\n",
       "    <tr style=\"text-align: right;\">\n",
       "      <th></th>\n",
       "      <th>market_hash_name</th>\n",
       "      <th>quality</th>\n",
       "      <th>var</th>\n",
       "      <th>total_solds</th>\n",
       "    </tr>\n",
       "  </thead>\n",
       "  <tbody>\n",
       "    <tr>\n",
       "      <th>0</th>\n",
       "      <td>★ Specialist Gloves | Emerald Web</td>\n",
       "      <td>BS</td>\n",
       "      <td>8.008868e-03</td>\n",
       "      <td>143</td>\n",
       "    </tr>\n",
       "    <tr>\n",
       "      <th>1</th>\n",
       "      <td>★ Driver Gloves | Racing Green</td>\n",
       "      <td>MW</td>\n",
       "      <td>1.715146e-04</td>\n",
       "      <td>145</td>\n",
       "    </tr>\n",
       "    <tr>\n",
       "      <th>2</th>\n",
       "      <td>★ Moto Gloves | Boom!</td>\n",
       "      <td>WW</td>\n",
       "      <td>1.611888e-04</td>\n",
       "      <td>135</td>\n",
       "    </tr>\n",
       "    <tr>\n",
       "      <th>3</th>\n",
       "      <td>★ Bloodhound Gloves | Bronzed</td>\n",
       "      <td>FT</td>\n",
       "      <td>4.228206e-03</td>\n",
       "      <td>146</td>\n",
       "    </tr>\n",
       "    <tr>\n",
       "      <th>4</th>\n",
       "      <td>★ Driver Gloves | Racing Green</td>\n",
       "      <td>FN</td>\n",
       "      <td>4.186478e-07</td>\n",
       "      <td>4</td>\n",
       "    </tr>\n",
       "  </tbody>\n",
       "</table>\n",
       "</div>"
      ],
      "text/plain": [
       "                     market_hash_name quality           var  total_solds\n",
       "0  ★ Specialist Gloves | Emerald Web       BS  8.008868e-03          143\n",
       "1     ★ Driver Gloves | Racing Green       MW  1.715146e-04          145\n",
       "2              ★ Moto Gloves | Boom!       WW  1.611888e-04          135\n",
       "3      ★ Bloodhound Gloves | Bronzed       FT  4.228206e-03          146\n",
       "4     ★ Driver Gloves | Racing Green       FN  4.186478e-07            4"
      ]
     },
     "execution_count": 75,
     "metadata": {},
     "output_type": "execute_result"
    }
   ],
   "source": [
    "pd.DataFrame(mins)"
   ]
  },
  {
   "cell_type": "markdown",
   "metadata": {},
   "source": [
    "Третий квантиль:"
   ]
  },
  {
   "cell_type": "code",
   "execution_count": 76,
   "metadata": {
    "pycharm": {
     "name": "#%%\n"
    }
   },
   "outputs": [],
   "source": [
    "maxs = []\n",
    "mins = []\n",
    "for quality in qualities:\n",
    "    max_var = vars_info_tmp[(vars_info_tmp['quality'] == quality) & (quantiles[quality][1] <= vars_info_tmp['total_solds']) & (vars_info_tmp['total_solds'] >= quantiles[quality][2])]['var'].max()\n",
    "    min_var = vars_info_tmp[(vars_info_tmp['quality'] == quality) & (quantiles[quality][1] <= vars_info_tmp['total_solds']) & (vars_info_tmp['total_solds'] >= quantiles[quality][2])]['var'].min()\n",
    "    maxs += vars_info_tmp[vars_info_tmp['var'] == max_var].to_dict(orient='records')\n",
    "    mins += vars_info_tmp[vars_info_tmp['var'] == min_var].to_dict(orient='records')"
   ]
  },
  {
   "cell_type": "code",
   "execution_count": 77,
   "metadata": {
    "pycharm": {
     "name": "#%%\n"
    }
   },
   "outputs": [
    {
     "data": {
      "text/html": [
       "<div>\n",
       "<style scoped>\n",
       "    .dataframe tbody tr th:only-of-type {\n",
       "        vertical-align: middle;\n",
       "    }\n",
       "\n",
       "    .dataframe tbody tr th {\n",
       "        vertical-align: top;\n",
       "    }\n",
       "\n",
       "    .dataframe thead th {\n",
       "        text-align: right;\n",
       "    }\n",
       "</style>\n",
       "<table border=\"1\" class=\"dataframe\">\n",
       "  <thead>\n",
       "    <tr style=\"text-align: right;\">\n",
       "      <th></th>\n",
       "      <th>market_hash_name</th>\n",
       "      <th>quality</th>\n",
       "      <th>var</th>\n",
       "      <th>total_solds</th>\n",
       "    </tr>\n",
       "  </thead>\n",
       "  <tbody>\n",
       "    <tr>\n",
       "      <th>0</th>\n",
       "      <td>★ Hand Wraps | Cobalt Skulls</td>\n",
       "      <td>BS</td>\n",
       "      <td>0.011728</td>\n",
       "      <td>146</td>\n",
       "    </tr>\n",
       "    <tr>\n",
       "      <th>1</th>\n",
       "      <td>★ Bloodhound Gloves | Guerrilla</td>\n",
       "      <td>MW</td>\n",
       "      <td>0.000399</td>\n",
       "      <td>146</td>\n",
       "    </tr>\n",
       "    <tr>\n",
       "      <th>2</th>\n",
       "      <td>★ Driver Gloves | Convoy</td>\n",
       "      <td>WW</td>\n",
       "      <td>0.000482</td>\n",
       "      <td>140</td>\n",
       "    </tr>\n",
       "    <tr>\n",
       "      <th>3</th>\n",
       "      <td>★ Hand Wraps | Duct Tape</td>\n",
       "      <td>FT</td>\n",
       "      <td>0.006078</td>\n",
       "      <td>147</td>\n",
       "    </tr>\n",
       "    <tr>\n",
       "      <th>4</th>\n",
       "      <td>★ Bloodhound Gloves | Charred</td>\n",
       "      <td>FN</td>\n",
       "      <td>0.000013</td>\n",
       "      <td>5</td>\n",
       "    </tr>\n",
       "  </tbody>\n",
       "</table>\n",
       "</div>"
      ],
      "text/plain": [
       "                   market_hash_name quality       var  total_solds\n",
       "0     ★ Hand Wraps | Cobalt Skulls       BS  0.011728          146\n",
       "1  ★ Bloodhound Gloves | Guerrilla       MW  0.000399          146\n",
       "2         ★ Driver Gloves | Convoy       WW  0.000482          140\n",
       "3         ★ Hand Wraps | Duct Tape       FT  0.006078          147\n",
       "4    ★ Bloodhound Gloves | Charred       FN  0.000013            5"
      ]
     },
     "execution_count": 77,
     "metadata": {},
     "output_type": "execute_result"
    }
   ],
   "source": [
    "pd.DataFrame(maxs)"
   ]
  },
  {
   "cell_type": "code",
   "execution_count": 78,
   "metadata": {
    "pycharm": {
     "name": "#%%\n"
    }
   },
   "outputs": [
    {
     "data": {
      "text/html": [
       "<div>\n",
       "<style scoped>\n",
       "    .dataframe tbody tr th:only-of-type {\n",
       "        vertical-align: middle;\n",
       "    }\n",
       "\n",
       "    .dataframe tbody tr th {\n",
       "        vertical-align: top;\n",
       "    }\n",
       "\n",
       "    .dataframe thead th {\n",
       "        text-align: right;\n",
       "    }\n",
       "</style>\n",
       "<table border=\"1\" class=\"dataframe\">\n",
       "  <thead>\n",
       "    <tr style=\"text-align: right;\">\n",
       "      <th></th>\n",
       "      <th>market_hash_name</th>\n",
       "      <th>quality</th>\n",
       "      <th>var</th>\n",
       "      <th>total_solds</th>\n",
       "    </tr>\n",
       "  </thead>\n",
       "  <tbody>\n",
       "    <tr>\n",
       "      <th>0</th>\n",
       "      <td>★ Specialist Gloves | Foundation</td>\n",
       "      <td>BS</td>\n",
       "      <td>0.008430</td>\n",
       "      <td>147</td>\n",
       "    </tr>\n",
       "    <tr>\n",
       "      <th>1</th>\n",
       "      <td>★ Driver Gloves | Racing Green</td>\n",
       "      <td>MW</td>\n",
       "      <td>0.000172</td>\n",
       "      <td>145</td>\n",
       "    </tr>\n",
       "    <tr>\n",
       "      <th>2</th>\n",
       "      <td>★ Moto Gloves | Boom!</td>\n",
       "      <td>WW</td>\n",
       "      <td>0.000161</td>\n",
       "      <td>135</td>\n",
       "    </tr>\n",
       "    <tr>\n",
       "      <th>3</th>\n",
       "      <td>★ Bloodhound Gloves | Bronzed</td>\n",
       "      <td>FT</td>\n",
       "      <td>0.004228</td>\n",
       "      <td>146</td>\n",
       "    </tr>\n",
       "    <tr>\n",
       "      <th>4</th>\n",
       "      <td>★ Hand Wraps | Duct Tape</td>\n",
       "      <td>FN</td>\n",
       "      <td>0.000001</td>\n",
       "      <td>7</td>\n",
       "    </tr>\n",
       "  </tbody>\n",
       "</table>\n",
       "</div>"
      ],
      "text/plain": [
       "                    market_hash_name quality       var  total_solds\n",
       "0  ★ Specialist Gloves | Foundation       BS  0.008430          147\n",
       "1    ★ Driver Gloves | Racing Green       MW  0.000172          145\n",
       "2             ★ Moto Gloves | Boom!       WW  0.000161          135\n",
       "3     ★ Bloodhound Gloves | Bronzed       FT  0.004228          146\n",
       "4          ★ Hand Wraps | Duct Tape       FN  0.000001            7"
      ]
     },
     "execution_count": 78,
     "metadata": {},
     "output_type": "execute_result"
    }
   ],
   "source": [
    "pd.DataFrame(mins)"
   ]
  },
  {
   "cell_type": "markdown",
   "metadata": {},
   "source": [
    "Четвертый квантиль:"
   ]
  },
  {
   "cell_type": "code",
   "execution_count": 79,
   "metadata": {
    "pycharm": {
     "name": "#%%\n"
    }
   },
   "outputs": [],
   "source": [
    "maxs = []\n",
    "mins = []\n",
    "for quality in qualities:\n",
    "    max_var = vars_info_tmp[(vars_info_tmp['quality'] == quality) & (vars_info_tmp['total_solds'] >= quantiles[quality][2])]['var'].max()\n",
    "    min_var = vars_info_tmp[(vars_info_tmp['quality'] == quality) & (vars_info_tmp['total_solds'] >= quantiles[quality][2])]['var'].min()\n",
    "    maxs += vars_info_tmp[vars_info_tmp['var'] == max_var].to_dict(orient='records')\n",
    "    mins += vars_info_tmp[vars_info_tmp['var'] == min_var].to_dict(orient='records')"
   ]
  },
  {
   "cell_type": "code",
   "execution_count": 80,
   "metadata": {
    "pycharm": {
     "name": "#%%\n"
    }
   },
   "outputs": [
    {
     "data": {
      "text/html": [
       "<div>\n",
       "<style scoped>\n",
       "    .dataframe tbody tr th:only-of-type {\n",
       "        vertical-align: middle;\n",
       "    }\n",
       "\n",
       "    .dataframe tbody tr th {\n",
       "        vertical-align: top;\n",
       "    }\n",
       "\n",
       "    .dataframe thead th {\n",
       "        text-align: right;\n",
       "    }\n",
       "</style>\n",
       "<table border=\"1\" class=\"dataframe\">\n",
       "  <thead>\n",
       "    <tr style=\"text-align: right;\">\n",
       "      <th></th>\n",
       "      <th>market_hash_name</th>\n",
       "      <th>quality</th>\n",
       "      <th>var</th>\n",
       "      <th>total_solds</th>\n",
       "    </tr>\n",
       "  </thead>\n",
       "  <tbody>\n",
       "    <tr>\n",
       "      <th>0</th>\n",
       "      <td>★ Hand Wraps | Cobalt Skulls</td>\n",
       "      <td>BS</td>\n",
       "      <td>0.011728</td>\n",
       "      <td>146</td>\n",
       "    </tr>\n",
       "    <tr>\n",
       "      <th>1</th>\n",
       "      <td>★ Bloodhound Gloves | Guerrilla</td>\n",
       "      <td>MW</td>\n",
       "      <td>0.000399</td>\n",
       "      <td>146</td>\n",
       "    </tr>\n",
       "    <tr>\n",
       "      <th>2</th>\n",
       "      <td>★ Driver Gloves | Convoy</td>\n",
       "      <td>WW</td>\n",
       "      <td>0.000482</td>\n",
       "      <td>140</td>\n",
       "    </tr>\n",
       "    <tr>\n",
       "      <th>3</th>\n",
       "      <td>★ Hand Wraps | Duct Tape</td>\n",
       "      <td>FT</td>\n",
       "      <td>0.006078</td>\n",
       "      <td>147</td>\n",
       "    </tr>\n",
       "    <tr>\n",
       "      <th>4</th>\n",
       "      <td>★ Bloodhound Gloves | Charred</td>\n",
       "      <td>FN</td>\n",
       "      <td>0.000013</td>\n",
       "      <td>5</td>\n",
       "    </tr>\n",
       "  </tbody>\n",
       "</table>\n",
       "</div>"
      ],
      "text/plain": [
       "                   market_hash_name quality       var  total_solds\n",
       "0     ★ Hand Wraps | Cobalt Skulls       BS  0.011728          146\n",
       "1  ★ Bloodhound Gloves | Guerrilla       MW  0.000399          146\n",
       "2         ★ Driver Gloves | Convoy       WW  0.000482          140\n",
       "3         ★ Hand Wraps | Duct Tape       FT  0.006078          147\n",
       "4    ★ Bloodhound Gloves | Charred       FN  0.000013            5"
      ]
     },
     "execution_count": 80,
     "metadata": {},
     "output_type": "execute_result"
    }
   ],
   "source": [
    "pd.DataFrame(maxs)"
   ]
  },
  {
   "cell_type": "code",
   "execution_count": 81,
   "metadata": {
    "pycharm": {
     "name": "#%%\n"
    }
   },
   "outputs": [
    {
     "data": {
      "text/html": [
       "<div>\n",
       "<style scoped>\n",
       "    .dataframe tbody tr th:only-of-type {\n",
       "        vertical-align: middle;\n",
       "    }\n",
       "\n",
       "    .dataframe tbody tr th {\n",
       "        vertical-align: top;\n",
       "    }\n",
       "\n",
       "    .dataframe thead th {\n",
       "        text-align: right;\n",
       "    }\n",
       "</style>\n",
       "<table border=\"1\" class=\"dataframe\">\n",
       "  <thead>\n",
       "    <tr style=\"text-align: right;\">\n",
       "      <th></th>\n",
       "      <th>market_hash_name</th>\n",
       "      <th>quality</th>\n",
       "      <th>var</th>\n",
       "      <th>total_solds</th>\n",
       "    </tr>\n",
       "  </thead>\n",
       "  <tbody>\n",
       "    <tr>\n",
       "      <th>0</th>\n",
       "      <td>★ Specialist Gloves | Foundation</td>\n",
       "      <td>BS</td>\n",
       "      <td>0.008430</td>\n",
       "      <td>147</td>\n",
       "    </tr>\n",
       "    <tr>\n",
       "      <th>1</th>\n",
       "      <td>★ Driver Gloves | Racing Green</td>\n",
       "      <td>MW</td>\n",
       "      <td>0.000172</td>\n",
       "      <td>145</td>\n",
       "    </tr>\n",
       "    <tr>\n",
       "      <th>2</th>\n",
       "      <td>★ Moto Gloves | Boom!</td>\n",
       "      <td>WW</td>\n",
       "      <td>0.000161</td>\n",
       "      <td>135</td>\n",
       "    </tr>\n",
       "    <tr>\n",
       "      <th>3</th>\n",
       "      <td>★ Bloodhound Gloves | Bronzed</td>\n",
       "      <td>FT</td>\n",
       "      <td>0.004228</td>\n",
       "      <td>146</td>\n",
       "    </tr>\n",
       "    <tr>\n",
       "      <th>4</th>\n",
       "      <td>★ Hand Wraps | Duct Tape</td>\n",
       "      <td>FN</td>\n",
       "      <td>0.000001</td>\n",
       "      <td>7</td>\n",
       "    </tr>\n",
       "  </tbody>\n",
       "</table>\n",
       "</div>"
      ],
      "text/plain": [
       "                    market_hash_name quality       var  total_solds\n",
       "0  ★ Specialist Gloves | Foundation       BS  0.008430          147\n",
       "1    ★ Driver Gloves | Racing Green       MW  0.000172          145\n",
       "2             ★ Moto Gloves | Boom!       WW  0.000161          135\n",
       "3     ★ Bloodhound Gloves | Bronzed       FT  0.004228          146\n",
       "4          ★ Hand Wraps | Duct Tape       FN  0.000001            7"
      ]
     },
     "execution_count": 81,
     "metadata": {},
     "output_type": "execute_result"
    }
   ],
   "source": [
    "pd.DataFrame(mins)"
   ]
  },
  {
   "cell_type": "markdown",
   "metadata": {
    "pycharm": {
     "name": "#%%\n"
    }
   },
   "source": [
    "# Проверить гипотезу: параметр `price` перчаток с параметром `case == Clutch Case`, в среднем сильнее зависит от показателя `wear_value`, чем с параметром `case == Glove Case, Operation Hydra Case`"
   ]
  },
  {
   "cell_type": "markdown",
   "metadata": {},
   "source": [
    "Для проверки данной гипотезы найдем коэффициент корреляции между `price` и `wear_value` для каждой пары `market_hash_name` `quality`:"
   ]
  },
  {
   "cell_type": "code",
   "execution_count": 158,
   "metadata": {},
   "outputs": [
    {
     "name": "stderr",
     "output_type": "stream",
     "text": [
      "/home/duckluckbreakout/anaconda3/lib/python3.7/site-packages/numpy/lib/function_base.py:393: RuntimeWarning: Mean of empty slice.\n",
      "  avg = a.mean(axis)\n",
      "/home/duckluckbreakout/anaconda3/lib/python3.7/site-packages/numpy/core/_methods.py:154: RuntimeWarning: invalid value encountered in true_divide\n",
      "  ret, rcount, out=ret, casting='unsafe', subok=False)\n",
      "/home/duckluckbreakout/anaconda3/lib/python3.7/site-packages/numpy/lib/function_base.py:2526: RuntimeWarning: Degrees of freedom <= 0 for slice\n",
      "  c = cov(x, y, rowvar)\n",
      "/home/duckluckbreakout/anaconda3/lib/python3.7/site-packages/numpy/lib/function_base.py:2455: RuntimeWarning: divide by zero encountered in true_divide\n",
      "  c *= np.true_divide(1, fact)\n",
      "/home/duckluckbreakout/anaconda3/lib/python3.7/site-packages/numpy/lib/function_base.py:2455: RuntimeWarning: invalid value encountered in multiply\n",
      "  c *= np.true_divide(1, fact)\n",
      "/home/duckluckbreakout/anaconda3/lib/python3.7/site-packages/numpy/lib/function_base.py:2534: RuntimeWarning: invalid value encountered in true_divide\n",
      "  c /= stddev[:, None]\n",
      "/home/duckluckbreakout/anaconda3/lib/python3.7/site-packages/numpy/lib/function_base.py:2535: RuntimeWarning: invalid value encountered in true_divide\n",
      "  c /= stddev[None, :]\n"
     ]
    },
    {
     "data": {
      "text/html": [
       "<div>\n",
       "<style scoped>\n",
       "    .dataframe tbody tr th:only-of-type {\n",
       "        vertical-align: middle;\n",
       "    }\n",
       "\n",
       "    .dataframe tbody tr th {\n",
       "        vertical-align: top;\n",
       "    }\n",
       "\n",
       "    .dataframe thead th {\n",
       "        text-align: right;\n",
       "    }\n",
       "</style>\n",
       "<table border=\"1\" class=\"dataframe\">\n",
       "  <thead>\n",
       "    <tr style=\"text-align: right;\">\n",
       "      <th></th>\n",
       "      <th>market_hash_name</th>\n",
       "      <th>quality</th>\n",
       "      <th>corrcoef</th>\n",
       "    </tr>\n",
       "  </thead>\n",
       "  <tbody>\n",
       "    <tr>\n",
       "      <th>0</th>\n",
       "      <td>★ Driver Gloves | Lunar Weave</td>\n",
       "      <td>BS</td>\n",
       "      <td>0.002344</td>\n",
       "    </tr>\n",
       "    <tr>\n",
       "      <th>1</th>\n",
       "      <td>★ Driver Gloves | Lunar Weave</td>\n",
       "      <td>MW</td>\n",
       "      <td>-0.478618</td>\n",
       "    </tr>\n",
       "    <tr>\n",
       "      <th>2</th>\n",
       "      <td>★ Driver Gloves | Lunar Weave</td>\n",
       "      <td>WW</td>\n",
       "      <td>-0.046205</td>\n",
       "    </tr>\n",
       "    <tr>\n",
       "      <th>3</th>\n",
       "      <td>★ Driver Gloves | Lunar Weave</td>\n",
       "      <td>FT</td>\n",
       "      <td>-0.881767</td>\n",
       "    </tr>\n",
       "    <tr>\n",
       "      <th>4</th>\n",
       "      <td>★ Driver Gloves | Lunar Weave</td>\n",
       "      <td>FN</td>\n",
       "      <td>-0.609344</td>\n",
       "    </tr>\n",
       "    <tr>\n",
       "      <th>...</th>\n",
       "      <td>...</td>\n",
       "      <td>...</td>\n",
       "      <td>...</td>\n",
       "    </tr>\n",
       "    <tr>\n",
       "      <th>235</th>\n",
       "      <td>★ Sport Gloves | Amphibious</td>\n",
       "      <td>BS</td>\n",
       "      <td>-0.115613</td>\n",
       "    </tr>\n",
       "    <tr>\n",
       "      <th>236</th>\n",
       "      <td>★ Sport Gloves | Amphibious</td>\n",
       "      <td>MW</td>\n",
       "      <td>-0.500288</td>\n",
       "    </tr>\n",
       "    <tr>\n",
       "      <th>237</th>\n",
       "      <td>★ Sport Gloves | Amphibious</td>\n",
       "      <td>WW</td>\n",
       "      <td>-0.250141</td>\n",
       "    </tr>\n",
       "    <tr>\n",
       "      <th>238</th>\n",
       "      <td>★ Sport Gloves | Amphibious</td>\n",
       "      <td>FT</td>\n",
       "      <td>-0.748915</td>\n",
       "    </tr>\n",
       "    <tr>\n",
       "      <th>239</th>\n",
       "      <td>★ Sport Gloves | Amphibious</td>\n",
       "      <td>FN</td>\n",
       "      <td>NaN</td>\n",
       "    </tr>\n",
       "  </tbody>\n",
       "</table>\n",
       "<p>240 rows × 3 columns</p>\n",
       "</div>"
      ],
      "text/plain": [
       "                   market_hash_name quality  corrcoef\n",
       "0    ★ Driver Gloves | Lunar Weave       BS  0.002344\n",
       "1    ★ Driver Gloves | Lunar Weave       MW -0.478618\n",
       "2    ★ Driver Gloves | Lunar Weave       WW -0.046205\n",
       "3    ★ Driver Gloves | Lunar Weave       FT -0.881767\n",
       "4    ★ Driver Gloves | Lunar Weave       FN -0.609344\n",
       "..                              ...     ...       ...\n",
       "235    ★ Sport Gloves | Amphibious       BS -0.115613\n",
       "236    ★ Sport Gloves | Amphibious       MW -0.500288\n",
       "237    ★ Sport Gloves | Amphibious       WW -0.250141\n",
       "238    ★ Sport Gloves | Amphibious       FT -0.748915\n",
       "239    ★ Sport Gloves | Amphibious       FN       NaN\n",
       "\n",
       "[240 rows x 3 columns]"
      ]
     },
     "execution_count": 158,
     "metadata": {},
     "output_type": "execute_result"
    }
   ],
   "source": [
    "corrcoefs = []\n",
    "for market_hash_name, quality in itertools.product(market_hash_names, qualities):\n",
    "    data = df[(df['market_hash_name'] == market_hash_name) & (df['quality'] == quality)]\n",
    "    corrcoefs.append({'market_hash_name': market_hash_name,\n",
    "                      'quality': quality, \n",
    "                      'corrcoef': np.corrcoef(data['wear_value'], data['price'])[0][1]})\n",
    "corrcoefs = pd.DataFrame(corrcoefs)\n",
    "corrcoefs"
   ]
  },
  {
   "cell_type": "markdown",
   "metadata": {},
   "source": [
    "Добавим столбец `case`"
   ]
  },
  {
   "cell_type": "code",
   "execution_count": 167,
   "metadata": {},
   "outputs": [
    {
     "data": {
      "text/html": [
       "<div>\n",
       "<style scoped>\n",
       "    .dataframe tbody tr th:only-of-type {\n",
       "        vertical-align: middle;\n",
       "    }\n",
       "\n",
       "    .dataframe tbody tr th {\n",
       "        vertical-align: top;\n",
       "    }\n",
       "\n",
       "    .dataframe thead th {\n",
       "        text-align: right;\n",
       "    }\n",
       "</style>\n",
       "<table border=\"1\" class=\"dataframe\">\n",
       "  <thead>\n",
       "    <tr style=\"text-align: right;\">\n",
       "      <th></th>\n",
       "      <th>market_hash_name</th>\n",
       "      <th>quality</th>\n",
       "      <th>corrcoef</th>\n",
       "      <th>case</th>\n",
       "    </tr>\n",
       "  </thead>\n",
       "  <tbody>\n",
       "    <tr>\n",
       "      <th>0</th>\n",
       "      <td>★ Driver Gloves | Lunar Weave</td>\n",
       "      <td>BS</td>\n",
       "      <td>0.002344</td>\n",
       "      <td>Glove Case, Operation Hydra Case</td>\n",
       "    </tr>\n",
       "    <tr>\n",
       "      <th>1</th>\n",
       "      <td>★ Driver Gloves | Lunar Weave</td>\n",
       "      <td>MW</td>\n",
       "      <td>-0.478618</td>\n",
       "      <td>Glove Case, Operation Hydra Case</td>\n",
       "    </tr>\n",
       "    <tr>\n",
       "      <th>2</th>\n",
       "      <td>★ Driver Gloves | Lunar Weave</td>\n",
       "      <td>WW</td>\n",
       "      <td>-0.046205</td>\n",
       "      <td>Glove Case, Operation Hydra Case</td>\n",
       "    </tr>\n",
       "    <tr>\n",
       "      <th>3</th>\n",
       "      <td>★ Driver Gloves | Lunar Weave</td>\n",
       "      <td>FT</td>\n",
       "      <td>-0.881767</td>\n",
       "      <td>Glove Case, Operation Hydra Case</td>\n",
       "    </tr>\n",
       "    <tr>\n",
       "      <th>4</th>\n",
       "      <td>★ Driver Gloves | Lunar Weave</td>\n",
       "      <td>FN</td>\n",
       "      <td>-0.609344</td>\n",
       "      <td>Glove Case, Operation Hydra Case</td>\n",
       "    </tr>\n",
       "    <tr>\n",
       "      <th>...</th>\n",
       "      <td>...</td>\n",
       "      <td>...</td>\n",
       "      <td>...</td>\n",
       "      <td>...</td>\n",
       "    </tr>\n",
       "    <tr>\n",
       "      <th>235</th>\n",
       "      <td>★ Sport Gloves | Amphibious</td>\n",
       "      <td>BS</td>\n",
       "      <td>-0.115613</td>\n",
       "      <td>Clutch Case</td>\n",
       "    </tr>\n",
       "    <tr>\n",
       "      <th>236</th>\n",
       "      <td>★ Sport Gloves | Amphibious</td>\n",
       "      <td>MW</td>\n",
       "      <td>-0.500288</td>\n",
       "      <td>Clutch Case</td>\n",
       "    </tr>\n",
       "    <tr>\n",
       "      <th>237</th>\n",
       "      <td>★ Sport Gloves | Amphibious</td>\n",
       "      <td>WW</td>\n",
       "      <td>-0.250141</td>\n",
       "      <td>Clutch Case</td>\n",
       "    </tr>\n",
       "    <tr>\n",
       "      <th>238</th>\n",
       "      <td>★ Sport Gloves | Amphibious</td>\n",
       "      <td>FT</td>\n",
       "      <td>-0.748915</td>\n",
       "      <td>Clutch Case</td>\n",
       "    </tr>\n",
       "    <tr>\n",
       "      <th>239</th>\n",
       "      <td>★ Sport Gloves | Amphibious</td>\n",
       "      <td>FN</td>\n",
       "      <td>NaN</td>\n",
       "      <td>Clutch Case</td>\n",
       "    </tr>\n",
       "  </tbody>\n",
       "</table>\n",
       "<p>240 rows × 4 columns</p>\n",
       "</div>"
      ],
      "text/plain": [
       "                   market_hash_name quality  corrcoef  \\\n",
       "0    ★ Driver Gloves | Lunar Weave       BS  0.002344   \n",
       "1    ★ Driver Gloves | Lunar Weave       MW -0.478618   \n",
       "2    ★ Driver Gloves | Lunar Weave       WW -0.046205   \n",
       "3    ★ Driver Gloves | Lunar Weave       FT -0.881767   \n",
       "4    ★ Driver Gloves | Lunar Weave       FN -0.609344   \n",
       "..                              ...     ...       ...   \n",
       "235    ★ Sport Gloves | Amphibious       BS -0.115613   \n",
       "236    ★ Sport Gloves | Amphibious       MW -0.500288   \n",
       "237    ★ Sport Gloves | Amphibious       WW -0.250141   \n",
       "238    ★ Sport Gloves | Amphibious       FT -0.748915   \n",
       "239    ★ Sport Gloves | Amphibious       FN       NaN   \n",
       "\n",
       "                                 case  \n",
       "0    Glove Case, Operation Hydra Case  \n",
       "1    Glove Case, Operation Hydra Case  \n",
       "2    Glove Case, Operation Hydra Case  \n",
       "3    Glove Case, Operation Hydra Case  \n",
       "4    Glove Case, Operation Hydra Case  \n",
       "..                                ...  \n",
       "235                       Clutch Case  \n",
       "236                       Clutch Case  \n",
       "237                       Clutch Case  \n",
       "238                       Clutch Case  \n",
       "239                       Clutch Case  \n",
       "\n",
       "[240 rows x 4 columns]"
      ]
     },
     "execution_count": 167,
     "metadata": {},
     "output_type": "execute_result"
    }
   ],
   "source": [
    "for index, row in corrcoefs.iterrows():\n",
    "     corrcoefs.loc[index, 'case'] = df[df['market_hash_name'] == row['market_hash_name']]['case'].values[0]\n",
    "corrcoefs"
   ]
  },
  {
   "cell_type": "markdown",
   "metadata": {},
   "source": [
    "Исключим из выборки строки, у которых `corrcoef == NaN`, а для остальных заменим значение `corrcoef` на его модуль:"
   ]
  },
  {
   "cell_type": "code",
   "execution_count": 173,
   "metadata": {},
   "outputs": [
    {
     "data": {
      "text/html": [
       "<div>\n",
       "<style scoped>\n",
       "    .dataframe tbody tr th:only-of-type {\n",
       "        vertical-align: middle;\n",
       "    }\n",
       "\n",
       "    .dataframe tbody tr th {\n",
       "        vertical-align: top;\n",
       "    }\n",
       "\n",
       "    .dataframe thead th {\n",
       "        text-align: right;\n",
       "    }\n",
       "</style>\n",
       "<table border=\"1\" class=\"dataframe\">\n",
       "  <thead>\n",
       "    <tr style=\"text-align: right;\">\n",
       "      <th></th>\n",
       "      <th>market_hash_name</th>\n",
       "      <th>quality</th>\n",
       "      <th>corrcoef</th>\n",
       "      <th>case</th>\n",
       "    </tr>\n",
       "  </thead>\n",
       "  <tbody>\n",
       "    <tr>\n",
       "      <th>0</th>\n",
       "      <td>★ Driver Gloves | Lunar Weave</td>\n",
       "      <td>BS</td>\n",
       "      <td>0.002344</td>\n",
       "      <td>Glove Case, Operation Hydra Case</td>\n",
       "    </tr>\n",
       "    <tr>\n",
       "      <th>1</th>\n",
       "      <td>★ Driver Gloves | Lunar Weave</td>\n",
       "      <td>MW</td>\n",
       "      <td>0.478618</td>\n",
       "      <td>Glove Case, Operation Hydra Case</td>\n",
       "    </tr>\n",
       "    <tr>\n",
       "      <th>2</th>\n",
       "      <td>★ Driver Gloves | Lunar Weave</td>\n",
       "      <td>WW</td>\n",
       "      <td>0.046205</td>\n",
       "      <td>Glove Case, Operation Hydra Case</td>\n",
       "    </tr>\n",
       "    <tr>\n",
       "      <th>3</th>\n",
       "      <td>★ Driver Gloves | Lunar Weave</td>\n",
       "      <td>FT</td>\n",
       "      <td>0.881767</td>\n",
       "      <td>Glove Case, Operation Hydra Case</td>\n",
       "    </tr>\n",
       "    <tr>\n",
       "      <th>4</th>\n",
       "      <td>★ Driver Gloves | Lunar Weave</td>\n",
       "      <td>FN</td>\n",
       "      <td>0.609344</td>\n",
       "      <td>Glove Case, Operation Hydra Case</td>\n",
       "    </tr>\n",
       "    <tr>\n",
       "      <th>...</th>\n",
       "      <td>...</td>\n",
       "      <td>...</td>\n",
       "      <td>...</td>\n",
       "      <td>...</td>\n",
       "    </tr>\n",
       "    <tr>\n",
       "      <th>233</th>\n",
       "      <td>★ Sport Gloves | Omega</td>\n",
       "      <td>FT</td>\n",
       "      <td>0.834759</td>\n",
       "      <td>Clutch Case</td>\n",
       "    </tr>\n",
       "    <tr>\n",
       "      <th>235</th>\n",
       "      <td>★ Sport Gloves | Amphibious</td>\n",
       "      <td>BS</td>\n",
       "      <td>0.115613</td>\n",
       "      <td>Clutch Case</td>\n",
       "    </tr>\n",
       "    <tr>\n",
       "      <th>236</th>\n",
       "      <td>★ Sport Gloves | Amphibious</td>\n",
       "      <td>MW</td>\n",
       "      <td>0.500288</td>\n",
       "      <td>Clutch Case</td>\n",
       "    </tr>\n",
       "    <tr>\n",
       "      <th>237</th>\n",
       "      <td>★ Sport Gloves | Amphibious</td>\n",
       "      <td>WW</td>\n",
       "      <td>0.250141</td>\n",
       "      <td>Clutch Case</td>\n",
       "    </tr>\n",
       "    <tr>\n",
       "      <th>238</th>\n",
       "      <td>★ Sport Gloves | Amphibious</td>\n",
       "      <td>FT</td>\n",
       "      <td>0.748915</td>\n",
       "      <td>Clutch Case</td>\n",
       "    </tr>\n",
       "  </tbody>\n",
       "</table>\n",
       "<p>218 rows × 4 columns</p>\n",
       "</div>"
      ],
      "text/plain": [
       "                   market_hash_name quality  corrcoef  \\\n",
       "0    ★ Driver Gloves | Lunar Weave       BS  0.002344   \n",
       "1    ★ Driver Gloves | Lunar Weave       MW  0.478618   \n",
       "2    ★ Driver Gloves | Lunar Weave       WW  0.046205   \n",
       "3    ★ Driver Gloves | Lunar Weave       FT  0.881767   \n",
       "4    ★ Driver Gloves | Lunar Weave       FN  0.609344   \n",
       "..                              ...     ...       ...   \n",
       "233         ★ Sport Gloves | Omega       FT  0.834759   \n",
       "235    ★ Sport Gloves | Amphibious       BS  0.115613   \n",
       "236    ★ Sport Gloves | Amphibious       MW  0.500288   \n",
       "237    ★ Sport Gloves | Amphibious       WW  0.250141   \n",
       "238    ★ Sport Gloves | Amphibious       FT  0.748915   \n",
       "\n",
       "                                 case  \n",
       "0    Glove Case, Operation Hydra Case  \n",
       "1    Glove Case, Operation Hydra Case  \n",
       "2    Glove Case, Operation Hydra Case  \n",
       "3    Glove Case, Operation Hydra Case  \n",
       "4    Glove Case, Operation Hydra Case  \n",
       "..                                ...  \n",
       "233                       Clutch Case  \n",
       "235                       Clutch Case  \n",
       "236                       Clutch Case  \n",
       "237                       Clutch Case  \n",
       "238                       Clutch Case  \n",
       "\n",
       "[218 rows x 4 columns]"
      ]
     },
     "execution_count": 173,
     "metadata": {},
     "output_type": "execute_result"
    }
   ],
   "source": [
    "corrcoefs = corrcoefs[corrcoefs['corrcoef'].isnull() == False]\n",
    "corrcoefs['corrcoef'] = abs(corrcoefs['corrcoef'])\n",
    "corrcoefs"
   ]
  },
  {
   "cell_type": "markdown",
   "metadata": {},
   "source": [
    "Найдем среднее значение `corrcoef` для `case == Glove Case, Operation Hydra Case` и для `case == Clutch Case`:"
   ]
  },
  {
   "cell_type": "code",
   "execution_count": 174,
   "metadata": {},
   "outputs": [
    {
     "data": {
      "text/plain": [
       "0.35911831343696443"
      ]
     },
     "execution_count": 174,
     "metadata": {},
     "output_type": "execute_result"
    }
   ],
   "source": [
    "corrcoefs[corrcoefs['case'] == 'Glove Case, Operation Hydra Case']['corrcoef'].mean()"
   ]
  },
  {
   "cell_type": "code",
   "execution_count": 175,
   "metadata": {},
   "outputs": [
    {
     "data": {
      "text/plain": [
       "0.37876417914391675"
      ]
     },
     "execution_count": 175,
     "metadata": {},
     "output_type": "execute_result"
    }
   ],
   "source": [
    "corrcoefs[corrcoefs['case'] == 'Clutch Case']['corrcoef'].mean()"
   ]
  },
  {
   "cell_type": "markdown",
   "metadata": {},
   "source": [
    "Проверим отношения `corrcoef` для разных значений `quality`:"
   ]
  },
  {
   "cell_type": "code",
   "execution_count": 179,
   "metadata": {},
   "outputs": [
    {
     "name": "stdout",
     "output_type": "stream",
     "text": [
      "BS 0.9429580147944352\n",
      "MW 1.3031927423602565\n",
      "WW 1.8215984969068204\n",
      "FT 1.0004847808916226\n",
      "FN 0.9206451239302024\n"
     ]
    }
   ],
   "source": [
    "for quality in qualities:\n",
    "    print(quality, corrcoefs[(corrcoefs['case'] == 'Clutch Case') & (corrcoefs['quality'] == quality)]['corrcoef'].mean() / corrcoefs[(corrcoefs['case'] == 'Glove Case, Operation Hydra Case') & (corrcoefs['quality'] == quality)]['corrcoef'].mean())"
   ]
  },
  {
   "cell_type": "markdown",
   "metadata": {},
   "source": [
    "Как видно, значения цена перчаток с `case =  Clutch Case` в среднем сильнее зависит только для качеств `MW` и `WW`"
   ]
  },
  {
   "cell_type": "code",
   "execution_count": null,
   "metadata": {},
   "outputs": [],
   "source": []
  }
 ],
 "metadata": {
  "kernelspec": {
   "display_name": "Python 3",
   "language": "python",
   "name": "python3"
  },
  "language_info": {
   "codemirror_mode": {
    "name": "ipython",
    "version": 3
   },
   "file_extension": ".py",
   "mimetype": "text/x-python",
   "name": "python",
   "nbconvert_exporter": "python",
   "pygments_lexer": "ipython3",
   "version": "3.7.6"
  },
  "pycharm": {
   "stem_cell": {
    "cell_type": "raw",
    "metadata": {
     "collapsed": false
    },
    "source": []
   }
  }
 },
 "nbformat": 4,
 "nbformat_minor": 4
}
