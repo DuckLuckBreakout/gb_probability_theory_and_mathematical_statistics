{
 "cells": [
  {
   "cell_type": "markdown",
   "metadata": {},
   "source": [
    "# Урок 2\n",
    "## Дискретные случайные величины. Закон распределения вероятностей. Биномиальный закон распределения. Распределение Пуассона"
   ]
  },
  {
   "cell_type": "markdown",
   "metadata": {},
   "source": [
    "### Задача 1\n",
    "\n",
    "####  Условие: \n",
    "\n",
    "Контрольная работа состоит из пяти вопросов. На каждый вопрос приведено четыре варианта ответа, один из которых правильный. Составьте закон распределения числа правильных ответов при простом угадывании. Найдите ```M(X)```, ```D(X)```."
   ]
  },
  {
   "cell_type": "markdown",
   "metadata": {},
   "source": [
    "#### Решение:\n",
    "Очевидно, что в данном случае идет речь о биномиальном законе распределения.\n",
    "\n",
    "Биномиальный закон распределения описывается __формулой Бернулли__:\n",
    "$$P(X = k) = C_n^k p^k (1 - p)^{n - k}$$\n",
    "\n",
    "В данном случае $n = 5$, $p = \\dfrac{1}{4}$\n",
    "\n",
    "$$P(X = k) = C_5^k (\\dfrac{1}{4})^k (1 - \\dfrac{1}{4})^{5 - k} = C_5^k (\\dfrac{1}{4})^k (\\dfrac{3}{4})^{5 - k}$$\n"
   ]
  },
  {
   "cell_type": "code",
   "execution_count": 13,
   "metadata": {},
   "outputs": [],
   "source": [
    "import numpy as np"
   ]
  },
  {
   "cell_type": "code",
   "execution_count": 14,
   "metadata": {},
   "outputs": [],
   "source": [
    "def combinations(n: int, k: int) -> int:\n",
    "    \"\"\"Число сочетаний.\n",
    "    \"\"\"\n",
    "    \n",
    "    return np.math.factorial(n) // (np.math.factorial(k) * np.math.factorial(n - k))"
   ]
  },
  {
   "cell_type": "code",
   "execution_count": 15,
   "metadata": {},
   "outputs": [],
   "source": [
    "def binomial_proba(k: int, n: int, p: float) -> float:\n",
    "    return combinations(n, k) * (p**k) * ((1 - p)**(n - k))"
   ]
  },
  {
   "cell_type": "code",
   "execution_count": 17,
   "metadata": {},
   "outputs": [],
   "source": [
    "n = 5\n",
    "p = 1/4"
   ]
  },
  {
   "cell_type": "markdown",
   "metadata": {},
   "source": [
    "Возможно угадать от 0 до 5 билетов включительно:"
   ]
  },
  {
   "cell_type": "code",
   "execution_count": 18,
   "metadata": {},
   "outputs": [
    {
     "data": {
      "text/plain": [
       "array([0, 1, 2, 3, 4, 5])"
      ]
     },
     "execution_count": 18,
     "metadata": {},
     "output_type": "execute_result"
    }
   ],
   "source": [
    "x_list = np.arange(0, n + 1)\n",
    "x_list"
   ]
  },
  {
   "cell_type": "code",
   "execution_count": 19,
   "metadata": {},
   "outputs": [
    {
     "data": {
      "text/plain": [
       "array([0.23730469, 0.39550781, 0.26367188, 0.08789062, 0.01464844,\n",
       "       0.00097656])"
      ]
     },
     "execution_count": 19,
     "metadata": {},
     "output_type": "execute_result"
    }
   ],
   "source": [
    "y_list = np.array([binomial_proba(x, n, p) for x in x_list])\n",
    "y_list"
   ]
  },
  {
   "cell_type": "code",
   "execution_count": 20,
   "metadata": {},
   "outputs": [],
   "source": [
    "import matplotlib.pyplot as plt\n",
    "plt.style.use('seaborn-whitegrid')"
   ]
  },
  {
   "cell_type": "code",
   "execution_count": 21,
   "metadata": {},
   "outputs": [
    {
     "data": {
      "text/plain": [
       "[<matplotlib.lines.Line2D at 0x7fd6e8ca8650>]"
      ]
     },
     "execution_count": 21,
     "metadata": {},
     "output_type": "execute_result"
    },
    {
     "data": {
      "image/png": "[encoded data removed]",
      "text/plain": [
       "<Figure size 432x288 with 1 Axes>"
      ]
     },
     "metadata": {},
     "output_type": "display_data"
    }
   ],
   "source": [
    "plt.plot(x_list, y_list)"
   ]
  },
  {
   "cell_type": "markdown",
   "metadata": {},
   "source": [
    "Математическое ожидание и дисперсию для биномиально распределённой дискретной величины можно вычислить по формулам:\n",
    "$$M(X) = np, \\: D(X) = np(1 - p).$$"
   ]
  },
  {
   "cell_type": "code",
   "execution_count": 26,
   "metadata": {},
   "outputs": [
    {
     "data": {
      "text/plain": [
       "1.25"
      ]
     },
     "execution_count": 26,
     "metadata": {},
     "output_type": "execute_result"
    }
   ],
   "source": [
    "m = n * p\n",
    "m"
   ]
  },
  {
   "cell_type": "code",
   "execution_count": 27,
   "metadata": {},
   "outputs": [
    {
     "data": {
      "text/plain": [
       "0.9375"
      ]
     },
     "execution_count": 27,
     "metadata": {},
     "output_type": "execute_result"
    }
   ],
   "source": [
    "d = n * p * (1 - p)\n",
    "d"
   ]
  },
  {
   "cell_type": "markdown",
   "metadata": {},
   "source": [
    "### Задача 2\n",
    "\n",
    "#### Условие:\n",
    "Пользователь получает в среднем 10 писем со спамом на свой почтовый ящик за сутки. Найти число `N`, такое, что с вероятностью 0.95 пользователь получит не более `N` писем со спамом за текущий день."
   ]
  },
  {
   "cell_type": "markdown",
   "metadata": {},
   "source": [
    "#### Решение:\n",
    "Т.к. речь идет о потоке событий, то это распределение Пуассона:\n",
    "$$P(X = k) = \\dfrac{\\lambda^k e^{-\\lambda}}{k!}$$\n",
    "Где $\\lambda = 10$"
   ]
  },
  {
   "cell_type": "code",
   "execution_count": 30,
   "metadata": {},
   "outputs": [],
   "source": [
    "def puasson_proba(k: int, lambda_):\n",
    "    return (lambda_ ** k) * np.exp(-lambda_) / np.math.factorial(k)"
   ]
  },
  {
   "cell_type": "markdown",
   "metadata": {},
   "source": [
    "Пользователь может получить от нуля до бесконечности писем, сл-но, будем считать сумму вероятностей получить ровно $i$ писем, пока сумма будет меньше не получится 0.95, где $i=1,2,\\dots$"
   ]
  },
  {
   "cell_type": "code",
   "execution_count": 35,
   "metadata": {},
   "outputs": [
    {
     "data": {
      "text/plain": [
       "(15, 0.9512595966960214)"
      ]
     },
     "execution_count": 35,
     "metadata": {},
     "output_type": "execute_result"
    }
   ],
   "source": [
    "lambda_ = 10\n",
    "\n",
    "spam_count = -1\n",
    "p = 0\n",
    "\n",
    "while p < 0.95:\n",
    "    spam_count += 1\n",
    "    p += puasson_proba(spam_count, lambda_)\n",
    "    \n",
    "spam_count, p"
   ]
  },
  {
   "cell_type": "markdown",
   "metadata": {},
   "source": [
    "### Задача 3\n",
    "\n",
    "#### Условие:\n",
    "Производятся выстрелы по мишени. Вероятность попадания в мишень при одном выстреле равна 0.01. Сколько выстрелов нужно сделать чтобы быть уверенным с вероятностью 0.9, что хотя бы 6 раз будет совершено попадание?\n",
    "\n",
    "Подсказка:\n",
    "\n",
    "    1) \"Вероятность попасть k раз при n выстрелах\" - на какое распределение это похоже? \n",
    "    2) А если нам нужна вероятность P(X >= k), а не P(X = k)? \n",
    "    3) Здесь предстоит немножко покодить."
   ]
  },
  {
   "cell_type": "markdown",
   "metadata": {},
   "source": [
    "#### Решение:\n",
    "\"Вероятность попасть k раз при n выстрелах\" - биномиальное распределение\n",
    "\n",
    "Биномиальный закон распределения описывается __формулой Бернулли__:\n",
    "$$P(X = k) = C_n^k p^k (1 - p)^{n - k}$$\n",
    "\n",
    "Мы знаем, что сумма вероятностей случайной величины всегда равна $1$. Значит, вероятность получить хотя бы k попаданий равна:\n",
    "$$P(X \\geq k) = 1 - P(X < k)$$"
   ]
  },
  {
   "cell_type": "code",
   "execution_count": 38,
   "metadata": {},
   "outputs": [
    {
     "data": {
      "text/plain": [
       "(926, 0.9003627121531355)"
      ]
     },
     "execution_count": 38,
     "metadata": {},
     "output_type": "execute_result"
    }
   ],
   "source": [
    "p = 0.01\n",
    "P = -1\n",
    "k = 6\n",
    "n = 9\n",
    "\n",
    "while P < 0.9:\n",
    "    n += 1\n",
    "    P = 1 - sum(binomial_proba(i, n, p) for i in range(k))\n",
    "\n",
    "n, P"
   ]
  },
  {
   "cell_type": "code",
   "execution_count": null,
   "metadata": {},
   "outputs": [],
   "source": []
  }
 ],
 "metadata": {
  "kernelspec": {
   "display_name": "Python 3",
   "language": "python",
   "name": "python3"
  },
  "language_info": {
   "codemirror_mode": {
    "name": "ipython",
    "version": 3
   },
   "file_extension": ".py",
   "mimetype": "text/x-python",
   "name": "python",
   "nbconvert_exporter": "python",
   "pygments_lexer": "ipython3",
   "version": "3.7.6"
  }
 },
 "nbformat": 4,
 "nbformat_minor": 4
}
