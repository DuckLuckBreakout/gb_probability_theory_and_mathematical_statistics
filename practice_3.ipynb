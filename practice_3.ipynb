{
 "cells": [
  {
   "cell_type": "markdown",
   "metadata": {},
   "source": [
    "# Урок 3\n",
    "## Описательная статистика. Качественные и количественные характеристики популяции. Графическое представление данных\n",
    "\n",
    "### Задача 1\n",
    "\n",
    "#### Условие:\n",
    "Даны значения зарплат из выборки выпускников:\n",
    "\n",
    "`100, 80, 75, 77, 89, 33, 45, 25, 65, 17, 30, 230, 24, 57, 55, 70, 75, 65, 84, 90, 150`\n",
    "\n",
    "Используя только встроенные питоновские функции и структуры данных (т.е. без библиотек `numpy`, `pandas` и др.) посчитать среднее арифметическое, смещённую и несмещённую оценки дисперсии, среднее квадратичное отклонение для данной выборки.\n",
    "\n",
    "Можно затем посчитать те же значения с использованием библиотек, чтобы проверить себя."
   ]
  },
  {
   "cell_type": "markdown",
   "metadata": {},
   "source": [
    "#### Решение:"
   ]
  },
  {
   "cell_type": "code",
   "execution_count": 1,
   "metadata": {},
   "outputs": [],
   "source": [
    "data = [100, 80, 75, 77, 89, 33, 45, 25, 65, 17, 30, 230, 24, 57, 55, 70, 75, 65, 84, 90, 150]"
   ]
  },
  {
   "cell_type": "markdown",
   "metadata": {},
   "source": [
    "##### среднее арифметическое:\n",
    "$$\\overline{X} = \\dfrac{1}{n} \\displaystyle\\sum_{i = 1}^n x_i$$"
   ]
  },
  {
   "cell_type": "code",
   "execution_count": 2,
   "metadata": {},
   "outputs": [],
   "source": [
    "def mean(data: list) -> float:\n",
    "    return sum(data) / len(data)"
   ]
  },
  {
   "cell_type": "code",
   "execution_count": 3,
   "metadata": {},
   "outputs": [
    {
     "data": {
      "text/plain": [
       "73.14285714285714"
      ]
     },
     "execution_count": 3,
     "metadata": {},
     "output_type": "execute_result"
    }
   ],
   "source": [
    "mean(data)"
   ]
  },
  {
   "cell_type": "markdown",
   "metadata": {},
   "source": [
    "##### смещённую и несмещённую оценки дисперсии\n",
    "$$\\sigma_X^2 = \\dfrac{1}{n} \\displaystyle\\sum_{i = 1}^n \\left( x_i - \\overline{X} \\right)^2$$\n",
    "$$\\sigma_{X, \\: unbiased}^2 = \\dfrac{1}{n - 1} \\displaystyle\\sum_{i = 1}^n \\left( x_i - \\overline{X} \\right)^2$$\n"
   ]
  },
  {
   "cell_type": "code",
   "execution_count": 4,
   "metadata": {},
   "outputs": [],
   "source": [
    "def variance(data: list, is_unbiased: bool) -> float:\n",
    "    data_mean = mean(data)\n",
    "    return sum((elem - data_mean) ** 2 for elem in data) / (len(data) - int(is_unbiased))"
   ]
  },
  {
   "cell_type": "code",
   "execution_count": 5,
   "metadata": {},
   "outputs": [
    {
     "data": {
      "text/plain": [
       "2241.8285714285716"
      ]
     },
     "execution_count": 5,
     "metadata": {},
     "output_type": "execute_result"
    }
   ],
   "source": [
    "variance(data, True)"
   ]
  },
  {
   "cell_type": "code",
   "execution_count": 6,
   "metadata": {},
   "outputs": [
    {
     "data": {
      "text/plain": [
       "2135.074829931973"
      ]
     },
     "execution_count": 6,
     "metadata": {},
     "output_type": "execute_result"
    }
   ],
   "source": [
    "variance(data, False)"
   ]
  },
  {
   "cell_type": "markdown",
   "metadata": {},
   "source": [
    "##### среднее квадратичное отклонение"
   ]
  },
  {
   "cell_type": "code",
   "execution_count": 7,
   "metadata": {},
   "outputs": [],
   "source": [
    "import math\n",
    "\n",
    "def std(data: list, is_unbiased: bool) -> float:\n",
    "    return math.sqrt(variance(data, is_unbiased))"
   ]
  },
  {
   "cell_type": "code",
   "execution_count": 8,
   "metadata": {},
   "outputs": [
    {
     "data": {
      "text/plain": [
       "47.34795213553139"
      ]
     },
     "execution_count": 8,
     "metadata": {},
     "output_type": "execute_result"
    }
   ],
   "source": [
    "std(data, is_unbiased=True)"
   ]
  },
  {
   "cell_type": "code",
   "execution_count": 9,
   "metadata": {},
   "outputs": [
    {
     "data": {
      "text/plain": [
       "46.20686994302874"
      ]
     },
     "execution_count": 9,
     "metadata": {},
     "output_type": "execute_result"
    }
   ],
   "source": [
    "std(data, is_unbiased=False)"
   ]
  },
  {
   "cell_type": "markdown",
   "metadata": {},
   "source": [
    "### Задача 2\n",
    "#### Условие:\n",
    "Для выборки из задачи 1 найти (также без использования библиотек):\n",
    "1. медиану, первый и третий квартили, интерквартильное расстояние,\n",
    "2. выборсы в выборке (используя для этого метод как при построении \"усов\" из boxplot).\n",
    "\n",
    "Возможные неоднозначности в вычислении квантилей можно разрешать любым способом."
   ]
  },
  {
   "cell_type": "markdown",
   "metadata": {},
   "source": [
    "#### Решение:\n",
    "\n",
    "##### 1. медиана, первый и третий квартили, интерквартильное расстояние\n",
    "\n",
    "Квантиль порядка $\\alpha$ — такое число $t_\\alpha$, что «$\\alpha$ процентов» всех\n",
    "элементов выборки меньше $t_\\alpha$ и, соответственно, «(1 − $\\alpha$) процентов» элементов —\n",
    "больше $t_\\alpha$."
   ]
  },
  {
   "cell_type": "code",
   "execution_count": 10,
   "metadata": {},
   "outputs": [],
   "source": [
    "def quantile(data: list, order: float) -> float:\n",
    "    data = sorted(data)\n",
    "    left_slice_len = int(len(data)*order)\n",
    "    right_slice_len = int(len(data)*(1 - order))\n",
    "    return sum(data[left_slice_len - 1 : left_slice_len]) / 2 if left_slice_len + right_slice_len == len(data) else \\\n",
    "           data[left_slice_len]"
   ]
  },
  {
   "cell_type": "code",
   "execution_count": 11,
   "metadata": {},
   "outputs": [],
   "source": [
    "def median(data: list) -> float:\n",
    "    return quantile(data, 0.5)"
   ]
  },
  {
   "cell_type": "code",
   "execution_count": 12,
   "metadata": {},
   "outputs": [
    {
     "data": {
      "text/plain": [
       "70"
      ]
     },
     "execution_count": 12,
     "metadata": {},
     "output_type": "execute_result"
    }
   ],
   "source": [
    "median(data)"
   ]
  },
  {
   "cell_type": "code",
   "execution_count": 13,
   "metadata": {},
   "outputs": [
    {
     "data": {
      "text/plain": [
       "45"
      ]
     },
     "execution_count": 13,
     "metadata": {},
     "output_type": "execute_result"
    }
   ],
   "source": [
    "# Первый квантиль\n",
    "quantile_1 = quantile(data, 0.25)\n",
    "quantile_1"
   ]
  },
  {
   "cell_type": "code",
   "execution_count": 14,
   "metadata": {},
   "outputs": [
    {
     "data": {
      "text/plain": [
       "84"
      ]
     },
     "execution_count": 14,
     "metadata": {},
     "output_type": "execute_result"
    }
   ],
   "source": [
    "# Третий квантиль\n",
    "quantile_3 = quantile(data, 0.75)\n",
    "quantile_3"
   ]
  },
  {
   "cell_type": "code",
   "execution_count": 15,
   "metadata": {},
   "outputs": [
    {
     "data": {
      "text/plain": [
       "39"
      ]
     },
     "execution_count": 15,
     "metadata": {},
     "output_type": "execute_result"
    }
   ],
   "source": [
    "# Интерквантильное расстояние\n",
    "interquantile_distance = quantile_3 - quantile_1\n",
    "interquantile_distance"
   ]
  },
  {
   "cell_type": "markdown",
   "metadata": {},
   "source": [
    "##### 2. выбросы в выборке (используя для этого метод как при построении \"усов\" из boxplot)."
   ]
  },
  {
   "cell_type": "code",
   "execution_count": 16,
   "metadata": {},
   "outputs": [
    {
     "data": {
      "text/plain": [
       "(-13.5, 142.5)"
      ]
     },
     "execution_count": 16,
     "metadata": {},
     "output_type": "execute_result"
    }
   ],
   "source": [
    "boxplot_range = (quantile_1 - 1.5 * interquantile_distance, quantile_3 + 1.5 * interquantile_distance)\n",
    "boxplot_range"
   ]
  },
  {
   "cell_type": "code",
   "execution_count": 17,
   "metadata": {},
   "outputs": [
    {
     "data": {
      "text/plain": [
       "[230, 150]"
      ]
     },
     "execution_count": 17,
     "metadata": {},
     "output_type": "execute_result"
    }
   ],
   "source": [
    "outliers = [elem for elem in data if not boxplot_range[0] <= elem <= boxplot_range[1]]\n",
    "outliers"
   ]
  },
  {
   "cell_type": "markdown",
   "metadata": {},
   "source": [
    "### Задача 3\n",
    "#### Условие:\n",
    "В университет на факультеты `A` и `B` поступило равное количество студентов, а на факультет `C` студентов поступило столько же, сколько на `A` и `B` вместе. Вероятность того, что студент факультета `A` сдаст первую сессию, равна `0.8`. Для студента факультета `B` эта вероятность равна `0.7`, а для студента факультета `C` - `0.9`. \n",
    "\n",
    "Студент сдал первую сессию. Какова вероятность, что он учится: \n",
    "    \n",
    "    a) на факультете A? \n",
    "    б) на факультете B?\n",
    "    в) на факультете C?\n",
    "\n",
    "___Замечание: да, эта задача не на тему описательных статистик, но тема важная, и её стоит иногда освежать в памяти.___"
   ]
  },
  {
   "cell_type": "markdown",
   "metadata": {},
   "source": [
    "#### Решение:\n",
    "Пусть:\n",
    "\n",
    "$A$ - студент учится на факультете `A`\n",
    "\n",
    "$B$ - студент учится на факультете `B`\n",
    "\n",
    "$C$ - студент учится на факультете `C`\n",
    "\n",
    "\n",
    "Пусть на факультеты `A` и `B` поступило по $x$ человек, тогда на факультет `C` - $2x$"
   ]
  },
  {
   "cell_type": "markdown",
   "metadata": {},
   "source": [
    "Всего учится $x + x + 2x = 4x$ студентов.\n",
    "\n",
    "$P(A)=\\dfrac{x}{4x}=\\dfrac{1}{4}$\n",
    "\n",
    "$P(B)=\\dfrac{x}{4x}=\\dfrac{1}{4}$\n",
    "\n",
    "$P(C)=\\dfrac{2x}{4x}=\\dfrac{2}{4}=\\dfrac{1}{2}$"
   ]
  },
  {
   "cell_type": "markdown",
   "metadata": {},
   "source": [
    "Пусть событие $E$ означает, что студент сдал сессию, тогда:\n",
    "\n",
    "$P(E|A) = 0.8$\n",
    "\n",
    "$P(E|B) = 0.7$\n",
    "\n",
    "$P(E|C) = 0.9$\n"
   ]
  },
  {
   "cell_type": "markdown",
   "metadata": {},
   "source": [
    "__Cобытия $H_1, H_2, \\dots , H_n$ образуют полную группу событий, если они\n",
    "несовместны, и в ходе любого испытания одно из этих событий обязательно произойдёт.__\n",
    "\n",
    "__Формула полной вероятности для таких событий и произвольного события A:\n",
    "$P(A) = P(A|H_1) * P(H_1) + P(A|H_2) * P(H_2) + \\dots + P(A|H_n) * P(H_n)$__\n",
    "\n",
    "Т.к. студент по условию сдал, то можно воспользоваться данной формулой.\n",
    "\n",
    "Тогда:\n",
    "\n",
    "$P(E) = P(E|A) * P(A) + P(E|B) * P(B) + P(E|C) * P(C) = 0.8 * \\dfrac {1}{4} + 0.7 * \\dfrac {1}{4} + 0.9 * \\dfrac {1}{2}$\n",
    "\n"
   ]
  },
  {
   "cell_type": "code",
   "execution_count": 18,
   "metadata": {},
   "outputs": [
    {
     "data": {
      "text/plain": [
       "0.825"
      ]
     },
     "execution_count": 18,
     "metadata": {},
     "output_type": "execute_result"
    }
   ],
   "source": [
    "0.8/4 + 0.7/4 + 0.9/2"
   ]
  },
  {
   "cell_type": "markdown",
   "metadata": {},
   "source": [
    "Формула Байеса (в общем виде):\n",
    "$$P(A|B) = \\dfrac {{P(B|A) * P(A)}}{P(B)}$$\n",
    "\n",
    "В данных случаях:"
   ]
  },
  {
   "cell_type": "markdown",
   "metadata": {},
   "source": [
    "Для факультета $A$:\n",
    "$P(A|E) = \\dfrac {{P(E|A) * P(A)}}{P(E)} = \\dfrac {{0.8 * \\dfrac {1}{4}}}{0.825}$ "
   ]
  },
  {
   "cell_type": "code",
   "execution_count": 19,
   "metadata": {},
   "outputs": [
    {
     "data": {
      "text/plain": [
       "0.24242424242424246"
      ]
     },
     "execution_count": 19,
     "metadata": {},
     "output_type": "execute_result"
    }
   ],
   "source": [
    "0.8 / 4 / 0.825"
   ]
  },
  {
   "cell_type": "markdown",
   "metadata": {},
   "source": [
    "Для факультета $B$:\n",
    "$P(B|E) = \\dfrac {{P(E|B) * P(B)}}{P(E)} = \\dfrac {{0.7 * \\dfrac {1}{4}}}{0.825}$ "
   ]
  },
  {
   "cell_type": "code",
   "execution_count": 20,
   "metadata": {},
   "outputs": [
    {
     "data": {
      "text/plain": [
       "0.21212121212121213"
      ]
     },
     "execution_count": 20,
     "metadata": {},
     "output_type": "execute_result"
    }
   ],
   "source": [
    "0.7 / 4 / 0.825"
   ]
  },
  {
   "cell_type": "markdown",
   "metadata": {},
   "source": [
    "Для факультета $C$:\n",
    "$P(C|E) = \\dfrac {{P(E|C) * P(C)}}{P(E)} = \\dfrac {{0.9 * \\dfrac {1}{2}}}{0.825}$ "
   ]
  },
  {
   "cell_type": "code",
   "execution_count": 21,
   "metadata": {},
   "outputs": [
    {
     "data": {
      "text/plain": [
       "0.5454545454545455"
      ]
     },
     "execution_count": 21,
     "metadata": {},
     "output_type": "execute_result"
    }
   ],
   "source": [
    "0.9 / 2 / 0.825"
   ]
  },
  {
   "cell_type": "code",
   "execution_count": null,
   "metadata": {},
   "outputs": [],
   "source": []
  }
 ],
 "metadata": {
  "kernelspec": {
   "display_name": "Python 3",
   "language": "python",
   "name": "python3"
  },
  "language_info": {
   "codemirror_mode": {
    "name": "ipython",
    "version": 3
   },
   "file_extension": ".py",
   "mimetype": "text/x-python",
   "name": "python",
   "nbconvert_exporter": "python",
   "pygments_lexer": "ipython3",
   "version": "3.7.6"
  }
 },
 "nbformat": 4,
 "nbformat_minor": 4
}
