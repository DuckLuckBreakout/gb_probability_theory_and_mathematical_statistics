{
 "cells": [
  {
   "cell_type": "markdown",
   "metadata": {},
   "source": [
    "# Урок 7\n",
    "## Линейная регрессия. Однофакторный дисперсионный анализ"
   ]
  },
  {
   "cell_type": "markdown",
   "metadata": {},
   "source": [
    "### Задача 1\n",
    "\n",
    "#### Условие: \n",
    "Дана матрица объект-признак\n",
    "\n",
    "```\n",
    "X = [[ 1.22401313, 2.30868478, 3.03636353, 2.69287214],\n",
    "[-0.18757272, 1.30337355, 5.12093014, 3.46363202],\n",
    "[-0.81094525, 1.82463398, 5.79686488, 1.86159445],\n",
    "[ 0.75129018, 2.67392052, 3.65529809, 1.66746094],\n",
    "[ 0.00972362, 1.97367255, 2.50594319, 1.69755173],\n",
    "[-0.62972637, 0.77750764, 2.84124027, 4.54410559],\n",
    "[ 2.29536229, 1.81206697, 1.95026215, 1.51874636],\n",
    "[ 0.0920418 , 2.26971361, 7.47708735, 2.61081203],\n",
    "[ 2.39252799, 3.17563985, 3.61420599, 5.10773362],\n",
    "[ 0.54983815, 2.87988651, 1.65752765, 1.59635987]]\n",
    "```\n",
    "\n",
    "и значения целевой переменной\n",
    "\n",
    "```\n",
    "y = [ 9.26193358, 9.700363 , 8.67214805, 8.74796974, 6.18689108,\n",
    "7.53312713, 7.57643777, 12.44965478, 14.29010746, 6.68361218]\n",
    "```\n",
    "\n",
    "1. Подберите два признака (из четырёх) так, чтобы уровень линейной зависимости целевой переменной от значений этих признаков был максимальным. Другими словами, модель линейной регрессии на этих признаках должна давать наилучший результат.\n",
    "\n",
    "2. Является ли значимым получившееся уравнение регрессии?"
   ]
  },
  {
   "cell_type": "markdown",
   "metadata": {},
   "source": [
    "#### Решение:\n",
    "\n",
    "##### Пункт 1:"
   ]
  },
  {
   "cell_type": "code",
   "execution_count": 38,
   "metadata": {},
   "outputs": [],
   "source": [
    "import numpy as np"
   ]
  },
  {
   "cell_type": "code",
   "execution_count": 39,
   "metadata": {},
   "outputs": [],
   "source": [
    "X = np.array([[ 1.22401313, 2.30868478, 3.03636353, 2.69287214],\n",
    "              [-0.18757272, 1.30337355, 5.12093014, 3.46363202],\n",
    "              [-0.81094525, 1.82463398, 5.79686488, 1.86159445],\n",
    "              [ 0.75129018, 2.67392052, 3.65529809, 1.66746094],\n",
    "              [ 0.00972362, 1.97367255, 2.50594319, 1.69755173],\n",
    "              [-0.62972637, 0.77750764, 2.84124027, 4.54410559],\n",
    "              [ 2.29536229, 1.81206697, 1.95026215, 1.51874636],\n",
    "              [ 0.0920418 , 2.26971361, 7.47708735, 2.61081203],\n",
    "              [ 2.39252799, 3.17563985, 3.61420599, 5.10773362],\n",
    "              [ 0.54983815, 2.87988651, 1.65752765, 1.59635987]])\n",
    "\n",
    "Y = np.array([ 9.26193358, 9.700363 , 8.67214805, 8.74796974, 6.18689108,\n",
    "               7.53312713, 7.57643777, 12.44965478, 14.29010746, 6.68361218])"
   ]
  },
  {
   "cell_type": "markdown",
   "metadata": {},
   "source": [
    "Для каждой пары признаков построим модель линейной регрессии.\n",
    "\n",
    "Считать коэффициенты линейной регрессии будем по формуле:\n",
    "\n",
    "$$ b = (X^TX)^{-1}X^Ty $$\n",
    "\n",
    "Т.к. в данной формуле $X$ - расширенная матрица, то необходимо добавить столбец из единиц:\n",
    "```python\n",
    "X = np.ones((x.shape[0], 1))\n",
    "```\n",
    "\n",
    "Найдем предсказанные значения моделью:\n",
    "\n",
    "$y_{pred} = X * b$\n",
    "\n",
    "Найдем ошибки модели:\n",
    "\n",
    "$E = y - y_{pred}$\n",
    "\n",
    "Найдем коэффициент детерминации:\n",
    "\n",
    "$$R^2 = 1 - \\frac {\\sigma^2_E} {\\sigma^2_y}$$"
   ]
  },
  {
   "cell_type": "code",
   "execution_count": 40,
   "metadata": {},
   "outputs": [],
   "source": [
    "def determ(x: np.array, y: np.array) -> float:\n",
    "    X_tmp = x.copy()\n",
    "    \n",
    "    ones  = np.ones((X_tmp.shape[0], 1))\n",
    "    X_tmp = np.hstack([ones, X_tmp])\n",
    "    \n",
    "    b = np.linalg.inv(X_tmp.T.dot(X_tmp)).dot(X_tmp.T).dot(y)\n",
    "    \n",
    "    y_pred = X_tmp.dot(b)\n",
    "    \n",
    "    E = y - y_pred\n",
    "    \n",
    "    return 1 - E.var() / y.var()"
   ]
  },
  {
   "cell_type": "code",
   "execution_count": 50,
   "metadata": {},
   "outputs": [
    {
     "data": {
      "text/plain": [
       "(0, 2, 0.7634246238793152)"
      ]
     },
     "execution_count": 50,
     "metadata": {},
     "output_type": "execute_result"
    }
   ],
   "source": [
    "import itertools\n",
    "\n",
    "R = []\n",
    "for i, j in itertools.combinations(range(X.shape[1]), 2):\n",
    "    R.append((i, j, determ(X[:, [i, j]], Y)))\n",
    "\n",
    "r = sorted(R, key=lambda r: r[2])[-1]\n",
    "r"
   ]
  },
  {
   "cell_type": "markdown",
   "metadata": {},
   "source": [
    "Получили, что признаки с индексами $0$ и $2$ дают наилучший ответ."
   ]
  },
  {
   "cell_type": "markdown",
   "metadata": {},
   "source": [
    "##### Пункт 2:\n",
    "Проверим значимость этой зависимости с помощью распределение Фишера:\n",
    "\n",
    "$$ F = \\frac {\\frac {R^2}{m}}{\\frac {1-R^2}{n - m - 1}} $$\n",
    "\n",
    "Где:\n",
    "\n",
    "$ m = 2$, \n",
    "\n",
    "$k_1 = m$, \n",
    "\n",
    "$k_2 = n - m - 1$\n"
   ]
  },
  {
   "cell_type": "code",
   "execution_count": 51,
   "metadata": {},
   "outputs": [
    {
     "data": {
      "text/plain": [
       "11.29443912292265"
      ]
     },
     "execution_count": 51,
     "metadata": {},
     "output_type": "execute_result"
    }
   ],
   "source": [
    "m = 2\n",
    "k_1 = 2\n",
    "k_2 = X.shape[0] - m - 1\n",
    "\n",
    "r = r[-1]\n",
    "F = (r / k_1) / ((1 - r) / k_2)\n",
    "\n",
    "F"
   ]
  },
  {
   "cell_type": "markdown",
   "metadata": {},
   "source": [
    "Найдем критическую область при $\\alpha = 0.05$"
   ]
  },
  {
   "cell_type": "code",
   "execution_count": 52,
   "metadata": {},
   "outputs": [
    {
     "data": {
      "text/plain": [
       "4.73741412777588"
      ]
     },
     "execution_count": 52,
     "metadata": {},
     "output_type": "execute_result"
    }
   ],
   "source": [
    "from scipy import stats\n",
    "\n",
    "alpha = 0.05\n",
    "\n",
    "t = stats.f.ppf(1 - alpha, k_1, k_2)\n",
    "t"
   ]
  },
  {
   "cell_type": "markdown",
   "metadata": {},
   "source": [
    "Критическая область: \n",
    "$$\\Omega_\\alpha = (4.7374, +\\infty)$$\n",
    "\n",
    "Проверим, попадает ли значение статистики в критическую область:"
   ]
  },
  {
   "cell_type": "code",
   "execution_count": 53,
   "metadata": {},
   "outputs": [
    {
     "data": {
      "text/plain": [
       "True"
      ]
     },
     "execution_count": 53,
     "metadata": {},
     "output_type": "execute_result"
    }
   ],
   "source": [
    "F > t"
   ]
  },
  {
   "cell_type": "markdown",
   "metadata": {},
   "source": [
    "Попадает, значит уравнение регрессии признается статистически значимым."
   ]
  },
  {
   "cell_type": "markdown",
   "metadata": {},
   "source": [
    "### Задача 2\n",
    "#### Условие: \n",
    "Для проведения `A/B-тестирования` сайта интернет-магазина были получены следующие данные: страница `A` была посещена `2509 раз`, из них `77` закончились совершением покупки, страница `B` была посещена `1465 раз`, `60` из них закончились совершением покупки. Является ли значимым отличие конверсии на страницах `A` и `B`?"
   ]
  },
  {
   "cell_type": "markdown",
   "metadata": {},
   "source": [
    "#### Решение:\n",
    "\n",
    "В данном случае можно применить однофакторный дисперсионный анализ.\n",
    "\n",
    "Для каждой страницы построим выборку совершения покупки:\n",
    "\n",
    "1 - была покупка\n",
    "\n",
    "0 - покупки не было\n"
   ]
  },
  {
   "cell_type": "code",
   "execution_count": 56,
   "metadata": {},
   "outputs": [],
   "source": [
    "n1 = 2509\n",
    "n2 = 1465\n",
    "\n",
    "y1 = np.zeros(n1)\n",
    "y1[np.arange(77)] = 1\n",
    "\n",
    "y2 = np.zeros(n2)\n",
    "y2[np.arange(60)] = 1\n",
    "\n",
    "y = np.concatenate([y1, y2])\n",
    "n = n1 + n2"
   ]
  },
  {
   "cell_type": "markdown",
   "metadata": {},
   "source": [
    "Найдем средние значения:"
   ]
  },
  {
   "cell_type": "code",
   "execution_count": 57,
   "metadata": {},
   "outputs": [
    {
     "data": {
      "text/plain": [
       "(0.03068951773614986, 0.040955631399317405, 0.03447408152994464)"
      ]
     },
     "execution_count": 57,
     "metadata": {},
     "output_type": "execute_result"
    }
   ],
   "source": [
    "y1_mean = y1.mean()\n",
    "y2_mean = y2.mean()\n",
    "\n",
    "y_mean = y.mean()\n",
    "\n",
    "y1_mean, y2_mean, y_mean"
   ]
  },
  {
   "cell_type": "markdown",
   "metadata": {},
   "source": [
    "Найдем значения $SS_b$, $SS_w$"
   ]
  },
  {
   "cell_type": "code",
   "execution_count": 58,
   "metadata": {},
   "outputs": [
    {
     "data": {
      "text/plain": [
       "(0.09748158004016791, 132.17956925035745)"
      ]
     },
     "execution_count": 58,
     "metadata": {},
     "output_type": "execute_result"
    }
   ],
   "source": [
    "SS_b = n1 * (y1_mean - y_mean)**2 + n2 * (y2_mean - y_mean)**2\n",
    "\n",
    "SS_w = ((y1 - y1_mean)**2).sum() + ((y2 - y2_mean)**2).sum()\n",
    "\n",
    "SS_b, SS_w"
   ]
  },
  {
   "cell_type": "markdown",
   "metadata": {},
   "source": [
    "Найдем дисперсии:"
   ]
  },
  {
   "cell_type": "code",
   "execution_count": 59,
   "metadata": {},
   "outputs": [
    {
     "data": {
      "text/plain": [
       "(0.09748158004016791, 0.03327783717279895)"
      ]
     },
     "execution_count": 59,
     "metadata": {},
     "output_type": "execute_result"
    }
   ],
   "source": [
    "k = 2\n",
    "\n",
    "k_1 = k - 1\n",
    "k_2 = n - k\n",
    "\n",
    "sigma2_b = SS_b / k_1\n",
    "sigma2_w = SS_w / k_2\n",
    "\n",
    "sigma2_b, sigma2_w"
   ]
  },
  {
   "cell_type": "markdown",
   "metadata": {},
   "source": [
    "Найдем значение статистики:\n"
   ]
  },
  {
   "cell_type": "code",
   "execution_count": 60,
   "metadata": {},
   "outputs": [
    {
     "data": {
      "text/plain": [
       "2.9293243889013496"
      ]
     },
     "execution_count": 60,
     "metadata": {},
     "output_type": "execute_result"
    }
   ],
   "source": [
    "F = sigma2_b / sigma2_w\n",
    "F"
   ]
  },
  {
   "cell_type": "markdown",
   "metadata": {},
   "source": [
    "Найдем критическую область при $\\alpha = 0.05$:"
   ]
  },
  {
   "cell_type": "code",
   "execution_count": 61,
   "metadata": {},
   "outputs": [
    {
     "data": {
      "text/plain": [
       "3.8438010503414866"
      ]
     },
     "execution_count": 61,
     "metadata": {},
     "output_type": "execute_result"
    }
   ],
   "source": [
    "alpha = 0.05\n",
    "\n",
    "t = stats.f.ppf(1 - alpha, k_1, k_2)\n",
    "t"
   ]
  },
  {
   "cell_type": "markdown",
   "metadata": {},
   "source": [
    "Критическая область: \n",
    "$$\\Omega_\\alpha = (3.8438, +\\infty)$$\n",
    "\n",
    "Проверим, попадает ли значение статистики в критическую область:"
   ]
  },
  {
   "cell_type": "code",
   "execution_count": 62,
   "metadata": {},
   "outputs": [
    {
     "data": {
      "text/plain": [
       "False"
      ]
     },
     "execution_count": 62,
     "metadata": {},
     "output_type": "execute_result"
    }
   ],
   "source": [
    "F > t"
   ]
  },
  {
   "cell_type": "markdown",
   "metadata": {},
   "source": [
    "Значение статистики не попало в критическую область, сл-но конверсия на страницах `A` и `B` не имеет значимого отличия"
   ]
  },
  {
   "cell_type": "markdown",
   "metadata": {},
   "source": [
    "### Задача 3\n",
    "\n",
    "#### Условие:\n",
    "__Квартет Энскомба__ — популярный в области анализа данных пример наборов данных, у которых практически совпадают все статистические свойства (средние, дисперсии, коэффициенты корреляции, регрессионные линии), однако, существенно отличаются графики. Данный пример призван показать, насколько важна визуализация данных. Датасет представляет собой 4 пары выборок:\n",
    "\n",
    "```json\n",
    "{\n",
    "    \"x1\": [10.0, 8.0, 13.0, 9.0, 11.0, 14.0, 6.0, 4.0, 12.0, 7.0, 5.0],\n",
    "    \"y1\": [8.04, 6.95, 7.58, 8.81, 8.33, 9.96, 7.24, 4.26, 10.84, 4.82, 5.68],\n",
    "    \"x2\": [10.0, 8.0, 13.0, 9.0, 11.0, 14.0, 6.0, 4.0, 12.0, 7.0, 5.0],\n",
    "    \"y2\": [9.14, 8.14, 8.74, 8.77, 9.26, 8.1, 6.13, 3.1, 9.13, 7.26, 4.74],\n",
    "    \"x3\": [10.0, 8.0, 13.0, 9.0, 11.0, 14.0, 6.0, 4.0, 12.0, 7.0, 5.0],\n",
    "    \"y3\": [7.46, 6.77, 12.74, 7.11, 7.81, 8.84, 6.08, 5.39, 8.15, 6.42, 5.73],\n",
    "    \"x4\": [8.0, 8.0, 8.0, 8.0, 8.0, 8.0, 8.0, 19.0, 8.0, 8.0, 8.0],\n",
    "    \"y4\": [6.58, 5.76, 7.71, 8.84, 8.47, 7.04, 5.25, 12.5, 5.56, 7.91, 6.89]\n",
    "}\n",
    "```\n",
    "По каждой паре выборок посчитайте:\n",
    "\n",
    "1. выборочное среднее и дисперсию каждой выборки,\n",
    "2. коэффициент корреляции Пирсона и прямую линейной регрессии.\n",
    "\n",
    "Убедившись в том, что они не практически не отличаются, постройте `scatter plot` по каждой паре выборок."
   ]
  },
  {
   "cell_type": "markdown",
   "metadata": {},
   "source": [
    "#### Решение:"
   ]
  },
  {
   "cell_type": "code",
   "execution_count": 63,
   "metadata": {},
   "outputs": [],
   "source": [
    "df = {\n",
    "    \"x1\": [10.0, 8.0, 13.0, 9.0, 11.0, 14.0, 6.0, 4.0, 12.0, 7.0, 5.0],\n",
    "    \"y1\": [8.04, 6.95, 7.58, 8.81, 8.33, 9.96, 7.24, 4.26, 10.84, 4.82, 5.68],\n",
    "    \"x2\": [10.0, 8.0, 13.0, 9.0, 11.0, 14.0, 6.0, 4.0, 12.0, 7.0, 5.0],\n",
    "    \"y2\": [9.14, 8.14, 8.74, 8.77, 9.26, 8.1, 6.13, 3.1, 9.13, 7.26, 4.74],\n",
    "    \"x3\": [10.0, 8.0, 13.0, 9.0, 11.0, 14.0, 6.0, 4.0, 12.0, 7.0, 5.0],\n",
    "    \"y3\": [7.46, 6.77, 12.74, 7.11, 7.81, 8.84, 6.08, 5.39, 8.15, 6.42, 5.73],\n",
    "    \"x4\": [8.0, 8.0, 8.0, 8.0, 8.0, 8.0, 8.0, 19.0, 8.0, 8.0, 8.0],\n",
    "    \"y4\": [6.58, 5.76, 7.71, 8.84, 8.47, 7.04, 5.25, 12.5, 5.56, 7.91, 6.89]\n",
    "}"
   ]
  },
  {
   "cell_type": "code",
   "execution_count": 71,
   "metadata": {},
   "outputs": [
    {
     "name": "stdout",
     "output_type": "stream",
     "text": [
      "Выборка №1:\n",
      "Выборочные средние: \t9.0\t7.500909090909093\n",
      "Выборочные диспресии: \t10.0\t3.7520628099173554\n",
      "Коэффициент корреляции Пирсона:\t0.81642051634484\n",
      "==================================================\n",
      "Выборка №2:\n",
      "Выборочные средние: \t9.0\t7.50090909090909\n",
      "Выборочные диспресии: \t10.0\t3.752390082644628\n",
      "Коэффициент корреляции Пирсона:\t0.8162365060002427\n",
      "==================================================\n",
      "Выборка №3:\n",
      "Выборочные средние: \t9.0\t7.5\n",
      "Выборочные диспресии: \t10.0\t3.747836363636364\n",
      "Коэффициент корреляции Пирсона:\t0.8162867394895982\n",
      "==================================================\n",
      "Выборка №4:\n",
      "Выборочные средние: \t9.0\t7.500909090909091\n",
      "Выборочные диспресии: \t10.0\t3.7484082644628103\n",
      "Коэффициент корреляции Пирсона:\t0.8165214368885028\n",
      "==================================================\n"
     ]
    }
   ],
   "source": [
    "for i in range(1, len(df.keys()) // 2 + 1):\n",
    "    x, y = df[f'x{i}'], df[f'y{i}']\n",
    "    \n",
    "    print(f'Выборка №{i}:')\n",
    "    print(f'Выборочные средние: \\t{np.mean(x)}\\t{np.mean(y)}')\n",
    "    print(f'Выборочные диспресии: \\t{np.var(x)}\\t{np.var(y)}')\n",
    "    print(f'Коэффициент корреляции Пирсона:\\t{np.corrcoef(x, y)[0, 1]}')\n",
    "    print('='*50)\n",
    "\n",
    "\n",
    "    "
   ]
  },
  {
   "cell_type": "code",
   "execution_count": 72,
   "metadata": {},
   "outputs": [],
   "source": [
    "import matplotlib.pyplot as plt\n",
    "plt.style.use('seaborn-whitegrid')"
   ]
  },
  {
   "cell_type": "code",
   "execution_count": 80,
   "metadata": {},
   "outputs": [
    {
     "name": "stdout",
     "output_type": "stream",
     "text": [
      "Выборка №1: b_0 = 3.0000909090909103\tb_1 = 0.5000909090909091\n",
      "Выборка №2: b_0 = 3.00090909090909\tb_1 = 0.5\n",
      "Выборка №3: b_0 = 3.0024545454545457\tb_1 = 0.4997272727272727\n",
      "Выборка №4: b_0 = 3.0017272727272726\tb_1 = 0.4999090909090909\n"
     ]
    },
    {
     "data": {
      "image/png": "[encoded data removed]",
      "text/plain": [
       "<Figure size 720x1440 with 4 Axes>"
      ]
     },
     "metadata": {},
     "output_type": "display_data"
    }
   ],
   "source": [
    "fig, axes = plt.subplots(nrows=4)\n",
    "fig.set_size_inches(10, 20)\n",
    "\n",
    "ox = np.linspace(3, 20, 10000)\n",
    "\n",
    "for i, ax in enumerate(axes.flatten()):\n",
    "    i += 1\n",
    "    \n",
    "    x, y = df[f'x{i}'], df[f'y{i}']\n",
    "    b_1 = np.cov(x, y, ddof=0)[0,1] / np.var(x, ddof=0)\n",
    "    b_0 = np.mean(y) - b_1 * np.mean(x)\n",
    "    \n",
    "    print(f'Выборка №{i}: b_0 = {b_0}\\tb_1 = {b_1}')\n",
    "    oy = b_0 + b_1 * ox\n",
    "    \n",
    "    ax.scatter(x, y)\n",
    "    ax.plot(ox, oy, c='red')\n",
    "    \n",
    "    ax.set_xlim(3, 20)\n",
    "    ax.set_ylim(2, 14)\n",
    "    \n",
    "    ax.set_title(f'Выборка №{i}')"
   ]
  },
  {
   "cell_type": "code",
   "execution_count": null,
   "metadata": {},
   "outputs": [],
   "source": []
  }
 ],
 "metadata": {
  "kernelspec": {
   "display_name": "Python 3",
   "language": "python",
   "name": "python3"
  },
  "language_info": {
   "codemirror_mode": {
    "name": "ipython",
    "version": 3
   },
   "file_extension": ".py",
   "mimetype": "text/x-python",
   "name": "python",
   "nbconvert_exporter": "python",
   "pygments_lexer": "ipython3",
   "version": "3.7.6"
  }
 },
 "nbformat": 4,
 "nbformat_minor": 4
}
